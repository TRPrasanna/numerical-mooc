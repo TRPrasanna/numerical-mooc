{
 "cells": [
  {
   "cell_type": "markdown",
   "metadata": {
    "deletable": true,
    "editable": true
   },
   "source": [
    "###### Content under Creative Commons Attribution license CC-BY 4.0, code under MIT license (c)2014 L.A. Barba, C.D. Cooper, G.F. Forsyth."
   ]
  },
  {
   "cell_type": "markdown",
   "metadata": {
    "deletable": true,
    "editable": true
   },
   "source": [
    "# Riding the wave"
   ]
  },
  {
   "cell_type": "markdown",
   "metadata": {
    "deletable": true,
    "editable": true
   },
   "source": [
    "We've reached the third lesson of the module _Riding the wave: Convection problems_, where we explore the numerical solution of conservation laws. We learned in the [first lesson](http://nbviewer.ipython.org/github/numerical-mooc/numerical-mooc/blob/master/lessons/03_wave/03_01_conservationLaw.ipynb) how to think about conservation laws, starting with the most intuitive case: that of conservation of mass. But there are many physical quantities that can be conserved: energy, for example. Or cars on a road.\n",
    "\n",
    "Developing a conservation law for traffic in a one-lane roadway is fun, because we can relate to the insights it gives. We've all experienced traffic slowing down to a crawl when the density of cars gets very high, and stepping on the accelerator pedal with glee when there are no cars on the road!\n",
    "\n",
    "In the previous two lessons, we developed a traffic-flow model and explored [different choices of numerical scheme](http://nbviewer.ipython.org/github/numerical-mooc/numerical-mooc/blob/master/lessons/03_wave/03_02_convectionSchemes.ipynb).  Not everything worked as you expected, and by now you might be realizing how some restrictions come about from the numerical methods themselves, while others still are imposed by the models we use. This lesson will develop a better traffic model, and also show you some impressive SymPy kung fu."
   ]
  },
  {
   "cell_type": "markdown",
   "metadata": {
    "deletable": true,
    "editable": true
   },
   "source": [
    "## Traffic flow, revisited"
   ]
  },
  {
   "cell_type": "markdown",
   "metadata": {
    "deletable": true,
    "editable": true
   },
   "source": [
    "### A better flux model"
   ]
  },
  {
   "cell_type": "markdown",
   "metadata": {
    "deletable": true,
    "editable": true
   },
   "source": [
    "Like you saw in the first lesson, cars obey a typical conservation law,\n",
    "\n",
    "\\begin{equation}\n",
    " \\frac{\\partial \\rho}{\\partial t} + \\frac{\\partial F}{\\partial x} = 0, \\end{equation}\n",
    "\n",
    "where $F$ is the flux, $F=\\rho u$—flux equals density times velocity. From our experience on the road, we know that the traffic speed is a function of traffic density, and we proposed as a first approximation a linear relation between the two. Thus,\n",
    "\n",
    "\\begin{equation}\n",
    "F(\\rho) = \\rho \\, u_{max}\\left(1 - \\frac{\\rho}{\\rho_{max}} \\right)\n",
    "\\end{equation}\n",
    "\n",
    "This flux model meets the two requirements, based on a qualitative view of traffic flow, that:\n",
    "1.  $u \\rightarrow u_{max}$ and $F\\rightarrow 0$ when $\\rho \\rightarrow 0$.\n",
    "2.  $u \\rightarrow 0$ as $\\rho \\rightarrow \\rho_{max}$\n",
    "\n",
    "However, it leads to some unrealistic or at least improbable results.  For example, note that if the traffic speed is a linear function of density, the flux function will be quadratic (see Figure 1). In this case, the maximum flux will occur when $\\rho^{\\star} = \\rho_{max}/2$, corresponding to a traffic speed $u_{max}/2$.  "
   ]
  },
  {
   "cell_type": "markdown",
   "metadata": {
    "deletable": true,
    "editable": true
   },
   "source": [
    "![velocity_and_flux](./figures/velocity_and_flux.png)\n",
    "#### Figure 1. Traffic speed (left) and flux (right) vs. density."
   ]
  },
  {
   "cell_type": "markdown",
   "metadata": {
    "deletable": true,
    "editable": true
   },
   "source": [
    "A good question to ask here is:  should the maximum flux on a given stretch of road have a strict dependence on the maximum speed that the roadway allows, be it by physical restrictions or posted speed limits? In other words, do we really expect the maximum flux to increase if we allow arbitrarily high speeds? \n",
    "\n",
    "Probably not.  But there *should* be some ideal traffic speed, $u^{\\star}$, corresponding to an ideal traffic density, $\\rho^{\\star}$, resulting in the maximum traffic flux:\n",
    "\n",
    "\\begin{equation}F_{\\rm max} = \\rho^{\\star}u^{\\star}\\end{equation}\n",
    "\n",
    "Let us improve the initial flux model by taking this observation into account. One thing that we can try is to introduce a flux model that is cubic in $\\rho$ instead of quadratic:\n",
    "\n",
    "\\begin{equation}F(\\rho) = u_{\\rm max}\\rho (1 - A\\rho - B \\rho^2)\\end{equation}\n",
    "\n",
    "This new model still meets the first criterion listed above: $F\\rightarrow 0$ when $\\rho \\rightarrow 0$. Moreover, we impose the following conditions:\n",
    "\n",
    "*  When $\\rho = \\rho_{\\rm max}$ traffic flux goes to zero:\n",
    "\n",
    "\\begin{equation}F(\\rho_{\\rm max}) = 0 = u_{\\rm max}\\, \\rho_{\\rm max}(1 - A \\rho_{\\rm max} - B \\rho_{\\rm max}^2)\\end{equation}\n",
    "\n",
    "*  Based on eq. (3), maximum flux occurs when $\\rho = \\rho^{\\star}$ and $F'(\\rho^{\\star}) = 0$:\n",
    "\n",
    "\\begin{equation}\n",
    "F'(\\rho^{\\star}) = 0  = u_{\\rm max}(1 - 2A\\rho^{\\star} - 3B(\\rho^{\\star})^2)\\end{equation}\n",
    "\n",
    "*  $u^{\\star}$ is obtained when $\\rho = \\rho^{\\star}$:\n",
    "\n",
    "\\begin{equation}\n",
    "u^{\\star} = u_{\\rm max}(1 - A \\rho^{\\star} - B(\\rho^{\\star})^2)\\end{equation}\n",
    "\n",
    "We have three equations and four unknowns $A,B,\\rho^{\\star}, u^{\\star}$. However, in practice, the ideal traffic speed could be obtained for a given road by observations. Similarly to $u_{max}$ and $\\rho_{max}$ it will therefore be taken as a parameter."
   ]
  },
  {
   "cell_type": "markdown",
   "metadata": {
    "deletable": true,
    "editable": true
   },
   "source": [
    "### Solving the new flux equation"
   ]
  },
  {
   "cell_type": "markdown",
   "metadata": {
    "deletable": true,
    "editable": true
   },
   "source": [
    "Equations $(5)$, $(6)$, and $(7)$ are not incredibly difficult to solve with pen and paper. Instead of following that route, we can use [SymPy](http://sympy.org/en/index.html), the symbolic mathematics library of Python.  You used SymPy already in the [Burgers' equation lesson](http://nbviewer.ipython.org/github/numerical-mooc/numerical-mooc/blob/master/lessons/02_spacetime/02_04_1DBurgers.ipynb) of Module 2, _\"Space & Time\"_, and you will learn some new functionalities here.\n",
    "\n",
    "We begin by importing SymPy, initializing $\\LaTeX$ printing and defining a set of symbolic variables that we'll use in the calculations. Remember: variables are not defined automatically, you have to tell SymPy that a name will correspond to a symbolic variable by using the keyword `symbols`. This behavior is different from many other symbolic math systems that implicitly construct symbols for you, so you may be perplexed if you've used these other sytems before. The reason for this behavior in SymPy is that the system is fully built on Python, a general-purpose language that needs you to define all objects before using them."
   ]
  },
  {
   "cell_type": "code",
   "execution_count": 6,
   "metadata": {
    "collapsed": false,
    "deletable": true,
    "editable": true
   },
   "outputs": [],
   "source": [
    "import sympy\n",
    "sympy.init_printing()\n",
    "\n",
    "(u_max, u_star, rho_max, \n",
    " rho_star, A, B) = sympy.symbols('u_max u_star rho_max rho_star A B')"
   ]
  },
  {
   "cell_type": "markdown",
   "metadata": {
    "deletable": true,
    "editable": true
   },
   "source": [
    "Notice that we used the special character `_` (the under-dash) to create a symbol with a subscript. Here, for example, we've created the symbols $u_{max}$ and $u_{star}$, representing $u_{\\rm max}$ and $u^{\\star}$ ($u$-star) in the equations, and assigned them to the variable names `u_max` and `u_star`. SymPy also allows you to create symbols with a superscript by means of the special character `^`. Be careful, though: SymPy is built on Python, so you denote an exponent in an expression by `**` (this may also be different from other symbolic math systems that you have used in the past).\n",
    "\n",
    "Next, use `sympy.Eq()` to define the three equations—corresponding to Equations $(5)$, $(6)$ and $(7)$, above—in terms of symbolic variables. The function `sympy.Eq()` creates an equality between two SymPy objects, passed as arguments separated by a comma. We need to remember that the equal sign in Python is used for variable assignment, and for that reason it cannot be used to build a symbolic equation with SymPy. That is why we need `sympy.Eq()` to create symbolic equalities. But the equal sign _is_ used to _assign_ an equation to a name: here, `eq1`, `eq2`, `eq3` are names for the symbolic equalities we create with `sympy.Eq()`."
   ]
  },
  {
   "cell_type": "code",
   "execution_count": 7,
   "metadata": {
    "collapsed": false,
    "deletable": true,
    "editable": true
   },
   "outputs": [],
   "source": [
    "eq1 = sympy.Eq( 0, u_max*rho_max*(1 - A*rho_max-B*rho_max**2) )\n",
    "eq2 = sympy.Eq( 0, u_max*(1 - 2*A*rho_star-3*B*rho_star**2) )\n",
    "eq3 = sympy.Eq( u_star, u_max*(1 - A*rho_star - B*rho_star**2) )"
   ]
  },
  {
   "cell_type": "markdown",
   "metadata": {
    "deletable": true,
    "editable": true
   },
   "source": [
    "Check this out: you can display these equations in pretty typeset mathematics just by executing their name in a code cell:"
   ]
  },
  {
   "cell_type": "code",
   "execution_count": 8,
   "metadata": {
    "collapsed": false,
    "deletable": true,
    "editable": true
   },
   "outputs": [
    {
     "data": {
      "image/png": "[encoded data removed]",
      "text/latex": [
       "$$0 = \\rho_{max} u_{max} \\left(- A \\rho_{max} - B \\rho_{max}^{2} + 1\\right)$$"
      ],
      "text/plain": [
       "              ⎛                2    ⎞\n",
       "0 = ρₘₐₓ⋅uₘₐₓ⋅⎝-A⋅ρₘₐₓ - B⋅ρₘₐₓ  + 1⎠"
      ]
     },
     "execution_count": 8,
     "metadata": {},
     "output_type": "execute_result"
    }
   ],
   "source": [
    "eq1"
   ]
  },
  {
   "cell_type": "code",
   "execution_count": 9,
   "metadata": {
    "collapsed": false,
    "deletable": true,
    "editable": true
   },
   "outputs": [
    {
     "data": {
      "image/png": "[encoded data removed]",
      "text/latex": [
       "$$0 = u_{max} \\left(- 2 A \\rho_{star} - 3 B \\rho_{star}^{2} + 1\\right)$$"
      ],
      "text/plain": [
       "         ⎛                      2    ⎞\n",
       "0 = uₘₐₓ⋅⎝-2⋅A⋅ρₛₜₐᵣ - 3⋅B⋅ρₛₜₐᵣ  + 1⎠"
      ]
     },
     "execution_count": 9,
     "metadata": {},
     "output_type": "execute_result"
    }
   ],
   "source": [
    "eq2"
   ]
  },
  {
   "cell_type": "code",
   "execution_count": 10,
   "metadata": {
    "collapsed": false,
    "deletable": true,
    "editable": true
   },
   "outputs": [
    {
     "data": {
      "image/png": "[encoded data removed]",
      "text/latex": [
       "$$u_{star} = u_{max} \\left(- A \\rho_{star} - B \\rho_{star}^{2} + 1\\right)$$"
      ],
      "text/plain": [
       "             ⎛                  2    ⎞\n",
       "uₛₜₐᵣ = uₘₐₓ⋅⎝-A⋅ρₛₜₐᵣ - B⋅ρₛₜₐᵣ  + 1⎠"
      ]
     },
     "execution_count": 10,
     "metadata": {},
     "output_type": "execute_result"
    }
   ],
   "source": [
    "eq3"
   ]
  },
  {
   "cell_type": "markdown",
   "metadata": {
    "deletable": true,
    "editable": true
   },
   "source": [
    "As stressed above, we have three equations with three unknowns (assuming we have some observed value of $u_{star}$, corresponding to the ideal traffic speed)—there must be a solution!\n",
    "\n",
    "To eliminate the term with $B$ in `eq2`, leaving it only in terms of $A$ and $\\rho^{\\star}$, we might subtract `3*eq3`.  But this will not work in SymPy if you attempt equation subtraction using the equation names. Just like we couldn't use the equal sign (which in Python means assignment) to create a symbolic equality (needing `sympy.Eq` instead), we can't use mathematical operators directly on the SymPy equations, because they are really _equalities_. What does it mean to subtract two _equalities_? It doesn't make sense. Try it ..."
   ]
  },
  {
   "cell_type": "code",
   "execution_count": 11,
   "metadata": {
    "collapsed": false,
    "deletable": true,
    "editable": true
   },
   "outputs": [
    {
     "data": {
      "image/png": "[encoded data removed]",
      "text/latex": [
       "$$\\left(0 = u_{max} \\left(- 2 A \\rho_{star} - 3 B \\rho_{star}^{2} + 1\\right)\\right) - 3 \\left(u_{star} = u_{max} \\left(- A \\rho_{star} - B \\rho_{star}^{2} + 1\\right)\\right)$$"
      ],
      "text/plain": [
       "⎛         ⎛                      2    ⎞⎞     ⎛             ⎛                  \n",
       "⎝0 = uₘₐₓ⋅⎝-2⋅A⋅ρₛₜₐᵣ - 3⋅B⋅ρₛₜₐᵣ  + 1⎠⎠ - 3⋅⎝uₛₜₐᵣ = uₘₐₓ⋅⎝-A⋅ρₛₜₐᵣ - B⋅ρₛₜₐᵣ\n",
       "\n",
       "2    ⎞⎞\n",
       "  + 1⎠⎠"
      ]
     },
     "execution_count": 11,
     "metadata": {},
     "output_type": "execute_result"
    }
   ],
   "source": [
    "eq2 - 3*eq3"
   ]
  },
  {
   "cell_type": "markdown",
   "metadata": {
    "deletable": true,
    "editable": true
   },
   "source": [
    "See?  SymPy just printed out what you suggested but it did not manipulate algebraically the left and right sides of `eq2` like we were aiming for. What we _can_ do is create a _new_ equation, perform the left-hand side (LHS) and right-hand side (RHS) operations separately and then recombine them into our desired result. For this, it is helpful to know that there are built-in properties of a SymPy equality for the left-hand side and the right-hand side of the equality. Check it out:"
   ]
  },
  {
   "cell_type": "code",
   "execution_count": 12,
   "metadata": {
    "collapsed": false,
    "deletable": true,
    "editable": true
   },
   "outputs": [
    {
     "data": {
      "image/png": "[encoded data removed]",
      "text/latex": [
       "$$- 3 u_{star} = u_{max} \\left(- 2 A \\rho_{star} - 3 B \\rho_{star}^{2} + 1\\right) - 3 u_{max} \\left(- A \\rho_{star} - B \\rho_{star}^{2} + 1\\right)$$"
      ],
      "text/plain": [
       "                ⎛                      2    ⎞          ⎛                  2   \n",
       "-3⋅uₛₜₐᵣ = uₘₐₓ⋅⎝-2⋅A⋅ρₛₜₐᵣ - 3⋅B⋅ρₛₜₐᵣ  + 1⎠ - 3⋅uₘₐₓ⋅⎝-A⋅ρₛₜₐᵣ - B⋅ρₛₜₐᵣ  + \n",
       "\n",
       " ⎞\n",
       "1⎠"
      ]
     },
     "execution_count": 12,
     "metadata": {},
     "output_type": "execute_result"
    }
   ],
   "source": [
    "eq4 = sympy.Eq(eq2.lhs - 3*eq3.lhs, eq2.rhs - 3*eq3.rhs)\n",
    "eq4"
   ]
  },
  {
   "cell_type": "markdown",
   "metadata": {
    "deletable": true,
    "editable": true
   },
   "source": [
    "That still needs a little work. SymPy offers several methods to help reduce expressions. You can use [`simplify()`](http://docs.sympy.org/latest/modules/simplify/simplify.html?highlight=simplify#sympy.simplify.simplify.simplify) to attempt to make the expression \"simpler,\" but you can imagine that the quality of an expression being simple is not well defined. One may expect the simpler expression to be shorter, maybe; but not always. The SymPy `simplify()` function applies several strategies, heuristically, to give you an equivalent reduced expression. But some expressions are uncooperative and `simplify()` gives up, returning the argument unchanged. Let's see what it can do with our expression `eq4`."
   ]
  },
  {
   "cell_type": "code",
   "execution_count": 13,
   "metadata": {
    "collapsed": false,
    "deletable": true,
    "editable": true
   },
   "outputs": [
    {
     "data": {
      "image/png": "[encoded data removed]",
      "text/latex": [
       "$$3 u_{star} = - u_{max} \\left(A \\rho_{star} - 2\\right)$$"
      ],
      "text/plain": [
       "3⋅uₛₜₐᵣ = -uₘₐₓ⋅(A⋅ρₛₜₐᵣ - 2)"
      ]
     },
     "execution_count": 13,
     "metadata": {},
     "output_type": "execute_result"
    }
   ],
   "source": [
    "eq4.simplify()"
   ]
  },
  {
   "cell_type": "markdown",
   "metadata": {
    "deletable": true,
    "editable": true
   },
   "source": [
    "That is actually a useful result. We see that `eq4` allows solving for $\\rho^{\\star}$ in terms of $A$, for example (remember that $u_{max}$ is known: the road's maximum velocity). Then we could try to manipulate `eq1` to solve for $B$ in terms of $A$, as well, so that we can substitute back in `eq2` leaving everything in terms of $A$. We can do all that without the help of `simplify()`, but using it interactively to reason about the long expression helped us to decide on a course of action.\n",
    "\n",
    "Another SymPy function that can help us examine complicated expressions is [`expand()`](http://docs.sympy.org/latest/modules/core.html?highlight=expand#sympy.core.function.expand). Its purpose is to expand bracketed factors in expressions and group powers of symbols. Let's see what that does here. Notice first that `eq4` hasn't changed; we just printed the result of applying `simplify()` to it."
   ]
  },
  {
   "cell_type": "code",
   "execution_count": 14,
   "metadata": {
    "collapsed": false,
    "deletable": true,
    "editable": true
   },
   "outputs": [
    {
     "data": {
      "image/png": "[encoded data removed]",
      "text/latex": [
       "$$- 3 u_{star} = u_{max} \\left(- 2 A \\rho_{star} - 3 B \\rho_{star}^{2} + 1\\right) - 3 u_{max} \\left(- A \\rho_{star} - B \\rho_{star}^{2} + 1\\right)$$"
      ],
      "text/plain": [
       "                ⎛                      2    ⎞          ⎛                  2   \n",
       "-3⋅uₛₜₐᵣ = uₘₐₓ⋅⎝-2⋅A⋅ρₛₜₐᵣ - 3⋅B⋅ρₛₜₐᵣ  + 1⎠ - 3⋅uₘₐₓ⋅⎝-A⋅ρₛₜₐᵣ - B⋅ρₛₜₐᵣ  + \n",
       "\n",
       " ⎞\n",
       "1⎠"
      ]
     },
     "execution_count": 14,
     "metadata": {},
     "output_type": "execute_result"
    }
   ],
   "source": [
    "eq4"
   ]
  },
  {
   "cell_type": "markdown",
   "metadata": {
    "deletable": true,
    "editable": true
   },
   "source": [
    "And now we print the result of applying `expand()` to it."
   ]
  },
  {
   "cell_type": "code",
   "execution_count": 15,
   "metadata": {
    "collapsed": false,
    "deletable": true,
    "editable": true
   },
   "outputs": [
    {
     "data": {
      "image/png": "[encoded data removed]",
      "text/latex": [
       "$$- 3 u_{star} = A \\rho_{star} u_{max} - 2 u_{max}$$"
      ],
      "text/plain": [
       "-3⋅uₛₜₐᵣ = A⋅ρₛₜₐᵣ⋅uₘₐₓ - 2⋅uₘₐₓ"
      ]
     },
     "execution_count": 15,
     "metadata": {},
     "output_type": "execute_result"
    }
   ],
   "source": [
    "eq4.expand()"
   ]
  },
  {
   "cell_type": "markdown",
   "metadata": {
    "deletable": true,
    "editable": true
   },
   "source": [
    "That's very similar to our previous result, except without the bracketed factor. Simplifying an expression can be accomplished by expanding or factoring terms, or a combination of the two. Whether to `simplify()` or `expand()` depends on the situation and you just have to experiment.\n",
    "\n",
    "We now have an idea of what to do with our three equations. We'll get expressions in terms of $A$ from `eq4` and `eq1` and substitute them back into `eq2`. For that, we can use the SymPy functions [`solve()`](http://docs.sympy.org/dev/modules/solvers/solvers.html#sympy.solvers.solvers.solve) and `subs()`, respectively. The arguments to `solve()` are the equality that needs to be solved, and the symbol to solve for.\n",
    "\n",
    "**Note**: `sympy.solve()` always returns results in a *list*, since you often end up with multiple solutions for a given variable.  These linear equations will only return one solution, so we can skip a step and ask right away for the `[0]`-th element of the list."
   ]
  },
  {
   "cell_type": "code",
   "execution_count": 16,
   "metadata": {
    "collapsed": false,
    "deletable": true,
    "editable": true
   },
   "outputs": [
    {
     "data": {
      "image/png": "[encoded data removed]",
      "text/latex": [
       "$$\\frac{1}{A u_{max}} \\left(2 u_{max} - 3 u_{star}\\right)$$"
      ],
      "text/plain": [
       "2⋅uₘₐₓ - 3⋅uₛₜₐᵣ\n",
       "────────────────\n",
       "     A⋅uₘₐₓ     "
      ]
     },
     "execution_count": 16,
     "metadata": {},
     "output_type": "execute_result"
    }
   ],
   "source": [
    "rho_sol = sympy.solve(eq4,rho_star)[0]\n",
    "rho_sol"
   ]
  },
  {
   "cell_type": "code",
   "execution_count": 17,
   "metadata": {
    "collapsed": false,
    "deletable": true,
    "editable": true
   },
   "outputs": [
    {
     "data": {
      "image/png": "[encoded data removed]",
      "text/latex": [
       "$$\\frac{1}{\\rho_{max}^{2}} \\left(- A \\rho_{max} + 1\\right)$$"
      ],
      "text/plain": [
       "-A⋅ρₘₐₓ + 1\n",
       "───────────\n",
       "       2   \n",
       "   ρₘₐₓ    "
      ]
     },
     "execution_count": 17,
     "metadata": {},
     "output_type": "execute_result"
    }
   ],
   "source": [
    "B_sol = sympy.solve(eq1,B)[0]\n",
    "B_sol"
   ]
  },
  {
   "cell_type": "markdown",
   "metadata": {
    "deletable": true,
    "editable": true
   },
   "source": [
    "The arguments to the SymPy function [`subs()`](http://docs.sympy.org/dev/modules/core.html#sympy.core.basic.Basic.subs) are given as (old, new) pairs, where the \"new\" expression substitutes the \"old\" one. So here, in `eq2`, we substitute `rho_sol` in place of `rho_s` and we substitute `B_sol` in place of `B`."
   ]
  },
  {
   "cell_type": "code",
   "execution_count": 18,
   "metadata": {
    "collapsed": false,
    "deletable": true,
    "editable": true
   },
   "outputs": [
    {
     "data": {
      "image/png": "[encoded data removed]",
      "text/latex": [
       "$$0 = u_{max} \\left(1 - \\frac{1}{u_{max}} \\left(4 u_{max} - 6 u_{star}\\right) - \\frac{3 \\left(2 u_{max} - 3 u_{star}\\right)^{2}}{A^{2} \\rho_{max}^{2} u_{max}^{2}} \\left(- A \\rho_{max} + 1\\right)\\right)$$"
      ],
      "text/plain": [
       "         ⎛                                               2              ⎞\n",
       "         ⎜    2⋅(2⋅uₘₐₓ - 3⋅uₛₜₐᵣ)   3⋅(2⋅uₘₐₓ - 3⋅uₛₜₐᵣ) ⋅(-A⋅ρₘₐₓ + 1)⎟\n",
       "0 = uₘₐₓ⋅⎜1 - ──────────────────── - ───────────────────────────────────⎟\n",
       "         ⎜            uₘₐₓ                       2     2     2          ⎟\n",
       "         ⎝                                      A ⋅ρₘₐₓ ⋅uₘₐₓ           ⎠"
      ]
     },
     "execution_count": 18,
     "metadata": {},
     "output_type": "execute_result"
    }
   ],
   "source": [
    "quadA = eq2.subs([(rho_star, rho_sol), (B,B_sol)])\n",
    "quadA"
   ]
  },
  {
   "cell_type": "code",
   "execution_count": 19,
   "metadata": {
    "collapsed": false,
    "deletable": true,
    "editable": true
   },
   "outputs": [
    {
     "data": {
      "image/png": "[encoded data removed]",
      "text/latex": [
       "$$- 3 u_{max} + 6 u_{star} + \\frac{3 \\left(2 u_{max} - 3 u_{star}\\right)^{2}}{A \\rho_{max} u_{max}} - \\frac{3 \\left(2 u_{max} - 3 u_{star}\\right)^{2}}{A^{2} \\rho_{max}^{2} u_{max}} = 0$$"
      ],
      "text/plain": [
       "                                        2                       2    \n",
       "                    3⋅(2⋅uₘₐₓ - 3⋅uₛₜₐᵣ)    3⋅(2⋅uₘₐₓ - 3⋅uₛₜₐᵣ)     \n",
       "-3⋅uₘₐₓ + 6⋅uₛₜₐᵣ + ───────────────────── - ───────────────────── = 0\n",
       "                         A⋅ρₘₐₓ⋅uₘₐₓ             2     2             \n",
       "                                                A ⋅ρₘₐₓ ⋅uₘₐₓ        "
      ]
     },
     "execution_count": 19,
     "metadata": {},
     "output_type": "execute_result"
    }
   ],
   "source": [
    "quadA.simplify()"
   ]
  },
  {
   "cell_type": "markdown",
   "metadata": {
    "deletable": true,
    "editable": true
   },
   "source": [
    "It's a little bit ugly, but that is quadratic in $A$, and that means we can solve for the roots of the equation. SymPy's `solve()` function in this case will return a list with the two roots. They are long expressions, so let's print each root separately."
   ]
  },
  {
   "cell_type": "code",
   "execution_count": 20,
   "metadata": {
    "collapsed": false,
    "deletable": true,
    "editable": true
   },
   "outputs": [],
   "source": [
    "A_sol = sympy.solve(quadA, A)"
   ]
  },
  {
   "cell_type": "code",
   "execution_count": 21,
   "metadata": {
    "collapsed": false,
    "deletable": true,
    "editable": true
   },
   "outputs": [
    {
     "data": {
      "image/png": "[encoded data removed]",
      "text/latex": [
       "$$\\frac{1}{2 \\rho_{max} u_{max} \\left(u_{max} - 2 u_{star}\\right)} \\left(\\sqrt{- u_{star} \\left(4 u_{max} - 9 u_{star}\\right)} \\left(- 2 u_{max} + 3 u_{star}\\right) + \\left(2 u_{max} - 3 u_{star}\\right)^{2}\\right)$$"
      ],
      "text/plain": [
       "  ___________________________                                         2\n",
       "╲╱ -uₛₜₐᵣ⋅(4⋅uₘₐₓ - 9⋅uₛₜₐᵣ) ⋅(-2⋅uₘₐₓ + 3⋅uₛₜₐᵣ) + (2⋅uₘₐₓ - 3⋅uₛₜₐᵣ) \n",
       "───────────────────────────────────────────────────────────────────────\n",
       "                      2⋅ρₘₐₓ⋅uₘₐₓ⋅(uₘₐₓ - 2⋅uₛₜₐᵣ)                     "
      ]
     },
     "execution_count": 21,
     "metadata": {},
     "output_type": "execute_result"
    }
   ],
   "source": [
    "A_sol[0]"
   ]
  },
  {
   "cell_type": "code",
   "execution_count": 22,
   "metadata": {
    "collapsed": false,
    "deletable": true,
    "editable": true
   },
   "outputs": [
    {
     "data": {
      "image/png": "[encoded data removed]",
      "text/latex": [
       "$$\\frac{1}{2 \\rho_{max} u_{max} \\left(u_{max} - 2 u_{star}\\right)} \\left(2 u_{max} - 3 u_{star}\\right) \\left(2 u_{max} - 3 u_{star} + \\sqrt{- u_{star} \\left(4 u_{max} - 9 u_{star}\\right)}\\right)$$"
      ],
      "text/plain": [
       "                   ⎛                     ___________________________⎞\n",
       "(2⋅uₘₐₓ - 3⋅uₛₜₐᵣ)⋅⎝2⋅uₘₐₓ - 3⋅uₛₜₐᵣ + ╲╱ -uₛₜₐᵣ⋅(4⋅uₘₐₓ - 9⋅uₛₜₐᵣ) ⎠\n",
       "─────────────────────────────────────────────────────────────────────\n",
       "                     2⋅ρₘₐₓ⋅uₘₐₓ⋅(uₘₐₓ - 2⋅uₛₜₐᵣ)                    "
      ]
     },
     "execution_count": 22,
     "metadata": {},
     "output_type": "execute_result"
    }
   ],
   "source": [
    "A_sol[1]"
   ]
  },
  {
   "cell_type": "markdown",
   "metadata": {
    "deletable": true,
    "editable": true
   },
   "source": [
    "### Evaluating the new flux equation"
   ]
  },
  {
   "cell_type": "markdown",
   "metadata": {
    "deletable": true,
    "editable": true
   },
   "source": [
    "Quadratic equations, of course, have two solutions. Here we have to select the positive root, otherwise our model would have an inconsistency. Are you able to see why?  To determine its value, we need to fill in some actual numbers into the model.\n",
    "\n",
    "Let's start with the same numerical values that we used in [lesson 1](http://nbviewer.ipython.org/github/numerical-mooc/numerical-mooc/blob/master/lessons/03_wave/03_01_conservationLaw.ipynb) for $\\rho_{\\rm max}$ and $u_{\\rm max}$. But we also have to supply a value for $u^{\\star}$, a quantity that should be experimentally observed in a given road. We propose $u^{\\star} = 0.7\\, u_{\\rm max}$ for this exercise.  This would correspond to 84 km/h for a highway with a 120-km/h speed limit, for example.\n",
    "\n",
    "Let's numerically evaluate the solutions for $A$ using the following values:\n",
    "\n",
    "\\begin{align} \n",
    "\\rho_{\\rm max} &=10.0 \\nonumber\\\\ u_{\\rm max} &=1.0 \\nonumber\\\\ u^{\\star} &=0.7 \\nonumber\n",
    "\\end{align}\n",
    "\n",
    "Now evaluate the numeric result for each root of $A$ using the `evalf()` function, where you pass the numeric substitution as an argument. It's very cool.  Let's evaluate both roots and we will pick the positive one.\n",
    "\n",
    "Let's try the `[0]`-th solution for $A$, first:"
   ]
  },
  {
   "cell_type": "code",
   "execution_count": 29,
   "metadata": {
    "collapsed": false,
    "deletable": true,
    "editable": true
   },
   "outputs": [
    {
     "data": {
      "image/png": "[encoded data removed]",
      "text/latex": [
       "$$-0.0281023443605751$$"
      ],
      "text/plain": [
       "-0.0281023443605751"
      ]
     },
     "execution_count": 29,
     "metadata": {},
     "output_type": "execute_result"
    }
   ],
   "source": [
    "aval_a = A_sol[0].evalf(subs={u_star: 1.5, u_max:2.0, rho_max:15.0} )\n",
    "aval_a"
   ]
  },
  {
   "cell_type": "markdown",
   "metadata": {
    "deletable": true,
    "editable": true
   },
   "source": [
    "Now let's try the `[1]`-th solution for $A$:"
   ]
  },
  {
   "cell_type": "code",
   "execution_count": 30,
   "metadata": {
    "collapsed": false,
    "deletable": true,
    "editable": true
   },
   "outputs": [
    {
     "data": {
      "image/png": "[encoded data removed]",
      "text/latex": [
       "$$0.0197690110272418$$"
      ],
      "text/plain": [
       "0.0197690110272418"
      ]
     },
     "execution_count": 30,
     "metadata": {},
     "output_type": "execute_result"
    }
   ],
   "source": [
    "aval_b = A_sol[1].evalf(subs={u_star: 1.5, u_max:2.0, rho_max:15.0} )\n",
    "aval_b"
   ]
  },
  {
   "cell_type": "markdown",
   "metadata": {
    "deletable": true,
    "editable": true
   },
   "source": [
    "Because Sympy seems not to return the roots in a deterministic order and  we want to use the positive root, we will automatically pick this one by using an `if` statement."
   ]
  },
  {
   "cell_type": "code",
   "execution_count": 31,
   "metadata": {
    "collapsed": true,
    "deletable": true,
    "editable": true
   },
   "outputs": [],
   "source": [
    "if aval_a > aval_b:\n",
    "    aval = aval_a\n",
    "else:\n",
    "    aval = aval_b"
   ]
  },
  {
   "cell_type": "code",
   "execution_count": 32,
   "metadata": {
    "collapsed": false,
    "deletable": true,
    "editable": true
   },
   "outputs": [
    {
     "data": {
      "image/png": "[encoded data removed]",
      "text/latex": [
       "$$0.0197690110272418$$"
      ],
      "text/plain": [
       "0.0197690110272418"
      ]
     },
     "execution_count": 32,
     "metadata": {},
     "output_type": "execute_result"
    }
   ],
   "source": [
    "aval"
   ]
  },
  {
   "cell_type": "markdown",
   "metadata": {
    "deletable": true,
    "editable": true
   },
   "source": [
    "Now, numerically evaluate $B$ in the same way using the positive root `aval`:"
   ]
  },
  {
   "cell_type": "code",
   "execution_count": 34,
   "metadata": {
    "collapsed": false,
    "deletable": true,
    "editable": true
   },
   "outputs": [
    {
     "data": {
      "image/png": "[encoded data removed]",
      "text/latex": [
       "$$0.00312651037596166$$"
      ],
      "text/plain": [
       "0.00312651037596166"
      ]
     },
     "execution_count": 34,
     "metadata": {},
     "output_type": "execute_result"
    }
   ],
   "source": [
    "bval = B_sol.evalf(subs={rho_max:15.0, A:aval} )\n",
    "bval"
   ]
  },
  {
   "cell_type": "markdown",
   "metadata": {
    "deletable": true,
    "editable": true
   },
   "source": [
    "### Turn off $\\LaTeX$"
   ]
  },
  {
   "cell_type": "markdown",
   "metadata": {
    "deletable": true,
    "editable": true
   },
   "source": [
    "$\\LaTeX$ output is great when we're looking at algebraic expressions, but it's a little too much for simple numeric output.  Let's turn it off for the rest of the exercise:"
   ]
  },
  {
   "cell_type": "code",
   "execution_count": 35,
   "metadata": {
    "collapsed": false,
    "deletable": true,
    "editable": true
   },
   "outputs": [],
   "source": [
    "sympy.init_printing(use_latex=False)"
   ]
  },
  {
   "cell_type": "markdown",
   "metadata": {
    "deletable": true,
    "editable": true
   },
   "source": [
    "## Green light: take 2"
   ]
  },
  {
   "cell_type": "markdown",
   "metadata": {
    "deletable": true,
    "editable": true
   },
   "source": [
    "Let's re-examine the green-light problem from [lesson 1](http://nbviewer.ipython.org/github/numerical-mooc/numerical-mooc/blob/master/lessons/03_wave/03_01_conservationLaw.ipynb) but using our newly computed traffic-flux equation.  We shouldn't have to change much—in fact, we can simply create a new `computeF` function and leave the rest of the code unchanged.\n",
    "\n",
    "There's one last bit of housekeeping to do so we don't run into trouble -- we used the variables `rho_max` and `u_max` in our SymPy code and we defined them as SymPy `symbols`.  You can check on the status of a variable using `type()`.  "
   ]
  },
  {
   "cell_type": "code",
   "execution_count": 36,
   "metadata": {
    "collapsed": false,
    "deletable": true,
    "editable": true
   },
   "outputs": [
    {
     "name": "stdout",
     "output_type": "stream",
     "text": [
      "<class 'sympy.core.symbol.Symbol'> <class 'sympy.core.symbol.Symbol'>\n"
     ]
    }
   ],
   "source": [
    "print(type(rho_max), type(u_max))"
   ]
  },
  {
   "cell_type": "markdown",
   "metadata": {
    "deletable": true,
    "editable": true
   },
   "source": [
    "If we try to use SymPy variables with NumPy arrays, Python is going to be very unhappy.  We can re-define them as floats and avoid that messy situation.   "
   ]
  },
  {
   "cell_type": "code",
   "execution_count": 39,
   "metadata": {
    "collapsed": false,
    "deletable": true,
    "editable": true
   },
   "outputs": [],
   "source": [
    "rho_max = 15.\n",
    "u_max = 2."
   ]
  },
  {
   "cell_type": "code",
   "execution_count": 40,
   "metadata": {
    "collapsed": false,
    "deletable": true,
    "editable": true
   },
   "outputs": [],
   "source": [
    "def computeF(u_max, rho, aval, bval):\n",
    "    return u_max*rho*(1 - aval*rho-bval*rho**2)"
   ]
  },
  {
   "cell_type": "code",
   "execution_count": 41,
   "metadata": {
    "collapsed": false,
    "deletable": true,
    "editable": true
   },
   "outputs": [],
   "source": [
    "import numpy\n",
    "from matplotlib import pyplot\n",
    "%matplotlib inline\n",
    "from matplotlib import rcParams\n",
    "rcParams['font.family'] = 'serif'\n",
    "rcParams['font.size'] = 16"
   ]
  },
  {
   "cell_type": "code",
   "execution_count": 42,
   "metadata": {
    "collapsed": false,
    "deletable": true,
    "editable": true
   },
   "outputs": [],
   "source": [
    "def rho_green_light(nx, rho_light):\n",
    "    \"\"\"Computes \"green light\" initial condition with shock, and linear distribution behind\n",
    "\n",
    "    Parameters\n",
    "    ----------\n",
    "    nx        : int\n",
    "        Number of grid points in x\n",
    "    rho_light : float\n",
    "        Density of cars at stoplight\n",
    "\n",
    "    Returns\n",
    "    -------\n",
    "    rho_initial: array of floats\n",
    "        Array with initial values of density\n",
    "    \"\"\"    \n",
    "    rho_initial = numpy.arange(nx)*2./nx*rho_light  # Before stoplight\n",
    "    rho_initial[int((nx-1)/2):] = 0\n",
    "    \n",
    "    return rho_initial"
   ]
  },
  {
   "cell_type": "code",
   "execution_count": 43,
   "metadata": {
    "collapsed": false,
    "deletable": true,
    "editable": true
   },
   "outputs": [],
   "source": [
    "#Basic initial condition parameters\n",
    "#defining grid size, time steps\n",
    "nx = 81\n",
    "nt = 30\n",
    "dx = 4.0/(nx-1)\n",
    "\n",
    "x = numpy.linspace(0,4,nx)\n",
    "\n",
    "rho_light = 5.5\n"
   ]
  },
  {
   "cell_type": "code",
   "execution_count": 44,
   "metadata": {
    "collapsed": false,
    "deletable": true,
    "editable": true
   },
   "outputs": [],
   "source": [
    "rho_initial = rho_green_light(nx, rho_light)"
   ]
  },
  {
   "cell_type": "code",
   "execution_count": 45,
   "metadata": {
    "collapsed": false,
    "deletable": true,
    "editable": true
   },
   "outputs": [
    {
     "data": {
      "image/png": "[encoded data removed]",
      "text/plain": [
       "<matplotlib.figure.Figure at 0x7fb4760d4b38>"
      ]
     },
     "metadata": {},
     "output_type": "display_data"
    }
   ],
   "source": [
    "pyplot.plot(x, rho_initial, color='#003366', ls='-', lw=3)\n",
    "pyplot.ylim(-0.5,11.);"
   ]
  },
  {
   "cell_type": "code",
   "execution_count": 46,
   "metadata": {
    "collapsed": false,
    "deletable": true,
    "editable": true
   },
   "outputs": [],
   "source": [
    "def ftbs(rho, nt, dt, dx, rho_max, u_max):\n",
    "    \"\"\" Computes the solution with forward in time, backward in space\n",
    "    \n",
    "    Parameters\n",
    "    ----------\n",
    "    rho    : array of floats\n",
    "            Density at current time-step\n",
    "    nt     : int\n",
    "            Number of time steps\n",
    "    dt     : float\n",
    "            Time-step size\n",
    "    dx     : float\n",
    "            Mesh spacing\n",
    "    rho_max: float\n",
    "            Maximum allowed car density\n",
    "    u_max  : float\n",
    "            Speed limit\n",
    "    \n",
    "    Returns\n",
    "    -------\n",
    "    rho_n : array of floats\n",
    "            Density after nt time steps at every point x\n",
    "    \"\"\"\n",
    "    \n",
    "    #initialize our results array with dimensions nt by nx\n",
    "    rho_n = numpy.zeros((nt,len(rho))) \n",
    "    \n",
    "    #copy the initial u array into each row of our new array\n",
    "    rho_n[0,:] = rho.copy()              \n",
    "    \n",
    "    for t in range(1,nt):\n",
    "        F = computeF(u_max, rho, aval, bval)\n",
    "        rho_n[t,1:] = rho[1:] - dt/dx*(F[1:]-F[:-1])\n",
    "        rho_n[t,0] = rho[0]\n",
    "        rho_n[t,-1] = rho[-1]\n",
    "        rho = rho_n[t].copy()\n",
    "\n",
    "    return rho_n"
   ]
  },
  {
   "cell_type": "code",
   "execution_count": 47,
   "metadata": {
    "collapsed": false,
    "deletable": true,
    "editable": true
   },
   "outputs": [],
   "source": [
    "sigma = 1.\n",
    "dt = sigma*dx/u_max\n",
    "\n",
    "rho_n = ftbs(rho_initial, nt, dt, dx, rho_max, u_max)"
   ]
  },
  {
   "cell_type": "code",
   "execution_count": 48,
   "metadata": {
    "collapsed": false,
    "deletable": true,
    "editable": true
   },
   "outputs": [],
   "source": [
    "from matplotlib import animation\n",
    "from IPython.display import HTML"
   ]
  },
  {
   "cell_type": "code",
   "execution_count": 49,
   "metadata": {
    "collapsed": false,
    "deletable": true,
    "editable": true
   },
   "outputs": [
    {
     "data": {
      "image/png": "[encoded data removed]",
      "text/plain": [
       "<matplotlib.figure.Figure at 0x7fb4760b0ef0>"
      ]
     },
     "metadata": {},
     "output_type": "display_data"
    }
   ],
   "source": [
    "fig = pyplot.figure();\n",
    "ax = pyplot.axes(xlim=(0,4),ylim=(-1,8),xlabel=('Distance'),ylabel=('Traffic density'));\n",
    "line, = ax.plot([],[],color='#003366', lw=2);\n",
    "\n",
    "def animate(data):\n",
    "    x = numpy.linspace(0,4,nx)\n",
    "    y = data\n",
    "    line.set_data(x,y)\n",
    "    return line,\n",
    "\n",
    "anim = animation.FuncAnimation(fig, animate, frames=rho_n, interval=50)"
   ]
  },
  {
   "cell_type": "code",
   "execution_count": 50,
   "metadata": {
    "collapsed": false,
    "deletable": true,
    "editable": true
   },
   "outputs": [
    {
     "data": {
      "text/html": [
       "<video width=\"432\" height=\"288\" controls autoplay loop>\n",
       "  <source type=\"video/mp4\" src=\"data:video/mp4;base64,AAAAHGZ0eXBNNFYgAAACAGlzb21pc28yYXZjMQAAAAhmcmVlAAAq821kYXQAAAKtBgX//6ncRem9\n",
       "5tlIt5Ys2CDZI+7veDI2NCAtIGNvcmUgMTM4IHIxMCBhZjIzMjljIC0gSC4yNjQvTVBFRy00IEFW\n",
       "QyBjb2RlYyAtIENvcHlsZWZ0IDIwMDMtMjAxMyAtIGh0dHA6Ly93d3cudmlkZW9sYW4ub3JnL3gy\n",
       "NjQuaHRtbCAtIG9wdGlvbnM6IGNhYmFjPTEgcmVmPTMgZGVibG9jaz0xOjA6MCBhbmFseXNlPTB4\n",
       "MzoweDExMyBtZT1oZXggc3VibWU9NyBwc3k9MSBwc3lfcmQ9MS4wMDowLjAwIG1peGVkX3JlZj0x\n",
       "IG1lX3JhbmdlPTE2IGNocm9tYV9tZT0xIHRyZWxsaXM9MSA4eDhkY3Q9MSBjcW09MCBkZWFkem9u\n",
       "ZT0yMSwxMSBmYXN0X3Bza2lwPTEgY2hyb21hX3FwX29mZnNldD0tMiB0aHJlYWRzPTEyIGxvb2th\n",
       "aGVhZF90aHJlYWRzPTIgc2xpY2VkX3RocmVhZHM9MCBucj0wIGRlY2ltYXRlPTEgaW50ZXJsYWNl\n",
       "ZD0wIGJsdXJheV9jb21wYXQ9MCBjb25zdHJhaW5lZF9pbnRyYT0wIGJmcmFtZXM9MyBiX3B5cmFt\n",
       "aWQ9MiBiX2FkYXB0PTEgYl9iaWFzPTAgZGlyZWN0PTEgd2VpZ2h0Yj0xIG9wZW5fZ29wPTAgd2Vp\n",
       "Z2h0cD0yIGtleWludD0yNTAga2V5aW50X21pbj0yMCBzY2VuZWN1dD00MCBpbnRyYV9yZWZyZXNo\n",
       "PTAgcmNfbG9va2FoZWFkPTQwIHJjPWNyZiBtYnRyZWU9MSBjcmY9MjMuMCBxY29tcD0wLjYwIHFw\n",
       "bWluPTAgcXBtYXg9NjkgcXBzdGVwPTQgaXBfcmF0aW89MS40MCBhcT0xOjEuMDAAgAAADm5liIQA\n",
       "O//+906/AptFl2oDklcK9sqkJlm5UmsB8qYAAAMAABGwhj/BVcjMA2iAE5NsZEPDOAes8E/P1r4h\n",
       "bHVGDymFJXxtE5KCR0WOYKsKvEjdNgAAE34IP91x4GpD/XKpVpuHQZ1k/CL7Z+284om2zjo9Zuz3\n",
       "ceJXzHmRk8M1aggY3xvvt2y8XX60Grfr8ffuzw1UZfzRXuBS/ROcizwixxxpkUgv3RAiESKJVs0M\n",
       "a9OgAJ+zLJuECxtM94Gpuby98fYKDSd74R9SALVAjtPenjSttGnfIXNndtbF0eaYf2DeuOoI40Pe\n",
       "g5cVomDjxDJWPQAgx7coS6aPB6YgRjL1izbLlCOT0+S4cqEw5EJEPclFf1lHgSm5jTsW88AAHrb2\n",
       "YWhnykS+3AcJjWF5xF6mPh9m4CKPQrxr9n4y+efXfPmDm9QLo1jjJgTRgYgf8BUpNLyTcatQZnWZ\n",
       "49H7kepjtPagIBGXAt4AFe15IQWynxJNK5TJElE7HHoWQuB1RaIY4d8kwdsWuLvifXbUsUTd2zmQ\n",
       "e0vaRTJkkWIvAPpOJfNEdt1sgiYXbHdOFs7YsmguSCOuIN3x8RSBqTdyKYpbnsVlPPokDJRXpVRl\n",
       "+huv50SwB/tGRwe9U17YQD2W9T+viXPk+n1QbERncpWe/f1hoQgoaPCLvSWDrRQoAAADAg8mHT5p\n",
       "2hsm5SyswGxyZ3bZorUvP5u1a0tR3tz6ocqZk7IjiDmj3hpI7LjTE8Hh0V6NhORA95i1FkrL78kj\n",
       "+LhhUDYyxObwlotxV2IXutccoac0OT3q0i4cE1adCyNbPBzDmzbaMuIEtu49LX8+wdQdLfBt4vK5\n",
       "iq+XYBX3qPIop1QF+gxaPLnr0ymAYl03//KOpp3dqYgSdkqPXuqSzDmGTCe1FWmiyYaCUu1DhC1B\n",
       "X5DG8Prp9fwT86YOVhfHEMYf5LBGgtjGVK01Mv7fL0UHJLmPfTn8MA2r2HzI4E1TQZxEXFyJmLzE\n",
       "qVB1QymnXw70sOo02FZpkqVaM4U1ZOiIamjMjyIZ3rPj0OxXqB5+Yk5KcGnZuOeO7NFVDCYzz7jr\n",
       "FudJnAH4AO9QJEwmwZ5knjDYxjsR4XoC0RgaOGR9WE/VvoZ8y86ZDBaXHhxxlsXB8Vby1e5K3e8o\n",
       "k/L7fJISnClvadfCsLkTayMK+gNg8VMPCY6kqzLebJzBnV5DFi4r8g4W5vei00nHosFtyYmWFB/q\n",
       "h5z+VorXW779l8DZ0v0q9nDKIiNnkEsmSQN5KobxrNoTtW3+LN+4O+C7wHaySBJm7ePx6aCFewTr\n",
       "H+kvJrZJx5OyP935FZCZcYf0hwBgkY7mP+/ke6F07tMwanY0NYgT3udFFB2xb9oei8Kc8aQlZwUz\n",
       "gq/KqT0iUH3v0ZC4HQYrwUSWeuZfTTKKzCm816fqAi+xj0wjHuFabnVem6Bn1ev9USNwNUhr3zUm\n",
       "ynAxeGpnaKoq6HzpyTCzfXQADMO9qKH2TmWqUOU+Sfv/VzhaeF8AfeW3SL9A7E1ISLe4Zfke8KmZ\n",
       "TRhT0Dve05kw9Fc1PpPKMaxQh/+EkladU7lQFlTdmwDyK7g8wLUt/DjFeGAvi+DcBCKD///nnwA5\n",
       "jQtmgrnmy69Y7DKmGaVFT8KT7DLbFPlDtSAOgP1/F9LpW0kLpJa/hzYkFfqH/iUb1KigynmhC2XV\n",
       "VcchZ6pTBZPYSxOvGFvgA3yYeF3OSPrXkbOckBxLSq7rlEC0aWYt/DysESwXMbWm8Mplhi8SQOXK\n",
       "4WIoafkHAvgJPCIkVBvMIs/RfC4BD6GwP0K/8WfWJhEI6upYdMhW9W2z1Epxydun7+Pxk5dC/uTg\n",
       "E1kSx+5HTBWVrjqdYN3JguN7TLwCUtUnqFX1laZ8yZNYyroHsg9XMfGQgFfMz+Tk/fv7Js0/g1/F\n",
       "LTLAK2L1yy0zPnNdihnlYX0pkeU72qhYVDGyu6bbz40YpxPZ3CQcUKIIiz6+XCgDBg76sC9JKixf\n",
       "LgNdb+/dYoZXt5sLTzI9PVDKBk3V449XdzQVcwBvuKACnR+Duwm5wnoqf88Jmii8cr+8Jy1rfnl2\n",
       "OOAuoqYNBSkNQ7JDBF7Rce2IdJZTucHLf8GZYqokwzXR7V/2kUszKuwtkThefLoF/LBKnlpHPW4v\n",
       "czj4eJqOA57om0m6VB3fFqaarQRubbBEtDrsUZXEzWkyOfb9vmmvaMVC8LQJ4EjudtnDhwg0zhsy\n",
       "I+uwQ0MAE5hsMOlIPl7gOk3CUWSeZ9kJX6VZk54zhCB79xXXo32av7P/gFvaYpM2zwqFaD3Ekbsm\n",
       "yYWEn9yUUwOxgjDcd15gSkCQulwTF3GKaJrPbr02k2zkZaYiBq3W1+JM0586VQYeuxM9nleYsLLa\n",
       "ylRbwJlCwih9PiRLxcRFTVXAs0ChN0FdV/oaDl4NN85qgZlcfetP1ol0zRpYc/q6intPVpWZfB2y\n",
       "h4j78fS2xDUqB1e2opJDr6UxTSyEeT3NWTH+th9pILuY/lDsDbZPdnC0GR6YA/bs03rp9seQwTZF\n",
       "EhzPjxZEb6IlvQpbmuEn3uOwiBgPr4t0KG3bwCVarBR3l2kLyFyP47cHc1FMQPazczrTWnkiY4ls\n",
       "KKVfVN+KjL5XuMQ/m8Hsp1cPVyjmcm24H4YgTwHJFETPGrYXW9XPK5W/KqNYR9oRskj/gzk/bE0j\n",
       "rKL9BYKzl3EUsmk61UV9/Z1v60dR5++6aiwHt2KlTVKvFbpMMG3CfzIijeG99VNTzTgDAlvw/sXj\n",
       "/lJ4MJvTF4tiV6qZqGubPjNCzp6SJBePyvfrK7XnjzxXYvC4h+jjMnGA8LMkhEeCY5LwQ3Pw0GHZ\n",
       "wkx8cshtB4ih7icXCZ2c/jDeI9SRD70zgZkeRhOskvxu1zoGG7qlg/OX/yAliSt4+q63W4XqCsXA\n",
       "cRRH+e4HSrv0wHa1v6pmIVLM3jHZ1GNfy02tWSUKmH+mDFXPVd1J+VSU44BIiLAczBde4f+NnC8i\n",
       "KXygkNalCUkwIUnz7SC8MzWD67/5yQqE4hGwgn6dT/xUCmX50onLvaiYp5YsBqoYAAbCoT59dXv7\n",
       "82VaXgdRoZwOs6JnnGoAJdpVkZy+h825wUBKq5OaJYKqqfob9N2Qc+/chF6pY0ADi3bB+dzKZPgg\n",
       "611sV20ZXaAEyqPgg5HoCfIZP0ZaEczas9k06KH8ACqpjCIH1NPBDxJut54Ec8XgI+w0xnHd8uwp\n",
       "iqvyyZHY1GFjG4cTxl13L04GdZFo0loWqYDLKCbqQRkLHlOjibdEjN1KHOWyvsskbkZKA8mSppLQ\n",
       "XIglCm2G2nK4oB5GD9m7EuNBH0ADVfnNsoHC4UGM9d8uKCs7MG/H18GlOn++7TsgFE7NHGGiMko+\n",
       "wNc+yGd7uYdCQaOccn96YFJWw8J2TehaZ3sut4Jih0+TZz3IzkKLhLq+8NjpZKA3bc2gfJSz+MsA\n",
       "nN4n8mO5B4mHon6a7JtuCidvaSgYeLiiO/qf3ioIOv42aVoTgB63FjYLcuvnv4usglqXcJj0pjGh\n",
       "0OWu9tT+J5qPkitwUUapcXfAgLilY/oFp/fihLgs06T7gYu8FYDuwYTHk7VxGlyeN5NdM9dcT6bb\n",
       "mWDssBpW9jZSGFR0lbRzFOVc9kGLyDfIxT+yQRxA0RRDk1LnQlvPRasDHosDBXC2AlV0Hk7DU+ld\n",
       "9e4maN5KkGlR0ynHajzGCaI7a9889fWAczCgQagI1lNN3ASarmssrj5SeIelRcBMaciOf0JKzquo\n",
       "j3BUkWuHxo+iBDMl9KssawUjzh2pjnEDxEdPVYsrHFP0WVLbI+XKvDGiiXbkbtqGbVIqMeWPczv7\n",
       "GGfnhopx1wI8hbTXm0D4Q6/WD7cU99zOemkB56JawBd72UjMmpF3qjc0cjO+XA5ur7GNt+1iGgii\n",
       "6URyLt1r/V5BhsU1Vjo7gFzjj/9Po7Q2ln7h1cSrKaRa/0OuXTuLx1eq5Ac9pgL2OogYPZucgBok\n",
       "vJEwEPLvHhuBAwpVIeJ6fiDVcxo/lQheyWXC9fLclUMSLbovOcX2csA7V9PQnG7ZIgQdxdnZMT1/\n",
       "NgTQjRXGPjvF9nygVhrOelkg2ra7LAHCErV+y8oPmo/d+zmMu69k7yONzZExrNIuhuoi3LdM/0R+\n",
       "utGiEy3VAl8gm+cBgvF1oj3mNvvNdyj6bjuJkULs/orl08daadtNlwq/ixJo+slrKITmB1Q0yTbL\n",
       "wBGG4msWiVUm5ZxO1ruybzqrpuUAf8+RWQQd5FkhzAEs6oNAYFjSUB1D8ozwdgmLqTjwW9gLqKWE\n",
       "FBFf07HCbj2vmYe17YIpa/kcEHfSSkCTc+pvQkyLfVCtFr7/ym0UOZK1nFRNUfrJuYDxgNCr7vVF\n",
       "csjyc5mfE3WKNWYpXu9mke/PDXlcE/X4V/kyHnXr+oirIhA3pbxkFkgCWRfbNG/hVSIasUecwiNY\n",
       "nZgym39TVZY11IalMkV/XvG3Ty/kwylfBSAXUmrPyFSUpcBMXsGvU13HcjjUQ4b6z8mQvPoNRoZ+\n",
       "S6ShTMu1cRpQ23xVDrwj6WKHsmgYOWsc8wTi7W/efxJxjhYjsdzc6DIP9mUJ3WNZu4W57mz8jjIV\n",
       "054pqGREjf9Sb/BxeTbybpO0tQg5vdQ3j4QeY9nwrjNAXNQd3xYTKnPB4ugwWsV+vxAM+/xzw+xZ\n",
       "zjc26BlJMKT9ZlsyKBXpkxy7t7ghislRY3VDiPfRpqyLM2lafsu/a+Oxbn4xi8LwRxCdefwzhaYX\n",
       "qw6WP4vcGbS+Ww29qneIYH75qqWNxuKJh/h3szAN917RtNuzFm3CoYenguPSfLGBkatYeOYAQ1P7\n",
       "HpE6wLhi531OydWTzmw591N3VGo/pp2olSIGwKppLx+0wKIMIs6gvodyMBUClyxni1TMX6ehm/GR\n",
       "mr98sSscLttvCXm/5dbAbzdky75J8/6U4VhGWXYLOLvSccdWXLHoIPPrAAABokGaIWxDv/6plgAd\n",
       "/2yy9poA6JoWzwj8h3wVdcvNKlfxNtpW3ozN24UzJCSVv8id5ERKiu8IvqxZeJpVLW7bX26vwWSK\n",
       "KhmGZ7I1fGn/ykFnLi9ZSl0anIljymyBHILtWWbqX/hkxuQBdSLf/OTSvMW1yau2YGGkX6kadOaS\n",
       "5f3kLiGkwJrStukoXvtymoJpUsHtWTLlaeD5HmEhLMVfWx7sr4KkKAzF8U/qgdx7gZm6VZFe7Ijb\n",
       "GkZsSMkUK9DnL2DND3O4AvYhxmEyDZHHWiy94NjNyehFXXhTsxmvoRtorA5L6wtHGNZRE+KabR/I\n",
       "rQSgOsIsvTTwPRNf4jdgJKHxoRzi/8qHsSj9wBbeKT0c2D8u0DdCEJTKhQpIki77joLNHs7a6yxu\n",
       "k58HkAGrRGp7HgmzaHUfhU+txuHuKCc7tZ9xMlKKy7uvH2U1KbEMBPB2I2Njd+vhd6akN///1v2g\n",
       "M+T4rXrrTkw/EltavZ9sKa0/1DnIcyL4O6bquBMBZr20XuqQjb3Nt5L6xb4gcpmDAEHh8NKGUcyE\n",
       "ffeLWex0T0AAAAI9QZpFPCGTKYQ7//6plgALN8Cj46Yy9IQ1LMSKAoEeGZI01RP07HHRrSzS+wm0\n",
       "MiGXjJF8e23+8W7Kg1jUj6u303Aevzncyi/IuUN/cIyU94NmgRs339HGEOSt6ck3M5M6iW3N0n4J\n",
       "pSmaEhJdx4wwGcw6ewMC1hH5G0+SP22/+ekm+3Ohd7rS+7lsQXNVGy2fOXxvtctboMumuAL6jbiI\n",
       "qG+WlRecofoK3kV1Vei76wm5TxlP7cWQWZ2Gk6VukXqF+odf8lM5jnSLhRX8veEgswaDSX8v4A+Y\n",
       "arnZFuC7gSsP7kMjS13mygmC79yPzXnjwvu5sD24WoWrDeOWO4qaNc1Tybn397xFjUVkHwro1xTB\n",
       "ahjmB8rLK+Azn3xO9eHuGYJBoT2T6F4B0+TTccXCXDqaMlgYyg1vl5DT68g5vFsJBmaSQxbivnI6\n",
       "SGxXbc8JO28zpaA0r+O1Qvl6F+eWl880ux/ahlpwltUFJVR6irNEa8OWVV2pNmjYtfANLN3DnseO\n",
       "1CpTXWmlKgoFUcb0Ufi424xiwN2LDHR/gXOvMZZ76rmZrgpUhKs9E7/pGOhMgaSKnM8zvRZSUaXf\n",
       "DR0+/i49HI6h1/PYcy/gaIgC044sTsRCmThTB9FHfZfDxcWSSixuWnbylw98Z3SFff1+IXWY4cn5\n",
       "ldLL5J/8i77xJUdHwMSSkASdx+7fVZC2uKR2b/Mv91QQK1sAeVgE8cwh4QSe1NSNNb/5t6x6iHd2\n",
       "LFNVJ/Z1ETvj2yTCpMxdAAAA9EGeY2pTwz8ACa2PE7PhBdIeXJaObmWM3RxBoV3S+L++/vI+fgau\n",
       "3eaINdIKj/yV8tUSnrYALoz80id/K+VScDnCFTaFaqmPiyN+qlxpI5xioDd2mwlVCAMm3bxrKORa\n",
       "C9EB+XbrDq6CtP2GRU4m1O2PillOhlZC5Ltmbse/C0d44/6JmRJWoF2mXtZjXcH1AQBF+quONwpS\n",
       "lEpIMSyas2B7tSNy89v2WuCFQ1nr+3l/p48eZX80rlNjeZXzFcooD6+nILyinbLgd4gIRsLyumc0\n",
       "5Bq6TE4laFdzKZwwhqNsIw7UeXiF5YX1/AOMG93Z8DJVWPAAAACiAZ6CdEK/ABHhBCy/fcXt706+\n",
       "7NAAlVPiVlciE6GdZZDSDKv3+BjJfY6LutnSnRkTtIOEoJL6jwjqaFsEQobtrqyr/yW4mJoXzV9H\n",
       "ITS9u61pty2jomYHSkvhen9qA70lKLPI8cTe4U+ENSqs14aOlnUGKknzZCmzSfSWAW8cTFFR4vQh\n",
       "MlYmuDZpZJDD/1Qw2ZDDO1JFxxIiCEk9eA5YZoZBAAAAjQGehGpCvwAR2Pz4hQG/x4ASt51SNCWT\n",
       "TOd2D/lpSCwTCjWw3r5uvIsPU4T3fFw9MPEitwJ9YZPgJ0n6pnlFuGHGk0q1VdVgP519JuMhpsN5\n",
       "qvlaq6DVe82sxc8wrTkuGDnvqyG1pBllq+ZFZKJ6tAQR0ShQZegVhmkFaJUfhEIwrX2fr0wQu6Jz\n",
       "gCCJ8QAAAPdBmoZJqEFomUwId//+qZYACuOP2GhFKAC3T46nsSg5YmLfiTHEF+K+JaLi9QhRMfHC\n",
       "RM2jrpqMmxOMWyLYrH7C+QOxEv225HR5RxfoR3CGfG9ysmaSy6nXTDeEeVOmDBIJG9clM2U/T4Xo\n",
       "8/2vLfSyoZchKFWbvk2U9oMlttovlZYd6js8zkKP7VIiz9izN9rgH2atD9BfGvT0WgUeWqSO3JBT\n",
       "FmEnWdBYT1RGzLPlDnHWLqmMqho+Hjbd7ILQsosnzm8sC8jcXpT+LIyVE624mBWD6tyxar5FdVJa\n",
       "w/igQNDqru/HP2LZ5s6pT6iUTD7NVW8pC1GZAAABe0GaqknhClJlMCG//qeEABWuZZ3AoSW4XdB6\n",
       "AD91YkFgPO0mgAEXXzXozdc47/FyKaHs5YG8kiehPI6zdoO1JR9FUM13N5w64ujz9VR6BgOA2kgo\n",
       "1qwMKd0aOQz/z/ZHyTdREA/01jjB0Jhba3LEu5VbDvqV+yyvLnyllHjB3eL5EE7YykXXryKVguyH\n",
       "II8Uh1pAF+xK9og14Xu3LIZyVTxTNXq8fLLZkEiiNihJI8fu62gk7gDyr847wUEdTiEM5WUjcq2h\n",
       "W530GOZbRjhMdLVGdqbC4ndpX9Wn6/nUNJH+kbabm0O25mwAkG09yClqQvR3BuMB4UHdvBwJfWGx\n",
       "Ihgmijhuosa3Bs+047WkeOHdcpQYrtdgrcA6ItUvJa8M5Qeux2L9h9yQGhJtOmzmF9/1Pb/J9kpY\n",
       "gOnxbd2gL9DdP5jPbhrThnmUUSkl/EApj9ugYN1kHc3Ujzy3Yd4lQxCXjcZ5NP0GHSYn/nUhHwP7\n",
       "wDMtYG+G0lGLbIsAAADNQZ7IRTRMM/8ACW2TCxeXfyKg+thTTSNUmFYA9+QGKm0rVof6cqAAQgYc\n",
       "PzejlJPRhIne7TNnkDcsjdokr6PfpbcO6s9LAB43akGvTv45rx19Q+JVAFYsPz+kNwjxjqwQu3lC\n",
       "BzA60cb9Ee6iOlk+QL3Z5Xd7LKCSktsYLlD3m7KtFYUsfT8LN+FfQ90vw1PTTohRHdZtyJEwLO2G\n",
       "TsznEbrW8G7s74/J9VfbpJGNYqPjOdg315luNshGIg1xhM1ibWDEFnt1Gw0IK5gO+AAAAKMBnud0\n",
       "Qr8AEV4QUQn3NirOAFkzTR0TtDrThPFEChPpqKMXH21NuB16orbfvmykDgpE3BxaHCf+mH5vMWNN\n",
       "pAsdrv2KQifkyfpyJZ7Tiey401b4rfzBioFv3FzlkshE3Ahrl5RYc5YOBMQyrvq2uTScjY2dFLqw\n",
       "pmF/cpCjo+o2YqzKCF1Ctm1SlLIe1hityHCxts0xFBtkGyAp3ysNyC0WDkdgAAAAigGe6WpCvwAR\n",
       "V0togrMUKEACc0t8jR7Ek9J829tUi/z+a11AqlA1kJC+HumpK8I9NOW5A02+Tz8oMYZuJ1U1Nvbo\n",
       "OwPrXhYnd5QN4LO128mx9uu5bPb1mAHNxBhu2LIcHgYZ+L9/pIlNyhV8qoP5/sPidA7qmqLnP7DT\n",
       "Uj005Q4ln3D+k6YUjLuaEQAAAOFBmutJqEFomUwId//+qZYACpp1vSnIwANqMOrqnaFo5e4kqRJL\n",
       "zsi0Oz3Hy/OVp8zGkkuZ63JQpu0Rd5o2PKuaB6n6xYVumh765ME1TDB3LBHXlx2Be5EWvWtvjTpi\n",
       "b1fYd/vucSpppWVK7+9Q8qvgREfZxME4emewmQpwouXRY+3y3YY/cgG6xbuKafvL+7yDhDT9fOhU\n",
       "D0t2pW8CKYlcvLv/orfHshETuxN2+QupCPEKGTe6RcHGWDS6dbJQPR5tr2CXEy4g+yMiF/oU1U4E\n",
       "tgRLh7KSIq5I13dJEGqXlDAAAADuQZsMSeEKUmUwId/+qZYACpipHJyFUAE5isFQP3ijeAhMU/DE\n",
       "mVnyDUH5D5C2q0ztOICvOBCXdavTWxFca//GB+acm1Pd+nmnFFcAOuAlq8mqmdDdAiNa5dekSc3/\n",
       "uJjXUePmecsCxjgNg0rR1i0gA345/UshV3FwDS3hZ3dM9/00k0P4bWyq+nouXhdHDYk4YWrlwX3x\n",
       "dAFI8o9JPnv+uU9ukspwUYvH4ygmwGJKcOxkysUAIlT3AkasxptVADXqvC/tNClzjp6JEpc0fEUg\n",
       "FPRLxNXpCkebhUIUKdGywHWIfleGlamf5+vHxdkMzAAAAXdBmzBJ4Q6JlMCHf/6plgAKp7yKpsT/\n",
       "ZQAbT24GkU14Tx0dR72vuv5TmddG26yi60t+B8BTttpBtmfKtmQ4QWLBnP0OyofP4BlQiG1RlkzS\n",
       "yiWrhv7MxD4jiV34FRsc7rsPSWRy3gNE0M5EONOclPWWtgnERpHGkY3Y+HQ7xdMDB3sbJSq+ozVt\n",
       "dRrD9AKpfeEH+mpqsEkp6LmKpjZnb+EHv0jlq7mCFxI2PKHkK3bKk08DIR+E33hDLXfYJSIJCR1a\n",
       "i5A4jxV4Q6eSAXgzRRE/nRDHEaUr0/5iybtNlN1+zZDa5zIb/72toXZQaVzDypYRnODkvGOKHsLT\n",
       "NfGwGeYxPVYyTvB4kftbpb77uWoju/JgPYcDeydmAFObmsyQ0LcyrEgEtMMp+/FrS+1d7GB3T2ok\n",
       "uLIMvTyk2cKk0/0mO9bjiow9ErJAViXARQCIRg93x3k9yAfnuv1mcAzS66lKDfTFfGn75OXVgRXV\n",
       "vnfxI8MZQGxlkLEAAADMQZ9ORRE8M/8ACW67SNvx7J3c8AAE7ciVlw9PE9+q6s+hPebyUlEfuWEk\n",
       "7sasuhxXU1XUXAKKm1YD1OkD13wp13IVp6Pibilc4rUGi888n/904fchqX5QDMe229HbPhYWQIq+\n",
       "+hN18tVIToC/E/CFfAwa1qhfcjBVnW3ZzIlq5JKFLxUEsxZ5H6ybeOzYQit+Mpi5SED6kOzSzV4O\n",
       "F6MWzRNQoiy4R2pulkAWOY/xH99jBLoZ112rCqEg0vgf08ao2WnU5YhZlWSPFnFvAAAAiAGfbXRC\n",
       "vwARVzV44Q8AN12MLLtTQbbcqUVEB0N/MgwIkSAAAAMAQ7/C1edn5n7vPJjHp6bL7SarImJJtX87\n",
       "bhSmNrEVuJxNy2JFlOnA6WFdlDSr7JdukQglROaNN9D799WMJPb8Bzm7O1IOaVCtw0xTQglT23zj\n",
       "d9s2wGJC4AUUxdiKFjfkClkAAAB/AZ9vakK/ABFddh47+LHoAbrs3CJQr9T4AYCawBvV7+VcTq8H\n",
       "1dLCI1Nw1ogd78vkAxN5P3JOp/g5KNT7tMl4f4QZ+NpUyfa/RvYf5inTyeU1EmKEuuR8Jckf8W83\n",
       "pFB0NW0FpgTlZCXYtBCbCMU3I6JLiq4gSNPCb0M5LA8tKwAAAWxBm3NJqEFomUwId//+qZYAClCp\n",
       "klzpIgBf1DhHu3PtAyp/lmWQwYGl74CHFT6XCKkaSFbd30P6AmkXA/pP4A1gg1PUGZ1o5dJxmxP5\n",
       "cKEVMSCIQ2THU3WkSEb3vuzA6Mgl8f0fPvTo84ywPLUMqZAZyAoFj93rFIQddbTFHTC13Wi5z1Zj\n",
       "NzVNq+Y07mNIY07b7dsp+Ta70hg6Df3IlA7ap/e5/9nOLOQEVC6uLs7hTwFWzrBE0DJUlsno8MsP\n",
       "ftWt/LqY3t6ssIv9VO4xkK1RIwFS5hOLYD0GPkKV4RsPWFh/qgX18IXFn0L56uLwu7yOEiL1G6F1\n",
       "tSLAcK1kfENbJfSWbCc8pIEBCWYmXWi/z9Q937JK3NLd3yomeEWgDXZCOIFvPF0fg7vWxRkyeZHy\n",
       "fo1+RGKcBKgZPNyfuo2iENYGGeRXS8By9JZs26MJN9RmL5SCCkNT9E8mfQ/JrQI4691qfNrPaKPw\n",
       "wKngAAAAjUGfkkIV/wARYNAGz/Gq3cACe2tsioLXvbD6RAAAAwMeVIdr+OKVtE1TiJdIPY2s2ojp\n",
       "hk+bC6nhgbVuF9wjsaYzQjEgACEvqn/yLqPM2jtzTnUmIsl6LHOh3brU+Kl7PXVRvDO+d5cdGNuI\n",
       "a7vLeYKTmk3yHf54giQbjGLp6JaAZ0wVFgTX0Nc5AXRlDQAAAJIBn7FpEK8AEVdOZ736AbWQARct\n",
       "1s2ZKFqXVRftLJKYkL/Gq0QkDsiHYPkX2H8vJW8e7o+jM1vxTrIjDUYvuYY5oQL56lAcwA9VbF0O\n",
       "SKfNHwbtYAEzrE7JWdKPiYl5joJjSUw9A5vV1/gYfTrXAYoURF67R9cN9plsdWAeRVeMwMnXl+sz\n",
       "e8o2xxFrDndTMavkrAAAAXRBm7dJqEFsmUwIb//+p4QAFI94S3gqffhg4ccYV/lUlKbJW2P+e/jD\n",
       "dZwYJ620Of+M1zbmrbjS4peTWhfP9WiNB34R6lm/j6fYa9d4N82barL1M0zOniaeXnLZs3vYa7u6\n",
       "nfVDEmvlzGiM0+aJTc7a8wUqRRKAlY6Yi+hvlMXRPV1deTZPls/5oZJwiEkvJRPwRv4728mUI/6j\n",
       "IxrelL3Nyqr0fW0A/CpzjS4BERDacsmAP6rqkqEeirQQwl5bjMIZAKLHM5nTg2oyc9PM3bfNy4Hq\n",
       "wa/eBGn2Chm4L4XBbWqUCH/DUNCgjRYXclnFFU/a5CofHhWMF1Kbc5y/wfYGj00+NocHT1dVLWlA\n",
       "GvDxzZCtfpCP07DPJn2I9xMBg17SfRdTx/DDVOaoYjjBtlvVPZB3eGTZ8hFSAgORwNSdV56BdDAA\n",
       "i3LQdjq2sECqjWhNppucH7CktLap3Z2x22CbuCcM2d7qDf3hoJQOgx8wW1yOMKQAAAC7QZ/VRREs\n",
       "M/8ACW68crD9GBxVD9K3RNhx7ACH4wTixvrosCrAABHGROI6vmYmuUDJC3G/x+O0b3nf6qrGDs1p\n",
       "8mC5Nb+ir7jYBUE5qMar2XrxbyLc7F0tzzS8U8zaOZefi9I0MsDvZCNi7o89X4k8QiMitTyaVLGv\n",
       "J+FldhMgvE8H+sVtcHkAazPE5Xxe5kjYpevvw5MIAWrDZHpTaKDdBs9qJmgmksN96TqRB2/MQDjT\n",
       "DgAtVOooxxedwQAAAI0Bn/R0Qr8AEVdOtdugKjykA3Q7kbUMrg8RVLLnven/jaTbIHiO/seoGRuN\n",
       "Ekp/JRYRAvVtOr6YEsfmwFS7x8fMqpGPkTvrdAOIWIY3MboYPJux2fOO18fyJv+sqR0yHLKRkXAr\n",
       "UPDXIS0nEM7yeDwXgdLlfdxAQ/0pzUF2c/RtpWjvc2ev3xTE9/tpkMAAAAB2AZ/2akK/ABFdgz+s\n",
       "EIlKJTYNfJTqAEjEnlQ/d3+I9/fPlmB4kVk4KTJOn28bawdU93ra97Rr491xsZVHV3KI13wAicpp\n",
       "Cdj0/zZoKczFx9wvax4d7j2EbbPQUYsrEuqiyBb51kO7pD3bjRLbmhVSSClJcf8aIQAAAOVBm/hJ\n",
       "qEFsmUwIb//+p4QACkFOnh2NmQA2lzOrK6Syh/hjF0I5MAu29hlMvFyOgp3/eywFfzsIr1vrCxC/\n",
       "Zh2EVE+orH2ZFROGcZ1KBwA+LD3KL+MYQ0g/8uRbss84dkS2Z89vobQf13+krC0E3BsNjYkzQpAE\n",
       "7cuRdLhLuX1l9tVwDwB3P2xE0R4SK/HekzS8We4y9yivqqqgY1lx9E2jiD+NIelt8Zx6GFrd4f8F\n",
       "BnWqm9wY8Mihcy3qupgDGgOPYzNk5DQLU468SCL38nso+pJ0qCqB67hJOG07v7ZvGKJv343BAAAA\n",
       "2kGaGknhClJlMFFSwz/+nhAAJ7W0kJHm0mZZwALd1tSuDG4myYEh7ebeEiFXkNBoWW8oQZGtk+SZ\n",
       "SH3HZ8bPQ69cW/7IyGTY14WWaEKlpsKL/e6cxwvktgf15PBR5FKWPzbTcXZeovi43voEzqdzwK9f\n",
       "gDzEor9C0BI8lgBmHLJx2CAo6mAGmU6ZX+ZJHLzCsmx6qa2k1aEoN2/7e2fY2C/06TwipEkxVpHP\n",
       "jI67GBVD8mTaF13LwCtp6nPfNB32ax3Gsq8QnlyN3pIrGGVarSBsDSdtQwefJDYCAAAAdQGeOWpC\n",
       "vwAPuo4h1T+ypILXFPuZzu1tkTviDceoAPbtqb737iw7Th8EYXmw9uMeDziqiDE7B1MOzXHt9VbX\n",
       "qSbtDkDShcS8VYcnvvL8qvNk0wf0cQ+VfKsC9e2ytxkrpo6kS8KZ6hehb6giRbh8PYGwT22d0QAA\n",
       "ALFBmjtJ4Q6JlMCGf/6eEAAn/MuiYuASy2+7bvgA+vRzNcbKY87KRDQOh85i50yEZ1GtKNcBuZ95\n",
       "duKXMNNWuS3hquI5EUZTCXoI4Ey7+9aruQyJzK0eQJy6beDhNYBnEJob5FrG0cvIq9EtoqQ+BNXh\n",
       "TeseWaEN9v30XXywMPDuaKqiO+BNRFfciJrkDuKbHgJ2gKA1tRIIHyJWElBx8A2kL5QfMDgVAu2B\n",
       "evC5G6K6PYAAAACiQZpcSeEPJlMCGf/+nhAATb4sXcqxEY9DABBuCE8sVby9OROzN/cvLojHelx6\n",
       "UFfGDA7cNV769KrmFFCNzihLVp44RQGJXQ9MB/VNNASPQzego8ERDCxmVH2p5t/CDRMmjHPqm2YH\n",
       "rNl5pBS5yGUEdWa4R5T+QCT3Drspp1eJWXBcAbFsZxpv6NqFakmlBwN98KkDrFZFjTtp/IedKWfi\n",
       "TUE9AAAAiUGafUnhDyZTAhX//jhAAJdKigbTmlv935KAQAH3uDdc5N2ohaAMF2jWhHsPd5FgNYzm\n",
       "I7AAC8JZ5vbMWL54trXsl//1hGVBDUFLq2r/PGAwqNWPDNetT5z1C3S2jzmzCPzQAYKG6h1zJrce\n",
       "mzHxX4/3D7QTuaaMWziTVTbWz9Je3EZnSZAANBCBAAAEdm1vb3YAAABsbXZoZAAAAAAAAAAAAAAA\n",
       "AAAAA+gAAAXcAAEAAAEAAAAAAAAAAAAAAAABAAAAAAAAAAAAAAAAAAAAAQAAAAAAAAAAAAAAAAAA\n",
       "QAAAAAAAAAAAAAAAAAAAAAAAAAAAAAAAAAAAAAAAAAIAAAOgdHJhawAAAFx0a2hkAAAAAwAAAAAA\n",
       "AAAAAAAAAQAAAAAAAAXcAAAAAAAAAAAAAAAAAAAAAAABAAAAAAAAAAAAAAAAAAAAAQAAAAAAAAAA\n",
       "AAAAAAAAQAAAAAGwAAABIAAAAAAAJGVkdHMAAAAcZWxzdAAAAAAAAAABAAAF3AAABAAAAQAAAAAD\n",
       "GG1kaWEAAAAgbWRoZAAAAAAAAAAAAAAAAAAAKAAAADwAVcQAAAAAAC1oZGxyAAAAAAAAAAB2aWRl\n",
       "AAAAAAAAAAAAAAAAVmlkZW9IYW5kbGVyAAAAAsNtaW5mAAAAFHZtaGQAAAABAAAAAAAAAAAAAAAk\n",
       "ZGluZgAAABxkcmVmAAAAAAAAAAEAAAAMdXJsIAAAAAEAAAKDc3RibAAAALNzdHNkAAAAAAAAAAEA\n",
       "AACjYXZjMQAAAAAAAAABAAAAAAAAAAAAAAAAAAAAAAGwASAASAAAAEgAAAAAAAAAAQAAAAAAAAAA\n",
       "AAAAAAAAAAAAAAAAAAAAAAAAAAAAAAAAABj//wAAADFhdmNDAWQAFf/hABhnZAAVrNlBsJaEAAAD\n",
       "AAQAAAMAoDxYtlgBAAZo6+PLIsAAAAAcdXVpZGtoQPJfJE/FujmlG88DI/MAAAAAAAAAGHN0dHMA\n",
       "AAAAAAAAAQAAAB4AAAIAAAAAFHN0c3MAAAAAAAAAAQAAAAEAAADgY3R0cwAAAAAAAAAaAAAAAgAA\n",
       "BAAAAAABAAAKAAAAAAEAAAQAAAAAAQAAAAAAAAABAAACAAAAAAEAAAQAAAAAAQAACgAAAAABAAAE\n",
       "AAAAAAEAAAAAAAAAAQAAAgAAAAACAAAEAAAAAAEAAAoAAAAAAQAABAAAAAABAAAAAAAAAAEAAAIA\n",
       "AAAAAQAACAAAAAABAAAEAAAAAAEAAAAAAAAAAQAACgAAAAABAAAEAAAAAAEAAAAAAAAAAQAAAgAA\n",
       "AAABAAAEAAAAAAEAAAYAAAAAAQAAAgAAAAADAAAEAAAAABxzdHNjAAAAAAAAAAEAAAABAAAAHgAA\n",
       "AAEAAACMc3RzegAAAAAAAAAAAAAAHgAAESMAAAGmAAACQQAAAPgAAACmAAAAkQAAAPsAAAF/AAAA\n",
       "0QAAAKcAAACOAAAA5QAAAPIAAAF7AAAA0AAAAIwAAACDAAABcAAAAJEAAACWAAABeAAAAL8AAACR\n",
       "AAAAegAAAOkAAADeAAAAeQAAALUAAACmAAAAjQAAABRzdGNvAAAAAAAAAAEAAAAsAAAAYnVkdGEA\n",
       "AABabWV0YQAAAAAAAAAhaGRscgAAAAAAAAAAbWRpcmFwcGwAAAAAAAAAAAAAAAAtaWxzdAAAACWp\n",
       "dG9vAAAAHWRhdGEAAAABAAAAAExhdmY1Ni40MC4xMDE=\n",
       "\">\n",
       "  Your browser does not support the video tag.\n",
       "</video>"
      ],
      "text/plain": [
       "<IPython.core.display.HTML object>"
      ]
     },
     "execution_count": 50,
     "metadata": {},
     "output_type": "execute_result"
    }
   ],
   "source": [
    "HTML(anim.to_html5_video())"
   ]
  },
  {
   "cell_type": "markdown",
   "metadata": {
    "deletable": true,
    "editable": true
   },
   "source": [
    "That definitely looks different!  Do you think this is more or less accurate than our previous model?"
   ]
  },
  {
   "cell_type": "markdown",
   "metadata": {
    "deletable": true,
    "editable": true
   },
   "source": [
    "##### Dig Deeper"
   ]
  },
  {
   "cell_type": "markdown",
   "metadata": {
    "deletable": true,
    "editable": true
   },
   "source": [
    "The new traffic-flux model that we developed here changes the way that traffic patterns evolve. In this lesson, we only experimented with the most basic scheme: forward-time, backward-space.  Try to implement the green-light problem using one of the second-order schemes from [Lesson 2](http://nbviewer.ipython.org/github/numerical-mooc/numerical-mooc/blob/master/lessons/03_wave/03_02_convectionSchemes.ipynb)."
   ]
  },
  {
   "cell_type": "markdown",
   "metadata": {
    "deletable": true,
    "editable": true
   },
   "source": [
    "## References"
   ]
  },
  {
   "cell_type": "markdown",
   "metadata": {
    "deletable": true,
    "editable": true
   },
   "source": [
    "* Neville D. Fowkes and John J. Mahony, *\"An Introduction to Mathematical Modelling,\"* Wiley & Sons, 1994. Chapter 14: Traffic Flow."
   ]
  },
  {
   "cell_type": "markdown",
   "metadata": {
    "deletable": true,
    "editable": true
   },
   "source": [
    "---\n",
    "\n",
    "###### The cell below loads the style of the notebook."
   ]
  },
  {
   "cell_type": "code",
   "execution_count": 1,
   "metadata": {
    "collapsed": false,
    "deletable": true,
    "editable": true
   },
   "outputs": [
    {
     "data": {
      "text/html": [
       "<link href='http://fonts.googleapis.com/css?family=Alegreya+Sans:100,300,400,500,700,800,900,100italic,300italic,400italic,500italic,700italic,800italic,900italic' rel='stylesheet' type='text/css'>\n",
       "<link href='http://fonts.googleapis.com/css?family=Arvo:400,700,400italic' rel='stylesheet' type='text/css'>\n",
       "<link href='http://fonts.googleapis.com/css?family=PT+Mono' rel='stylesheet' type='text/css'>\n",
       "<link href='http://fonts.googleapis.com/css?family=Shadows+Into+Light' rel='stylesheet' type='text/css'>\n",
       "<link href='http://fonts.googleapis.com/css?family=Nixie+One' rel='stylesheet' type='text/css'>\n",
       "<link href='https://fonts.googleapis.com/css?family=Source+Code+Pro' rel='stylesheet' type='text/css'>\n",
       "<style>\n",
       "\n",
       "@font-face {\n",
       "    font-family: \"Computer Modern\";\n",
       "    src: url('http://mirrors.ctan.org/fonts/cm-unicode/fonts/otf/cmunss.otf');\n",
       "}\n",
       "\n",
       "#notebook_panel { /* main background */\n",
       "    background: rgb(245,245,245);\n",
       "}\n",
       "\n",
       "div.cell { /* set cell width */\n",
       "    width: 750px;\n",
       "}\n",
       "\n",
       "div #notebook { /* centre the content */\n",
       "    background: #fff; /* white background for content */\n",
       "    width: 1000px;\n",
       "    margin: auto;\n",
       "    padding-left: 0em;\n",
       "}\n",
       "\n",
       "#notebook li { /* More space between bullet points */\n",
       "    margin-top:0.8em;\n",
       "}\n",
       "\n",
       "/* draw border around running cells */\n",
       "div.cell.border-box-sizing.code_cell.running { \n",
       "    border: 1px solid #111;\n",
       "}\n",
       "\n",
       "/* Put a solid color box around each cell and its output, visually linking them*/\n",
       "div.cell.code_cell {\n",
       "    background-color: rgb(256,256,256); \n",
       "    border-radius: 0px; \n",
       "    padding: 0.5em;\n",
       "    margin-left:1em;\n",
       "    margin-top: 1em;\n",
       "}\n",
       "\n",
       "div.text_cell_render{\n",
       "    font-family: 'Alegreya Sans' sans-serif;\n",
       "    line-height: 140%;\n",
       "    font-size: 125%;\n",
       "    font-weight: 400;\n",
       "    width:600px;\n",
       "    margin-left:auto;\n",
       "    margin-right:auto;\n",
       "}\n",
       "\n",
       "\n",
       "/* Formatting for header cells */\n",
       ".text_cell_render h1 {\n",
       "    font-family: 'Nixie One', serif;\n",
       "    font-style:regular;\n",
       "    font-weight: 400;    \n",
       "    font-size: 45pt;\n",
       "    line-height: 100%;\n",
       "    color: rgb(0,51,102);\n",
       "    margin-bottom: 0.5em;\n",
       "    margin-top: 0.5em;\n",
       "    display: block;\n",
       "}\n",
       "\n",
       ".text_cell_render h2 {\n",
       "    font-family: 'Nixie One', serif;\n",
       "    font-weight: 400;\n",
       "    font-size: 30pt;\n",
       "    line-height: 100%;\n",
       "    color: rgb(0,51,102);\n",
       "    margin-bottom: 0.1em;\n",
       "    margin-top: 0.3em;\n",
       "    display: block;\n",
       "}\t\n",
       "\n",
       ".text_cell_render h3 {\n",
       "    font-family: 'Nixie One', serif;\n",
       "    margin-top:16px;\n",
       "    font-size: 22pt;\n",
       "    font-weight: 600;\n",
       "    margin-bottom: 3px;\n",
       "    font-style: regular;\n",
       "    color: rgb(102,102,0);\n",
       "}\n",
       "\n",
       ".text_cell_render h4 {    /*Use this for captions*/\n",
       "    font-family: 'Nixie One', serif;\n",
       "    font-size: 14pt;\n",
       "    text-align: center;\n",
       "    margin-top: 0em;\n",
       "    margin-bottom: 2em;\n",
       "    font-style: regular;\n",
       "}\n",
       "\n",
       ".text_cell_render h5 {  /*Use this for small titles*/\n",
       "    font-family: 'Nixie One', sans-serif;\n",
       "    font-weight: 400;\n",
       "    font-size: 16pt;\n",
       "    color: rgb(163,0,0);\n",
       "    font-style: italic;\n",
       "    margin-bottom: .1em;\n",
       "    margin-top: 0.8em;\n",
       "    display: block;\n",
       "}\n",
       "\n",
       ".text_cell_render h6 { /*use this for copyright note*/\n",
       "    font-family: 'PT Mono', sans-serif;\n",
       "    font-weight: 300;\n",
       "    font-size: 9pt;\n",
       "    line-height: 100%;\n",
       "    color: grey;\n",
       "    margin-bottom: 1px;\n",
       "    margin-top: 1px;\n",
       "}\n",
       "\n",
       ".CodeMirror{\n",
       "    font-family: \"Source Code Pro\";\n",
       "    font-size: 90%;\n",
       "}\n",
       "\n",
       ".alert-box {\n",
       "    padding:10px 10px 10px 36px;\n",
       "    margin:5px;\n",
       "}\n",
       "\n",
       ".success {\n",
       "    color:#666600;\n",
       "    background:rgb(240,242,229);\n",
       "}\n",
       "</style>\n",
       "<script>\n",
       "    MathJax.Hub.Config({\n",
       "                        TeX: {\n",
       "                           extensions: [\"AMSmath.js\"],\n",
       "                           equationNumbers: { autoNumber: \"AMS\", useLabelIds: true}\n",
       "                           },\n",
       "                tex2jax: {\n",
       "                    inlineMath: [ ['$','$'], [\"\\\\(\",\"\\\\)\"] ],\n",
       "                    displayMath: [ ['$$','$$'], [\"\\\\[\",\"\\\\]\"] ]\n",
       "                },\n",
       "                displayAlign: 'center', // Change this to 'center' to center equations.\n",
       "                \"HTML-CSS\": {\n",
       "                    styles: {'.MathJax_Display': {\"margin\": 4}}\n",
       "                }\n",
       "        });\n",
       "</script>\n"
      ],
      "text/plain": [
       "<IPython.core.display.HTML object>"
      ]
     },
     "execution_count": 1,
     "metadata": {},
     "output_type": "execute_result"
    }
   ],
   "source": [
    "from IPython.core.display import HTML\n",
    "css_file = '../../styles/numericalmoocstyle.css'\n",
    "HTML(open(css_file, \"r\").read())"
   ]
  },
  {
   "cell_type": "code",
   "execution_count": null,
   "metadata": {
    "collapsed": true,
    "deletable": true,
    "editable": true
   },
   "outputs": [],
   "source": []
  }
 ],
 "metadata": {
  "kernelspec": {
   "display_name": "Python 3",
   "language": "python",
   "name": "python3"
  },
  "language_info": {
   "codemirror_mode": {
    "name": "ipython",
    "version": 3
   },
   "file_extension": ".py",
   "mimetype": "text/x-python",
   "name": "python",
   "nbconvert_exporter": "python",
   "pygments_lexer": "ipython3",
   "version": "3.6.0"
  }
 },
 "nbformat": 4,
 "nbformat_minor": 0
}

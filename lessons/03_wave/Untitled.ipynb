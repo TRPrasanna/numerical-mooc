{
 "cells": [
  {
   "cell_type": "code",
   "execution_count": 1,
   "metadata": {
    "collapsed": true
   },
   "outputs": [],
   "source": [
    "%matplotlib inline\n",
    "import numpy \n",
    "from matplotlib import pyplot\n",
    "from matplotlib import rcParams\n",
    "rcParams['font.family'] = 'serif'\n",
    "rcParams['font.size'] = 16"
   ]
  },
  {
   "cell_type": "code",
   "execution_count": 2,
   "metadata": {
    "collapsed": true
   },
   "outputs": [],
   "source": [
    "def rho_red_light(nx, rho_max, rho_in):\n",
    "    \"\"\"Computes \"red light\" initial condition with shock\n",
    "\n",
    "    Parameters\n",
    "    ----------\n",
    "    nx        : int\n",
    "        Number of grid points in x\n",
    "    rho_max   : float\n",
    "        Maximum allowed car density\n",
    "    rho_in    : float\n",
    "        Density of incoming cars \n",
    "\n",
    "    Returns\n",
    "    -------\n",
    "    rho: array of floats\n",
    "        Array with initial values of density\n",
    "    \"\"\"\n",
    "    rho = rho_max*numpy.ones(nx)\n",
    "    rho[:int((nx-1)*3./4.)] = rho_in\n",
    "    return rho"
   ]
  },
  {
   "cell_type": "code",
   "execution_count": 28,
   "metadata": {
    "collapsed": true
   },
   "outputs": [],
   "source": [
    "#Basic initial condition parameters\n",
    "#defining grid size, time steps, CFL condition, etc...\n",
    "nx = 81\n",
    "nt = 30\n",
    "dx = 4.0/(nx-1)\n",
    "\n",
    "rho_in = 4.\n",
    "rho_max = 10.\n",
    "\n",
    "u_max = 1.\n",
    "\n",
    "x = numpy.linspace(0,4,nx)\n",
    "\n",
    "rho = rho_red_light(nx, rho_max, rho_in)"
   ]
  },
  {
   "cell_type": "code",
   "execution_count": 29,
   "metadata": {
    "collapsed": true
   },
   "outputs": [],
   "source": [
    "def computeF(u_max, rho_max, rho):\n",
    "    \"\"\"Computes flux F=V*rho\n",
    "\n",
    "    Parameters\n",
    "    ----------\n",
    "    u_max  : float\n",
    "        Maximum allowed velocity\n",
    "    rho    : array of floats\n",
    "        Array with density of cars at every point x\n",
    "    rho_max: float\n",
    "        Maximum allowed car density\n",
    "        \n",
    "    Returns\n",
    "    -------\n",
    "    F : array\n",
    "        Array with flux at every point x\n",
    "    \"\"\"\n",
    "    return u_max*rho*(1-rho/rho_max)"
   ]
  },
  {
   "cell_type": "code",
   "execution_count": 30,
   "metadata": {
    "collapsed": true
   },
   "outputs": [],
   "source": [
    "from matplotlib import animation\n",
    "from IPython.display import HTML"
   ]
  },
  {
   "cell_type": "code",
   "execution_count": 31,
   "metadata": {
    "collapsed": true
   },
   "outputs": [],
   "source": [
    "def animate(data):\n",
    "    x = numpy.linspace(0,4,nx)\n",
    "    y = data\n",
    "    line.set_data(x,y)\n",
    "    return line,"
   ]
  },
  {
   "cell_type": "code",
   "execution_count": 32,
   "metadata": {
    "collapsed": true
   },
   "outputs": [],
   "source": [
    "def maccormack(rho, nt, dt, dx, u_max, rho_max):\n",
    "    \"\"\" Computes the solution with MacCormack scheme\n",
    "    \n",
    "    Parameters\n",
    "    ----------\n",
    "    rho    : array of floats\n",
    "            Density at current time-step\n",
    "    nt     : int\n",
    "            Number of time steps\n",
    "    dt     : float\n",
    "            Time-step size\n",
    "    dx     : float\n",
    "            Mesh spacing\n",
    "    rho_max: float\n",
    "            Maximum allowed car density\n",
    "    u_max  : float\n",
    "            Speed limit\n",
    "    \n",
    "    Returns\n",
    "    -------\n",
    "    rho_n : array of floats\n",
    "            Density after nt time steps at every point x\n",
    "    \"\"\"\n",
    "    \n",
    "    rho_n = numpy.zeros((nt,len(rho)))\n",
    "    rho_star = numpy.empty_like(rho)\n",
    "    rho_n[:,:] = rho.copy()\n",
    "    rho_star = rho.copy()\n",
    "    \n",
    "    for t in range(1,nt):\n",
    "        F = computeF(u_max, rho_max, rho)\n",
    "        rho_star[:-1] = rho[:-1] + dt/dx * (F[:-1]-F[1:])\n",
    "        Fstar = computeF(u_max, rho_max, rho_star)\n",
    "        rho_n[t,1:] = .5 * (rho[1:]+rho_star[1:] - dt/dx * (Fstar[:-1] - Fstar[1:]))\n",
    "        rho = rho_n[t].copy()\n",
    "        \n",
    "    return rho_n"
   ]
  },
  {
   "cell_type": "code",
   "execution_count": 33,
   "metadata": {
    "collapsed": false
   },
   "outputs": [
    {
     "data": {
      "image/png": "[encoded data removed]",
      "text/plain": [
       "<matplotlib.figure.Figure at 0x7f43e6c30fd0>"
      ]
     },
     "metadata": {},
     "output_type": "display_data"
    }
   ],
   "source": [
    "fig = pyplot.figure();\n",
    "ax = pyplot.axes(xlim=(0,4),ylim=(4.5,11.),xlabel=('Distance'),ylabel=('Traffic density'));\n",
    "line, = ax.plot([],[],color='#003366', lw=2);"
   ]
  },
  {
   "cell_type": "code",
   "execution_count": 34,
   "metadata": {
    "collapsed": false
   },
   "outputs": [
    {
     "data": {
      "text/html": [
       "<video width=\"432\" height=\"288\" controls autoplay loop>\n",
       "  <source type=\"video/mp4\" src=\"data:video/mp4;base64,AAAAHGZ0eXBNNFYgAAACAGlzb21pc28yYXZjMQAAAAhmcmVlAAAheG1kYXQAAAKtBgX//6ncRem9\n",
       "5tlIt5Ys2CDZI+7veDI2NCAtIGNvcmUgMTM4IHIxMCBhZjIzMjljIC0gSC4yNjQvTVBFRy00IEFW\n",
       "QyBjb2RlYyAtIENvcHlsZWZ0IDIwMDMtMjAxMyAtIGh0dHA6Ly93d3cudmlkZW9sYW4ub3JnL3gy\n",
       "NjQuaHRtbCAtIG9wdGlvbnM6IGNhYmFjPTEgcmVmPTMgZGVibG9jaz0xOjA6MCBhbmFseXNlPTB4\n",
       "MzoweDExMyBtZT1oZXggc3VibWU9NyBwc3k9MSBwc3lfcmQ9MS4wMDowLjAwIG1peGVkX3JlZj0x\n",
       "IG1lX3JhbmdlPTE2IGNocm9tYV9tZT0xIHRyZWxsaXM9MSA4eDhkY3Q9MSBjcW09MCBkZWFkem9u\n",
       "ZT0yMSwxMSBmYXN0X3Bza2lwPTEgY2hyb21hX3FwX29mZnNldD0tMiB0aHJlYWRzPTEyIGxvb2th\n",
       "aGVhZF90aHJlYWRzPTIgc2xpY2VkX3RocmVhZHM9MCBucj0wIGRlY2ltYXRlPTEgaW50ZXJsYWNl\n",
       "ZD0wIGJsdXJheV9jb21wYXQ9MCBjb25zdHJhaW5lZF9pbnRyYT0wIGJmcmFtZXM9MyBiX3B5cmFt\n",
       "aWQ9MiBiX2FkYXB0PTEgYl9iaWFzPTAgZGlyZWN0PTEgd2VpZ2h0Yj0xIG9wZW5fZ29wPTAgd2Vp\n",
       "Z2h0cD0yIGtleWludD0yNTAga2V5aW50X21pbj0yMCBzY2VuZWN1dD00MCBpbnRyYV9yZWZyZXNo\n",
       "PTAgcmNfbG9va2FoZWFkPTQwIHJjPWNyZiBtYnRyZWU9MSBjcmY9MjMuMCBxY29tcD0wLjYwIHFw\n",
       "bWluPTAgcXBtYXg9NjkgcXBzdGVwPTQgaXBfcmF0aW89MS40MCBhcT0xOjEuMDAAgAAACrpliIQA\n",
       "O//+906/AptFl2oDklcK9sqkJlm5UmsB8qYAAAMAABGwbnyXDXmr0iQAAK9b30j9M/5gEuGQXtFu\n",
       "lopvbzDZdsdGg/Nmi6R051mk8iVgCf7B7vSFyZ/CXemyPOZHdh6qMsQIU1ROn1QU6eM7VdhspgLs\n",
       "mIhsgVe9b5Fydz8V2qhwHttstLJOwEALuCqyYqsfPM3cvO3ZgB0r3S++TAAteTKbcg3iBPrjzEIp\n",
       "1PHT/fPf/545MJnoJ2zTCFuY4maWN9juuJ5jzom/X/mIylyikRZYByuSSYUCT7I3r5w0eGugDu/y\n",
       "9IWeVHchSJWWmlyQvJUrGOjHMWfmnIV2iPYiS+cgCSp3992gQON3oYczhssJPEWa9LtbDiDv/UDT\n",
       "ZE8ZegI6LZf6LNEKCI2t/9Ydn1risxuiRxY8uh0FyR+MGFeaGECH3Ej+we+2c9XreyTOzAhZkaR1\n",
       "zsEB8VpRlC5Pvbtw/nvYdf/8T+f9KSeyGNG5CYtkhtt8Ap2rTa1VZnm4FzvnJFOeUiOPsYAbnp3p\n",
       "ZTj/9hr1S3Gf2HGS7xbh0D4A74zk32Ef0hIfsCAgZGi1mS6MuQYmtQoe9CqoZX3ozV+Ok2ZHpwFI\n",
       "bYserwIV1LpHNbOsenoffXf/YOsLwxiTRKboRpr3jqc17jbOtNEY6yHqIcN13nNZJDIBAD4obXxK\n",
       "HmlIggrhChM/b1S/jfAAAAqVid1xCjLqNzzvxwsLofsZFMvsnfWlpP/YQ48iJb4LxD+/DCO6VatO\n",
       "0SzrDjJmvBIxgS37YCKpUWg612hwxHujVCVYG9iNn1MCYqUn7VKnx9VJ3c8J4vRqYyphEjJlEYmp\n",
       "5J3hqJc2lb67yIO+BHKlvw83lNcAShbDr74YVePR3qDWIVvZLSt3uA23ma602yjilU+F8L0RPutn\n",
       "5BQ4ZYN1ljU/lAH0xISOD8h4VxydaxybzKeB8sbIgaZvFp6GgCGKNBOtRpnmj1x04SbJZ5lN5HpN\n",
       "LNFgXqAW3meYXUC5Z7/12wY74gIFJRnDCt5PS6/2XZVYoiuaSmL6unQIv8n7OGvw6r/9rSJBouMr\n",
       "j3XU+6krLjT+zihAV+hWjtVHGvUoM4Dm/HimsoM+oLPWyJgIWUXl+8VlYL94k9QRiUM0uRUh8Vx8\n",
       "L/6CoVlqVjZGJ4Y/7eCzW950asGBrfZQk3VBGi9DuIjV2ciLdcFWdS7z69vy9lwAkay9+hMIPy49\n",
       "V94z6egTZVybVxUPd5hy+wRJR9TlJK6QCCNsCxf0jBYf13Tj54vEff/YW9hyOE5g6sI7nAapA1H0\n",
       "xFKnH4AMhhhgSVUVcYszcA0B6of/zqUIm7O62WXhvW3olkOEZOQSzgoCz2ZY/OsaPTt4ZVsuw1mt\n",
       "DrHa+7obS8gnJxFwNtrzUXvNuhRFkfJC9IuhAG9fjF68ANM+b19yuBdQMexQFPKWVi9kYicSeFnM\n",
       "TuuMLXTEC6Usi40xltfWn8UtnvrfnS6TqBFLKuT4UcfNKNg+hXTWaLpPGJTBr9dyExqxQGY842LC\n",
       "GYuVHw6ZjujA8TdcTlQc0Rqusi4C5/i+sE5sloOQ/ybiTteFdvD3u2YFamxkZ3KHNr9d0aEKaaQg\n",
       "PKD7T9UMzBAACjHULAfdY4vmL6cLg+ztTPns4BPyQidJOpNxgdHIzKbQgxFnBSu8Gazx8KRMiIJ1\n",
       "GZz9RrDmC+Uxki7ZGc5aCeXFzQogRy90amtuRIRhRQqU9SvVxPPbNJMBUg6ibOAsAtczwPhz2IXd\n",
       "yAtA0B3yZWDk/5BBz3PoWNXo7ObWTIWfqKR4yCoRDKYOtLf5UNoJpdVhpLQ6sC+Q/VRJTpQAgoIc\n",
       "CY92JR1bomsG99G0x9/DU8PmBzEXF8Oe+gtpIqC/yq2Ga7prw7dfXQ2fosL4MxOJXhPXb7ssZMKW\n",
       "FiZgAUrJZ9T4L80zz0R2id/cRI/qlctL3VLH3h7Fix+zwDVYLS3q+/sYo/FoXZ1rMk23+12TWVee\n",
       "gdm5ru2Ve6CfO7BuDAlq6uU9HWeqZSRUTC3QTmqn1mu+EtYBd+RvmeYOUS2ZfZhkwt50VhLYiCgn\n",
       "H4Hh2/2+sXy6BvL0/bsyG1hgo7c7LnGD2ep45LqVnEoBYbWtJO7HBPMbb4dgdB+UbQbsj0NhhqpJ\n",
       "LgENvpGpjWuw+tSlBft9SceDRf/+43vdc7gn/GktZQDVD/x/dUDybgGxjpiBMRizCnM6a6Qt4NHH\n",
       "Vn3MsPLX6T3D+dBFoW4akaPA1Rcfc2OYnVj8ee8AV73oQvYjrv28EmZM2JEdN+JgLXoZRLKxvFnh\n",
       "YvDHDXcc4LzYBE8iiWb2+0IsIK5+YmckX9You5drmmMxBsmnx2tzqXSCOsYLRJnimVRRFhIj0lyw\n",
       "yfmNgnUoTKdl9lkk+6bEs8sed9slPPRl+1SB/faGx/OCW9Sxq0QXvNjbkKxOCx7uq+FujP176Ur0\n",
       "Dx4Ad9V5t7jNYF65JNWtz9JkmZqSprM+ke4VFKN7cbOaZ2sD44D6FQGRNFF1oKgCrxxCaXMm11YD\n",
       "w0Rqr0gg8iTUv+H+zQ9YgpfEFWTdjYMVw4/oMEyAAbuWVu044tWbJ8ko9b3wXFiS9XDELsjOvqGL\n",
       "kZjEHtiQyz9v+lVXc6soQqeRt5kDA1Ql/hbK1kY3Z/2nVug4DWNA2gh63vuRt9m5Q6qkbhRebboJ\n",
       "wo91TZgxN5NUll5QuLmcfhGK+Olz/O9viNyn8Xq/Exa7LigawFEllDxqHDQu1AYoO4Kh2QkjvDAb\n",
       "aEVDWqR/V7MM/fGOhXlcqeas17srryGfPcV1fX7RdJEfLoU2ck/iCLlM+uG693dJf9cfh3EovnTP\n",
       "H+GR2wdRC7NoptaBorlz3P+2KId9vkWMKkh0kH8GB0Asi/y14JJIgLFYS2H/qNHFoH3KnKt7V6qn\n",
       "8QiCTjdQrvOpxVlIeavwEOWj8J11+MsKgWfEe94KB3R9DH1N1IsWts7u6TxY5o4yaF71xJ7CALnY\n",
       "FjSUB1D8tFg6UI3UnHgt7AXU2EJCgfWQDzpm+1uxHKtfVcARSfHGfoNtm6nWqoiIbLE546lVPEkS\n",
       "xDUKLO+43ALFjepBLAeMBoVfd8CHa1+wgzfuq+HQDPW4VAzv1IvDieHq6yJ4Vna4ar1/URVkQg4p\n",
       "bxkInvjBGz4KnMfzxqVU5R5zCI1idmDKbbBYzEGAnLbI6EV/XvG3Ty/kwylfB8C4pNWfkKkqP4CY\n",
       "vYNepruO5GWCN8N9Z+TIX74KlVtxjs3yrfarfL95u2O8XhGWAsUPZNA7GtY55gnF2t+8/4OuUH6O\n",
       "x3NzoMhPqCgiNTlx3C3Pc2fkckJvGLVxRf2tDvPoKzEn6tCdXKlU9kbapu9mPfmQ5xgT+EVeiHSD\n",
       "JYrJEHXcf8J7hm/rOiP4VYCafwdReKf9tAWeKn4k2ek/YLykoo9yQv2pEkairuw6JIRCC6yV0yVp\n",
       "mQs+CytcYltIh/pIAykhbTPjz26KCegLOhSrFGe32TkXL4/eMvaR+yeF49dHndltttjVk22t0OY0\n",
       "n4smxD8vnlQ3AoxK5xZ8MP1zpT+ze3X3S1E83ZwhyqyZDwlHJSF1Waj+mnaiWiwbAqmkvH7TAogs\n",
       "y+CC+h3IwFQJbrGeED+WXMj5bW4cOU38YMZdkCt4S83/LMqhQddXps6Z0irOWuP7wRnO4u9Jxx1Q\n",
       "deZMQNy3AAAB9kGaJGxDf/6nhABLum9oT6WYK3ZaAK37zJq0S4CamNfCtfVfNzgDLFF37RzkdJFJ\n",
       "rbZ+akFsRQewr2h7lFLpbEF08/vtNSk+vS1d8AuYcKa5twrfsmAaIb6VdejhsjPtDBEih4SrUhH/\n",
       "4JGMY3gpwv3LwrkxUbvdYUt3dSGIeRNVkl87Pwz6ntetp3/uQlX//79Ra1qmcIrEmwF4fHHZayaM\n",
       "mnj/K0XErSn39ceu29uqRXSznB/sjEQG839bUrcX4oo6192c2NhZLP/2NCN72+I3GNHnXje7cNYb\n",
       "SCFD5AYBc9TqTglMXLFtOrWGvKOcU7MVtd6zZKsyr865kyN+dptb32JqvCaERtZBcF1s4T+xWgGj\n",
       "Rz17zw7y3ztJdwJBNrcvJRyC92led1kxEt0GSaRJtYmh6Ed/PQ0AFaCxLqnDUpjEJh6BCN93uXra\n",
       "dMuC1W2MZ9O0MewPeMXxL/ZyHnZkSEtlhjYGfmU41XMYh6VQrwI/1cKrm85K/WrF2+Ps+mNAeJEL\n",
       "3noAUjM5hD8ZJ5go/NngsZblmtTr2R26NjoSKyR/uHtBVcJfPhhtW/Q2vil+nl52FgRQzees/Sk2\n",
       "jayrHpTSfcZTnHpEMpftNkXIhR0GwfK3CQ0SXw9q/wsvFGUZVvTTifsWHi3B/oXxiuXEsvC4UkAA\n",
       "AACFQZ5CeIZ/ACCxIMqjbJoekW2QAOzEB0UfgNDHpJO6omng8Dq4E3VV9icRiSDAuuhrj1sAieiK\n",
       "wn0SdPBt+6KnBAdSrtkxpSw9cbz4MObJw0tEsYPh4FMX2aJEcqKelUjvW7jNJuhnRilnhbJ/IiHr\n",
       "GpuYJBXFBNmbXdLfGQJnuR6ItvrOnQAAAGkBnmF0Qr8APMXBDW/FbgAIff1W0TlK8C4GUEJ0kDQ3\n",
       "o6giKw7C1AGccYKqlaxFzYydU3aMD9G6iagI6SQKkRCT6/WoZJZQFUpMwU9ObJcLEqqhQriop2GM\n",
       "qQMmdasLhDQCntNXclnU4OAAAABdAZ5jakK/ADy/tlYGzxGdBep/ACZGbVU+nx8IuwhENA4EGAqj\n",
       "QbPDjv1gmU0vyTMp2kEw2YZm+D+gFxLJLZunU4J+CVU0oZ0Sa0cmvoga9UHurgB+nbBz+DZDxD8V\n",
       "AAAAj0GaZUmoQWiZTAhv//6nhABJOUZWs1wlrSQAqcgOnXqyfvousBuhQjcyV94HXRb0Jf8e+Zc0\n",
       "MRAdpx6IHzqrRT61wRXz3TU0GiOtMyeuhpkPxA1d4wu21xYgm87yftkqdLcpgj1Y1Z+6L8nbigX9\n",
       "zSZBBBmUjFrtp1jzBy/h8ChjyD6/pf/vUG2SvvF8fgmZAAAAj0GahknhClJlMCHf/qmWACT/ROYi\n",
       "o6yZICAGjTz+49+J90Ys6kz828x2qDH128qxWVR4nIIYGnRFzVdsuoJ6FaIhOIePU8T/Yfqufjl7\n",
       "+v7qv8m3yz0TxD9Bjzehl6u84LsFfhMw1R/DOM1UhKJsijVIOpY3k8n7rLTKfAwOg0537k65ajRZ\n",
       "9fYa6a4J/bTnAAAAlEGap0nhDomUwIf//qmWACUA2Akg2sOAFhhMBsaB/RKlwMweLPiIz/qioiMT\n",
       "U9yHzqbQ8pbZfpzjrYkF8zv3Mu9YzXfPXIfv2dJ8g9YqcRvCTkdCj3hzo81AnsKjz3Y8vzXbTESq\n",
       "E6qyCDWRDitzKISfQW3TWsX48ckhGz3jB/FUHk8F+RruGsI1IdeOn1rr0Ia5U2cAAADvQZrLSeEP\n",
       "JlMCHf/+qZYAJQEHvzQR4CqkAN51k9nfD9eYvd6tVz1gNE1fwsSZKcdtmjdwt8ieUa+88QxXCTJ+\n",
       "d44UkYpN3Bo2Lf35i3mqfCTs3/2Hy/3+UGMl8cwy8DMEFGh73em5ffXGVJTUprkV84xJqx5wONHV\n",
       "gKpt9IEi7+5R/6vV7CX4oLb+eg4drnFRs6hO9RSAu6yqHZFbbU5l3E+H3Bx5FlYLkF6ZhabpE1nd\n",
       "L5J3gcFl7njNCPKSn8dMtQyEnAZE+PkclEiVUIyRlwl+Iq7cPQcngKBdB2s1ghLrGCFWP3jC6NbQ\n",
       "ZLMfrF8AAABdQZ7pRRE8M/8AP4jSZlLssVIQATrFG2gY/VjNVL4gMuk8wcyuShDqKyG6e/UIrgf3\n",
       "Xq+IqJ5vPgqkMNif122eBQMcoB1q3qya/dnkn/clsyXaW0WWSKmnMNyfsjHgAAAALgGfCHRCvwA6\n",
       "+j8vwtgBM3zQukhsBtnkkWBfC6N48kQ1rwUZo1NfvykZb8GEd3EAAAA+AZ8KakK/ADrlDJFQN47i\n",
       "8Lrl+ZqaWZZRq/JDGAKUc89jy3+YXqNTVhWgTG+tyyQFXclwACdbdXZgQI6J9MAAAAC2QZsPSahB\n",
       "aJlMCHf//qmWACU1ePbd/1IACFrtpTPUuQk00+LChjVhzfwTh9GqOMuYrU9rWqDYX12txOofmvoQ\n",
       "gbcMBtGzmBotnkCW5HwNbL5dvwFZbAx8cv8CY3EAieOZK7693vz0SADXom963TNE9hoO9N8AGccT\n",
       "Qh266Au3GHCdbS1/bGbc8oyIhIO0XUYoy6ydUH6rlEKGJaX1eDX4IM8KyfkqpAWDGHLRrsAStJ57\n",
       "LxjeYyAAAABiQZ8tRREsM/8APu4+eJZ11ubk+u7tACZ7/TMJ9a82mJC7aOpsluZDf5cBb1ljrowQ\n",
       "nVoToqlSy0z+OXnTLXzpmKazHUE1hg9qGXb0fqf28/V8MUFh2R23wOaFI2+HBh30vMMAAABAAZ9M\n",
       "dEK/AHWWK14pknv8Ad7fJDkWJ6pWcUYKkh/2MeA/l9pZpkkBmL9RNXuhYteQZl6DkQmABOI5Ljul\n",
       "07x3CQAAADoBn05qQr8AdCvUP/PI+fC5wC+BWxq+bJALufqUYhEjMhuPcxsIjErrg4hD4lRe+uJB\n",
       "1hmeMTVjcWm5AAAA30GbU0moQWyZTAhv//6nhABJSNex6AHHt47Rr4xEou5zSSk9qDV0jJZVEzMc\n",
       "bCTVJU8EGImHxPKJjRiB9S3wc7Vwm3oaHw9nPQJbIVWHWCHnf+vNodQ5noq34srY5qQHIHE6fJ8U\n",
       "+liVlQeYyZXPMmGWd8CmvVwV7wkCTjj9YgRwHfH3U2WrNp1G7wSYwOay2mdTfXi6gaRGAlDt61b6\n",
       "6MMmTuheVEfHTCQcNQYxl//Fa3sCaUTyDVz4IF4BbYczw20tp406vMBqBjEk2DWPr+q0vAnP3YEj\n",
       "EzYsXPgXZjgAAABUQZ9xRRUsM/8APijTgmRY4MRMH7Wb+1c9XgtCGBD/wVmUmUXH4Uy+BFV93DMF\n",
       "9Qe9AB3vD45iR1bKNzKljvQwdWIDIjjqB2iIilm6kE/p1wkOJrWPAAAAKwGfkHRCvwBz+BMPBPH8\n",
       "VcxnSbmF7I2eI8yAKSlZKuzJNp7EYHw2lSIxVMEAAAAqAZ+SakK/AHQZT6h97modayLWq1QFSRsD\n",
       "8YBs3+hxFoPtIfw+OmvqlQLgAAAAcEGblEmoQWyZTAhv//6nhABJUGW64Ace5Lq9a5p72XIcFCeV\n",
       "zOIrIW0hl3/eShffg7xzwmWWBxSXoq3PWxGR/oY+cHMQTtl6tjpHKJYB2KZ3+591h6+CewQR5ZJr\n",
       "LLSfMIxk9jlM4LkYya4YWEeZ+OAAAACVQZu1SeEKUmUwIb/+p4QASVBlY4Absg4Y9kxMywA/ej1r\n",
       "RV9Rm9g4RNCAh5WzrgtUGW8FKUdryAEKauUQv9BdYP/7GBcky1iwsnBLJeNzeuQqQc9RUvUBlxPP\n",
       "iv//qGXif0AcbXrKTwJpOvGvRInAtWCBXYkvkBYZs5bxokF0nTgsfXlYnh5refGnPP/qdR5vsVP4\n",
       "O3kAAACPQZvWSeEOiZTAhv/+p4QASVBlY4AbsVlqjh4O+sL4jNtDjDKQZInDuslBHXHnxx3boYA7\n",
       "GeWR30P3yTfBykbEadLU94yIdiHpnPBxjRZA5OhMiD6DEO3DF6yyL3DfL2x4xCg7j8wFXBhtyM2l\n",
       "0PnxlNfC4d59qNBW5nqih2BCviWlxIjhWbkcVrDLBBtnEaMAAAG5QZv5SeEPJlMCG//+p4QAl3HS\n",
       "P+IHEAAqAo1L5qI9zV9K/Mvcj6onEsJXCbVRKh8TkF1svQRoOSVTP85c4ow31xE+z3w+bch3eSO0\n",
       "79u+xjf0b75wQjfFVI0fAEr/OptwPUj28T873XHpuz8m21dF2D7JHsgH38hf8bNts9HzX6TpBgSH\n",
       "3h0AlP44ycaYti+6hRRRBs5rfZnPsjsUOOdph+CyiDNq5wzh95H5nTtDwfDDqqE2WcUbR5ov8pMp\n",
       "Zt0l79FtwrfLrrqCY8q5JvEmfbPjCW5fhabmuDqRh5PPs2KAA2Z13ST3HgFnjSOLpBEjeD8lXjC8\n",
       "lxHdapJJWlyxJxMFniVIoPWM8ENinAILexIRlBV7ALs6kP2MECgnr7BaY35A6w/rP9qyC7YYycOM\n",
       "TP1ZVoMk0IK18rgZf4yF8N3VWyQfMoIDCDBehPZe5CjB8qlp8eLpNmOpJUhsMrrpvNmpohhHr9rM\n",
       "T95kl2XbNdtvNMNSpflMwmsQsOwk+X5TNsAFs9K9l802SH9flkeJnfoKvI00AKsyn1CoqufNlgMx\n",
       "7ovrxw8nyitpxsouTDt6H9LUhc9G497BAAAAv0GeGEIV/wB5mKyahYF2YFZ1JPMy7cya8k57nugt\n",
       "+ACV61jAChsoZIZGf3haxY3RCpLKuMrXvx3f5eN4yej4po16Jd5KjFOYSS5sdyZQxDmjiLdGLfla\n",
       "+9sZ6QVPsRWz9lfhm6LVvdw5zYORfNNfC0lgj2jWgcxPMO8dazts3t9wBWUlmUy5RH1VwytTSC1t\n",
       "R2rSoNwLmWB2vzsST6qxcowhf0Vbgvhy3W0Fd+f/ca/UUDsEqbaBPmrokFurHP+/AAAAnwGeN2kQ\n",
       "rwB2t9XVlj71Ql8waaA9IHoiGS2dpb0pGh6KYAQ/OGa0td5BIyBUgomEwmMMVF/gRgd6CbhOMd5D\n",
       "+3Uk84IOG3S9evk1LhoursnzpsYBc90WgzcY0y1Qy2XYWgPSzgIqJy1Xie2joRZRuMvuBV5zpet1\n",
       "zwB1LaShSNN6onnrz6o8QXHsNkI+rZYW7Os6wy+vcantwqm1cLs2FgAAAbhBmjpJqEFomUwIZ//+\n",
       "nhAEl1/F7gnZ4ACIN+dTZVL1MQDXYfBvSPW9yOWglQfEFzcfZgGdStymmwcfhJwP4LgErzO5dWsA\n",
       "8IMBqpznYcWMalQXk0gcx76qYT/AsFPLCJ2ZKu9Tf8hLLBpsXALNNa90WNdL8lTBmfFfjelXcCws\n",
       "BU0h7Sb+ogxsBXNgd05BPZ5lQHY1GChd5pxpVp/qItn9JniS9IrEy5ENcL2ZlKmRKwjSi7lRpGbR\n",
       "eUUY2CMd7eJIwZFbrGcTMX+brXqNe5d5CPH7y2POh1kOWxjK6e1i3zS0wqIrmkPclfAGLHwoO+GU\n",
       "z5LBXGEdGWQKh1QyIu1J6TEOYL/HQyvGMYsADr1PLB+sNeneDmFUNjz+wKAHrN/nEevEZVj1UqvZ\n",
       "mqZoV3B0e5V3CAv8WWre46nb+gXOu84BjSGAd1FvxhMUbu6tMSHdzaeAIrYRM6dj/m017XQNYx8K\n",
       "oIlGQVz4fKYItt3a489yJ+SQSKzzd8Tx/aL4BTYUCbkRSbye0VfsDW447v3z9omSeAK68YXVna6X\n",
       "2t7BSFPA5gadnIm5IiszNxV2EO30vgr0+VwsYQAAAWxBmltJ4QpSZTAhn/6eEAS3X//IHkRAAnDj\n",
       "2BQv4dGw/DNZS0caKVSXJeYN3uq71+T3T5rFZ17TqVG6aaog/T5EXSlAeoHKW75WyncISIjpS9vt\n",
       "6X+9PA/btxzyD+0fLHPxbBz4QvYenxKP/adju3JrO7VP+/OpEOA5XfvAbq2FgJ1z2cra2zxycJwN\n",
       "xBmCGYSv8FazzxHWVqe2xgcS5qEwOzvl5Qrmq1+u0La1aM+uiUyW6xMPoTWevuDJkLfpTXx5kzb7\n",
       "3YkNhld0bFLCcNIkDD+1jlkcJqpXWA8eb6G8ESMRrH1/+Dq57wW1lt20XX4VJpR4KiEm0h3cSpnd\n",
       "6EPezKZ4w8YECV+taHFnQ5IjLdlkWBtgoupV6OsYddQR4xgHdWxowtFrlEkKUaLVWrUQ08fkaOWP\n",
       "kEyOm3VrMR8pkxKonSX3sLFp/U1WzcaEEokiHNKsR/W1pkgaK3sGuTU1K5dhoSnXJL0snYOAAAAB\n",
       "KkGafEnhDomUwIZ//p4QBLA9U4xHp4ANlyu9uoLP62RA3tBhpKAZ+Nw4DKR1GlCq/VtTKKLEdkCE\n",
       "6kDZsYcxaQ33ZX6XCFL0iM6QRicOyKfQ7c+py49571kKPTv1U1rmrZhfJ65k5/3EjUBSAUEY76GF\n",
       "8lfBQFptNxKTimew9ZtSpWWtOW4b/ztGrYzmJqbpgpivk2mplx3QdQSvJbnHrlIWSaizhkW4bSmL\n",
       "TzzwFvI2svj8XiCL8ovC2yoh+1CK7ertIEI6VuEGGdR8rd2Ty4XC4SfNT2rneG5nCGyunAhZvCIk\n",
       "WZynP6CmLVH6uMHpOGhAkqUT9++evdP8ADnHSe6xYippRjBBzNbNBaC3KTBxtgfDUHK1vtk2OnT1\n",
       "h8NH32PysiD87f8USekAAADPQZqdSeEPJlMCFf/+OEASRRKYA9VSI4AQptMd7On40R1OaBkwT8OP\n",
       "4yt4B/NgFWTwbYdyGF7e3E+MTaOQLkGFYTVAQv2B4L08bNBGNbURm54p5FaVWcnqDfIfZ5QeiB6v\n",
       "jsaprWgf7CVvp9eq/UYbvEGfd94qP6vRnHb9OHTz63E7ixv41Xe8ClLaH/SXNe99nhz0KaLMAatM\n",
       "+v9cRH9uv4/kkHAKzU3rz6xysYTZOGLY/TaGLDY4rHEknDedGLrRe3ikuhLtqF3KE9gP+O0jAAAE\n",
       "Xm1vb3YAAABsbXZoZAAAAAAAAAAAAAAAAAAAA+gAAAXcAAEAAAEAAAAAAAAAAAAAAAABAAAAAAAA\n",
       "AAAAAAAAAAAAAQAAAAAAAAAAAAAAAAAAQAAAAAAAAAAAAAAAAAAAAAAAAAAAAAAAAAAAAAAAAAIA\n",
       "AAOIdHJhawAAAFx0a2hkAAAAAwAAAAAAAAAAAAAAAQAAAAAAAAXcAAAAAAAAAAAAAAAAAAAAAAAB\n",
       "AAAAAAAAAAAAAAAAAAAAAQAAAAAAAAAAAAAAAAAAQAAAAAGwAAABIAAAAAAAJGVkdHMAAAAcZWxz\n",
       "dAAAAAAAAAABAAAF3AAABAAAAQAAAAADAG1kaWEAAAAgbWRoZAAAAAAAAAAAAAAAAAAAKAAAADwA\n",
       "VcQAAAAAAC1oZGxyAAAAAAAAAAB2aWRlAAAAAAAAAAAAAAAAVmlkZW9IYW5kbGVyAAAAAqttaW5m\n",
       "AAAAFHZtaGQAAAABAAAAAAAAAAAAAAAkZGluZgAAABxkcmVmAAAAAAAAAAEAAAAMdXJsIAAAAAEA\n",
       "AAJrc3RibAAAALNzdHNkAAAAAAAAAAEAAACjYXZjMQAAAAAAAAABAAAAAAAAAAAAAAAAAAAAAAGw\n",
       "ASAASAAAAEgAAAAAAAAAAQAAAAAAAAAAAAAAAAAAAAAAAAAAAAAAAAAAAAAAAAAAABj//wAAADFh\n",
       "dmNDAWQAFf/hABhnZAAVrNlBsJaEAAADAAQAAAMAoDxYtlgBAAZo6+PLIsAAAAAcdXVpZGtoQPJf\n",
       "JE/FujmlG88DI/MAAAAAAAAAGHN0dHMAAAAAAAAAAQAAAB4AAAIAAAAAFHN0c3MAAAAAAAAAAQAA\n",
       "AAEAAADIY3R0cwAAAAAAAAAXAAAAAQAABAAAAAABAAAKAAAAAAEAAAQAAAAAAQAAAAAAAAABAAAC\n",
       "AAAAAAMAAAQAAAAAAQAACgAAAAABAAAEAAAAAAEAAAAAAAAAAQAAAgAAAAABAAAKAAAAAAEAAAQA\n",
       "AAAAAQAAAAAAAAABAAACAAAAAAEAAAoAAAAAAQAABAAAAAABAAAAAAAAAAEAAAIAAAAAAwAABAAA\n",
       "AAABAAAIAAAAAAEAAAQAAAAAAQAAAAAAAAAEAAAEAAAAABxzdHNjAAAAAAAAAAEAAAABAAAAHgAA\n",
       "AAEAAACMc3RzegAAAAAAAAAAAAAAHgAADW8AAAH6AAAAiQAAAG0AAABhAAAAkwAAAJMAAACYAAAA\n",
       "8wAAAGEAAAAyAAAAQgAAALoAAABmAAAARAAAAD4AAADjAAAAWAAAAC8AAAAuAAAAdAAAAJkAAACT\n",
       "AAABvQAAAMMAAACjAAABvAAAAXAAAAEuAAAA0wAAABRzdGNvAAAAAAAAAAEAAAAsAAAAYnVkdGEA\n",
       "AABabWV0YQAAAAAAAAAhaGRscgAAAAAAAAAAbWRpcmFwcGwAAAAAAAAAAAAAAAAtaWxzdAAAACWp\n",
       "dG9vAAAAHWRhdGEAAAABAAAAAExhdmY1Ni40MC4xMDE=\n",
       "\">\n",
       "  Your browser does not support the video tag.\n",
       "</video>"
      ],
      "text/plain": [
       "<IPython.core.display.HTML object>"
      ]
     },
     "execution_count": 34,
     "metadata": {},
     "output_type": "execute_result"
    }
   ],
   "source": [
    "rho = rho_red_light(nx, rho_max, rho_in)\n",
    "sigma = 1\n",
    "dt = sigma*dx/u_max\n",
    "\n",
    "rho_n = maccormack(rho,nt,dt,dx,u_max,rho_max)\n",
    "\n",
    "anim = animation.FuncAnimation(fig, animate, frames=rho_n, interval=50)\n",
    "HTML(anim.to_html5_video())"
   ]
  },
  {
   "cell_type": "code",
   "execution_count": null,
   "metadata": {
    "collapsed": true
   },
   "outputs": [],
   "source": []
  }
 ],
 "metadata": {
  "kernelspec": {
   "display_name": "Python 3",
   "language": "python",
   "name": "python3"
  },
  "language_info": {
   "codemirror_mode": {
    "name": "ipython",
    "version": 3
   },
   "file_extension": ".py",
   "mimetype": "text/x-python",
   "name": "python",
   "nbconvert_exporter": "python",
   "pygments_lexer": "ipython3",
   "version": "3.6.0"
  }
 },
 "nbformat": 4,
 "nbformat_minor": 2
}

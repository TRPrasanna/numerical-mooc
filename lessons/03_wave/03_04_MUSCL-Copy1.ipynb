{
 "cells": [
  {
   "cell_type": "markdown",
   "metadata": {},
   "source": [
    "###### Content under Creative Commons Attribution license CC-BY 4.0, code under MIT license (c)2014 L.A. Barba, G.F. Forsyth, I. Hawke. Partly based on [HyperPython](http://nbviewer.ipython.org/github/ketch/HyperPython/tree/master/) by D.I. Ketcheson, also under CC-BY."
   ]
  },
  {
   "cell_type": "markdown",
   "metadata": {},
   "source": [
    "# Riding the wave"
   ]
  },
  {
   "cell_type": "markdown",
   "metadata": {},
   "source": [
    "This is the fourth and final lesson of Module 3, _Riding the wave: convection problems_, of the course **\"Practical Numerical Methods with Python\"** (a.k.a., [#numericalmooc](https://twitter.com/hashtag/numericalmooc)). We learned about conservation laws and the traffic-flow model in the [first lesson](http://nbviewer.ipython.org/github/numerical-mooc/numerical-mooc/blob/master/lessons/03_wave/03_01_conservationLaw.ipynb), and then about better numerical schemes for convection in [lesson 2](http://nbviewer.ipython.org/github/numerical-mooc/numerical-mooc/blob/master/lessons/03_wave/03_02_convectionSchemes.ipynb). \n",
    "\n",
    "By then, you should have started to recognize that both mathematical models and numerical schemes work together to give us a good solution to a problem. To drive the point home, [lesson 3](http://nbviewer.ipython.org/github/numerical-mooc/numerical-mooc/blob/master/lessons/03_wave/03_03_aBetterModel.ipynb) deals only with an improved model—and showed you some impressive SymPy tricks!\n",
    "\n",
    "In this lesson, we'll learn about a new class of discretization schemes, known as finite-volume methods. They are the _most widely used_ methods in computational fluid dynamics, and for good reasons! Let's get started ..."
   ]
  },
  {
   "cell_type": "markdown",
   "metadata": {},
   "source": [
    "## Finite-volume method"
   ]
  },
  {
   "cell_type": "markdown",
   "metadata": {},
   "source": [
    "Are you curious to find out why the finite-volume method (FVM) is the _most popular method_ in computational fluid dynamics? In fact, almost all of the commercial CFD software packages are based on the finite-volume discretization. Here are some reasons:\n",
    "\n",
    "* FVM discretizations are very general and have no requirement that the grid be structured, like in the finite-difference method. This makes FVM very _flexible_.\n",
    "\n",
    "* FVM gives a _conservative discretization_ automatically by using directly the conservation laws in integral form."
   ]
  },
  {
   "cell_type": "markdown",
   "metadata": {},
   "source": [
    "### Conservative discretization"
   ]
  },
  {
   "cell_type": "markdown",
   "metadata": {},
   "source": [
    "Let's go right back to the start of this module, where we explained conservation laws looking at a tiny control volume. To simplify the discussion, we just looked at flow in one dimension, with velocity $u$. Imagining a tiny cylindrical volume, like the one shown in Figure 1, there is flux on the left face and right face and we easily explained conservation of mass in that case."
   ]
  },
  {
   "cell_type": "markdown",
   "metadata": {},
   "source": [
    "![1Dcontrolvolume](./figures/1Dcontrolvolume.png)\n",
    "#### Figure 1. Tiny control volume in the shape of a cylinder."
   ]
  },
  {
   "cell_type": "markdown",
   "metadata": {},
   "source": [
    "The law of conservation of mass says that the rate of change of mass in the control volume, plus the net rate of flow of mass across the control surfaces must be zero. The same idea works for other conserved quantities.\n",
    "\n",
    "Conservation means that any change in the quantity within a volume is due to the amount of that quantity that crosses the boundary. Sounds simple enough. (Remember that we are ignoring possible internal sources of the quantity.) The amount crossing the boundary is the flux. A general conservation law for a quantity $e$ is thus:\n",
    "\n",
    "\\begin{equation}\n",
    "\\frac{\\partial}{\\partial t}\\int_{\\text{cv}}e \\, dV + \\oint_{\\text{cs}}\\vec{F}\\cdot d\\vec{A} =0\n",
    "\\end{equation}\n",
    "\n",
    "where $\\vec{F}$ is the flux, and $\\text{cv}$ denotes the control volume with control surface $\\text{cs}$."
   ]
  },
  {
   "cell_type": "markdown",
   "metadata": {},
   "source": [
    "**Why not make the control volume itself our computational cell?**\n",
    "\n",
    "Imagine that the one-dimensional domain of interest is divided using grid points $x_i$. But instead of trying to compute local values at the grid points, like we did before, we now want to follow the time evolution of _average_ values within each one-dimensional cell of width $\\Delta x$ with center at $x_i$ (the idea is that as long as the cells are small enough, the average values will be a good representation of the quantities we are interested in). \n",
    "\n",
    "Define $e_i$ as the integral average across the little control volume on the cell with center at $x_i$ (see Figure 2).\n",
    "\n",
    "$$\n",
    "\\begin{equation}\n",
    "  e_i = \\frac{1}{\\Delta x} \\int_{x_i - \\Delta x / 2}^{x_i + \\Delta x / 2} e(x, t) \\, dx.\n",
    "\\end{equation}\n",
    "$$\n",
    "\n",
    "If we know the flux terms at the boundaries of the control volume, which are at $x_{i-1/2}$ and $x_{i+1/2}$, the general conservation law for this small control volume gives:\n",
    "\n",
    "$$\n",
    "\\begin{equation}\n",
    "  \\frac{\\partial}{\\partial t} e_i + \\frac{1}{\\Delta x} \\left[ F \\left( x_{i+1/2}, t \\right) - F \\left( x_{i - 1 / 2}, t \\right) \\right] = 0.\n",
    "\\end{equation}\n",
    "$$ \n",
    "\n",
    "This now just requires a time-stepping scheme, and is easy to solve *if* we can find $F$ on the control surfaces."
   ]
  },
  {
   "cell_type": "markdown",
   "metadata": {},
   "source": [
    "![finite volume](./figures/finite_volume.png)\n",
    "\n",
    "#### Figure 2. Discretizing a 1D domain into finite volumes."
   ]
  },
  {
   "cell_type": "markdown",
   "metadata": {},
   "source": [
    "We've seen with the traffic model that the flux can depend on the conserved quantity (in that case, the traffic density). That is generally the case, so we write that $F = F(e)$. We will need to compute, or approximate, the flux terms at the cell edges (control surfaces) from the integral averages, $e_i$.\n",
    "\n",
    "If we had a simple convection equation with $c>0$, then the flux going into the cell centered at $x_i$ from the left would be $F(e_{i-1})$ and the flux going out the cell on the right side would be $F(e_{i})$ (see Figure 2). Applying these fluxes in Equation (3) results in a scheme that is equivalent to our tried-and-tested backward-space (upwind) scheme! \n",
    "\n",
    "We know from previous lessons that the backward-space scheme is first order and the error introduces numerical diffusion. Also, remember what happened when we tried to use it with the non-linear [traffic model](http://nbviewer.ipython.org/github/numerical-mooc/numerical-mooc/blob/master/lessons/03_wave/03_01_conservationLaw.ipynb) in the green-light problem? *It blew up!* That was because the problem contains both right-moving and left-moving waves (if you don't remember that discussion, go back and review it; it's important!).\n",
    "\n",
    "To skirt this difficulty in the green-light problem, we chose initial conditions that don't produce negative wave speeds. But that's cheating! A genuine solution would be to have a scheme that can deal with both positive and negative wave speeds. Here is where Godunov comes in."
   ]
  },
  {
   "cell_type": "markdown",
   "metadata": {},
   "source": [
    "### Godunov's method"
   ]
  },
  {
   "cell_type": "markdown",
   "metadata": {},
   "source": [
    "Godunov proposed a first-order method in 1959 that uses the integral form of the conservation laws, Equation (1), and a piecewise constant representation of the solution, as shown in Figure (2). Notice that representing the solution in this way is like having a myriad of little shocks at the cell boundaries (control surfaces).\n",
    "\n",
    "For each control surface, we have *two values* for the solution $e$ at a given time: the constant value to the left, $e_L$, and the constant value to the right, $e_R$. A situation where you have a conservation law with a constant initial condition, except for a single jump discontinuity is called a **Riemann problem**. \n",
    "\n",
    "The Riemann problem has an exact solution for the Euler equations (as well as for any scalar conservation law). The [shock-tube problem](http://nbviewer.ipython.org/github/numerical-mooc/numerical-mooc/blob/master/lessons/03_wave/03_05_Sods_Shock_Tube.ipynb), subject of your assignment for this course module, is a Riemann problem! And because it has an analytical solution, we can use it for testing the accuracy of numerical methods. \n",
    "\n",
    "But Godunov had a better idea. With the solution represented as piecewise constant (Figure 2), why not use the analytical solution of the Riemann problem at each cell boundary? Solving a Riemann problem gives all the information about the characteristic structure of the solution, including the sign of the wave speed. The full solution can then be reconstructed from the union of all the Riemann solutions at cell boundaries. *Neat idea, Godunov!*\n",
    "\n",
    "Figure 3 illustrates a Riemann problem for the Euler equations, associated to the shock tube. The space-time plot shows the characteristic lines for the left-traveling expansion wave, and the right-traveling contact discontinuity and shock."
   ]
  },
  {
   "cell_type": "markdown",
   "metadata": {},
   "source": [
    "![Riemann-shocktube](./figures/Riemann-shocktube.png)\n",
    "\n",
    "#### Figure 3. The shock tube: a Riemann problem for Euler's equations. Physical space (top) and $x, t$ space (bottom)."
   ]
  },
  {
   "cell_type": "markdown",
   "metadata": {},
   "source": [
    "We need to solve many Riemann problems from $t$ to $\\Delta t$, one on each cell boundary (illustrated in Figure 4). The numerical flux on $x_{i+1/2}$ is \n",
    "\n",
    "\\begin{equation}\n",
    "  F_{i+1/2}= \\frac{1}{\\Delta t} \\int_{t^n}^{t^{n+1}} F\\left(e(x_{i+1/2},t) \\right)\\,dt\n",
    "\\end{equation}\n",
    "\n",
    "To be able to solve each Riemann problem independently, they should not interact, which imposes a limit on $\\Delta t$. Looking at Figure 4, you might conclude that we must require a CFL number of 1/2 to avoid interactions between the Riemann solutions, but the numerical flux above only depends on the state at $x_{i+1/2}$, so we're fine as long as the solution there is not affected by that at $x_{i-1/2}$—i.e., the CFL limit is really 1."
   ]
  },
  {
   "cell_type": "markdown",
   "metadata": {},
   "source": [
    "![many_Rieman_problems](./figures/many_Rieman_problems.png)\n",
    "\n",
    "#### Figure 4. Riemann problems on each cell boundary."
   ]
  },
  {
   "cell_type": "markdown",
   "metadata": {},
   "source": [
    "The Riemann solution, even though known analytically, can get quite hairy for non-linear systems of conservation laws (like the Euler equations). And we need as many Riemann solutions as there are finite-volume cell boundaries, and again at each time step! This gets really cumbersome. \n",
    "\n",
    "Godunov solved the Riemann problems exactly, but many after him proposed *approximate* Riemann solutions instead. We'll be calculating the full solution numerically, after all, so some controlled approximations can be made. You might imagine a simple approximation for the flux at a cell boundary that is just the average between the left and right values, for example: $\\frac{1}{2}\\left[F(e_L)+F(e_R)\\right]$. But that leads to a central scheme and, on its own, is unstable. Adding a term proportional to the difference between left and right states, $e_R-e_L$, supplies artificial dissipation and gives stability (see van Leer et al., 1987).\n",
    "\n",
    "One formula for the numerical flux at $x_{i+1/2}$ called the Rusanov flux, a.k.a. Lax-Friedrichs flux, is given by\n",
    "\n",
    "\\begin{equation}\n",
    "  F_{i+1/2}= \\frac{1}{2} \\left[ F \\left( e_L \\right) + F \\left( e_R \\right)  \\right] -  \\frac{1}{2}  \\max \\left|F'(e)\\right| \\left( e_R - e_L \\right)\n",
    "\\end{equation}\n",
    "\n",
    "where $F'(e)$ is the Jacobian of the flux function and $\\max\\left|F'(e)\\right|$ is the local propagation speed of the fastest traveling wave. The Riemann solutions at each cell boundary do not interact if $\\max|F'(e)|\\leq\\frac{\\Delta x}{\\Delta t}$, which leads to a flux formula we can now use:\n",
    "\n",
    "\\begin{equation}\n",
    "  F_{i+1/2}= \\frac{1}{2} \\left( F \\left( e_{i} \\right) + F \\left( e_{i+1} \\right) -  \\frac{\\Delta x}{\\Delta t} \\left( e_{i+1} - e_{i} \\right) \\right)\n",
    "\\end{equation}"
   ]
  },
  {
   "cell_type": "markdown",
   "metadata": {},
   "source": [
    "### Let's try it!"
   ]
  },
  {
   "cell_type": "markdown",
   "metadata": {},
   "source": [
    "Let's apply Godunov's method to the [LWR traffic model](http://nbviewer.ipython.org/github/numerical-mooc/numerical-mooc/blob/master/lessons/03_wave/03_01_conservationLaw.ipynb). In [lesson 2](http://nbviewer.ipython.org/github/numerical-mooc/numerical-mooc/blob/master/lessons/03_wave/03_02_convectionSchemes.ipynb) we already wrote functions to set the initial conditions for a red-light problem and to compute the fluxes.  To save us from  writing this out again, we saved those functions into a Python file named `traffic.py` (found in the same directory of the course repository).  Now, we can use those functions by importing them in the same way that we import NumPy or any other library. Like this:"
   ]
  },
  {
   "cell_type": "code",
   "execution_count": 1,
   "metadata": {
    "collapsed": false
   },
   "outputs": [],
   "source": [
    "from traffic import rho_red_light, computeF"
   ]
  },
  {
   "cell_type": "markdown",
   "metadata": {},
   "source": [
    "\n",
    "You've probably noticed that we have the habit of writing detailed explanations of what a function does after defining it, in comments.  These comments are called *docstrings* and it is good practice to include them in all your functions.  It can be very useful when loading a function that you aren't familiar with (or don't remember!), because the `help` command will print them out for you.  Check it out:"
   ]
  },
  {
   "cell_type": "code",
   "execution_count": 2,
   "metadata": {
    "collapsed": false
   },
   "outputs": [
    {
     "name": "stdout",
     "output_type": "stream",
     "text": [
      "Help on function rho_red_light in module traffic:\n",
      "\n",
      "rho_red_light(nx, rho_max, rho_in)\n",
      "    Computes \"red light\" initial condition with shock\n",
      "    \n",
      "    Parameters\n",
      "    ----------\n",
      "    nx        : int\n",
      "        Number of grid points in x\n",
      "    rho_max   : float\n",
      "        Maximum allowed car density\n",
      "    rho_in    : float\n",
      "        Density of incoming cars\n",
      "    \n",
      "    Returns\n",
      "    -------\n",
      "    rho: array of floats\n",
      "        Array with initial values of density\n",
      "\n"
     ]
    }
   ],
   "source": [
    "help(rho_red_light)"
   ]
  },
  {
   "cell_type": "markdown",
   "metadata": {},
   "source": [
    "Now, we can write some code to set up our notebook environment, and set the calculation parameters, with the functions imported above readily available."
   ]
  },
  {
   "cell_type": "code",
   "execution_count": 3,
   "metadata": {
    "collapsed": false
   },
   "outputs": [],
   "source": [
    "%matplotlib inline\n",
    "import numpy \n",
    "from matplotlib import pyplot\n",
    "from matplotlib import rcParams\n",
    "rcParams['font.family'] = 'serif'\n",
    "rcParams['font.size'] = 16\n",
    "from matplotlib import animation\n",
    "from IPython.display import HTML"
   ]
  },
  {
   "cell_type": "code",
   "execution_count": 4,
   "metadata": {
    "collapsed": false
   },
   "outputs": [],
   "source": [
    "#Basic initial condition parameters\n",
    "#defining grid size, time steps, CFL condition, etc...\n",
    "nx = 100\n",
    "nt = 30\n",
    "dx = 4.0/nx\n",
    "\n",
    "rho_in = 5.\n",
    "rho_max = 10.\n",
    "\n",
    "V_max = 1.\n",
    "\n",
    "# x_i now is the center of the i-th cell\n",
    "x = numpy.linspace(0+0.5*dx, 4-0.5*dx, nx)\n",
    "\n",
    "\n",
    "rho = rho_red_light(nx, rho_max, rho_in)"
   ]
  },
  {
   "cell_type": "code",
   "execution_count": 5,
   "metadata": {
    "collapsed": false
   },
   "outputs": [],
   "source": [
    "def animate(data):\n",
    "    x = numpy.linspace(0+0.5*dx, 4-0.5*dx, nx)\n",
    "    y = data\n",
    "    line.set_data(x,y)\n",
    "    return line,"
   ]
  },
  {
   "cell_type": "markdown",
   "metadata": {},
   "source": [
    "The cells above are code that you are already familiar with from lesson 2.  Below is a new function for applying Godunov's method with Lax-Friedrichs fluxes. Study it carefully."
   ]
  },
  {
   "cell_type": "code",
   "execution_count": 6,
   "metadata": {
    "collapsed": false
   },
   "outputs": [],
   "source": [
    "def godunov(rho, nt, dt, dx, rho_max, V_max):\n",
    "    \"\"\" Computes the solution with the Godunov scheme using the Lax-Friedrichs flux.\n",
    "    \n",
    "    Parameters\n",
    "    ----------\n",
    "    rho    : array of floats\n",
    "            Density at current time-step\n",
    "    nt     : int\n",
    "            Number of time steps\n",
    "    dt     : float\n",
    "            Time-step size\n",
    "    dx     : float\n",
    "            Mesh spacing\n",
    "    rho_max: float\n",
    "            Maximum allowed car density\n",
    "    V_max  : float\n",
    "            Speed limit\n",
    "    \n",
    "    Returns\n",
    "    -------\n",
    "    rho_n : array of floats\n",
    "            Density after nt time steps at every point x\n",
    "    \"\"\"\n",
    "    \n",
    "    #initialize our results array with dimensions nt by nx\n",
    "    rho_n = numpy.zeros((nt,len(rho)))      \n",
    "    #copy the initial u array into each row of our new array\n",
    "    rho_n[:,:] = rho.copy()              \n",
    "    \n",
    "    #setup some temporary arrays\n",
    "    rho_plus = numpy.zeros_like(rho)\n",
    "    rho_minus = numpy.zeros_like(rho)\n",
    "    flux = numpy.zeros_like(rho)\n",
    "  \n",
    "    for t in range(1,nt):\n",
    "        \n",
    "        rho_plus[:-1] = rho[1:] # Can't do i+1/2 indices, so cell boundary\n",
    "        rho_minus = rho.copy() # arrays at index i are at location i+1/2\n",
    "        flux = 0.5 * (computeF(V_max, rho_max, rho_minus) + \n",
    "                      computeF(V_max, rho_max, rho_plus) + \n",
    "                      dx / dt * (rho_minus - rho_plus))\n",
    "        rho_n[t,1:-1] = rho[1:-1] + dt/dx*(flux[:-2]-flux[1:-1])\n",
    "        rho_n[t,0] = rho[0]\n",
    "        rho_n[t,-1] = rho[-1]\n",
    "        rho = rho_n[t].copy()\n",
    "        \n",
    "    return rho_n"
   ]
  },
  {
   "cell_type": "markdown",
   "metadata": {},
   "source": [
    "We can run using a CFL of $1$, to start with, but you should experiment with different values."
   ]
  },
  {
   "cell_type": "code",
   "execution_count": 7,
   "metadata": {
    "collapsed": false
   },
   "outputs": [],
   "source": [
    "sigma = 1.0\n",
    "dt = sigma*dx/V_max\n",
    "\n",
    "rho = rho_red_light(nx, rho_max, rho_in)      #make sure that u is set to our expected initial conditions\n",
    "rho_n = godunov(rho, nt, dt, dx, rho_max, V_max)"
   ]
  },
  {
   "cell_type": "code",
   "execution_count": 8,
   "metadata": {
    "collapsed": false
   },
   "outputs": [
    {
     "data": {
      "image/png": "[encoded data removed]",
      "text/plain": [
       "<matplotlib.figure.Figure at 0x7fef343cbf98>"
      ]
     },
     "metadata": {},
     "output_type": "display_data"
    }
   ],
   "source": [
    "fig = pyplot.figure();\n",
    "ax = pyplot.axes(xlim=(0,4),ylim=(4.5,11),xlabel=('Distance'),ylabel=('Traffic density'));\n",
    "line, = ax.plot([],[],color='#003366', lw=2);"
   ]
  },
  {
   "cell_type": "code",
   "execution_count": 9,
   "metadata": {
    "collapsed": false
   },
   "outputs": [
    {
     "data": {
      "text/html": [
       "<video width=\"432\" height=\"288\" controls autoplay loop>\n",
       "  <source type=\"video/mp4\" src=\"data:video/mp4;base64,AAAAHGZ0eXBNNFYgAAACAGlzb21pc28yYXZjMQAAAAhmcmVlAAAimm1kYXQAAAKtBgX//6ncRem9\n",
       "5tlIt5Ys2CDZI+7veDI2NCAtIGNvcmUgMTM4IHIxMCBhZjIzMjljIC0gSC4yNjQvTVBFRy00IEFW\n",
       "QyBjb2RlYyAtIENvcHlsZWZ0IDIwMDMtMjAxMyAtIGh0dHA6Ly93d3cudmlkZW9sYW4ub3JnL3gy\n",
       "NjQuaHRtbCAtIG9wdGlvbnM6IGNhYmFjPTEgcmVmPTMgZGVibG9jaz0xOjA6MCBhbmFseXNlPTB4\n",
       "MzoweDExMyBtZT1oZXggc3VibWU9NyBwc3k9MSBwc3lfcmQ9MS4wMDowLjAwIG1peGVkX3JlZj0x\n",
       "IG1lX3JhbmdlPTE2IGNocm9tYV9tZT0xIHRyZWxsaXM9MSA4eDhkY3Q9MSBjcW09MCBkZWFkem9u\n",
       "ZT0yMSwxMSBmYXN0X3Bza2lwPTEgY2hyb21hX3FwX29mZnNldD0tMiB0aHJlYWRzPTEyIGxvb2th\n",
       "aGVhZF90aHJlYWRzPTIgc2xpY2VkX3RocmVhZHM9MCBucj0wIGRlY2ltYXRlPTEgaW50ZXJsYWNl\n",
       "ZD0wIGJsdXJheV9jb21wYXQ9MCBjb25zdHJhaW5lZF9pbnRyYT0wIGJmcmFtZXM9MyBiX3B5cmFt\n",
       "aWQ9MiBiX2FkYXB0PTEgYl9iaWFzPTAgZGlyZWN0PTEgd2VpZ2h0Yj0xIG9wZW5fZ29wPTAgd2Vp\n",
       "Z2h0cD0yIGtleWludD0yNTAga2V5aW50X21pbj0yMCBzY2VuZWN1dD00MCBpbnRyYV9yZWZyZXNo\n",
       "PTAgcmNfbG9va2FoZWFkPTQwIHJjPWNyZiBtYnRyZWU9MSBjcmY9MjMuMCBxY29tcD0wLjYwIHFw\n",
       "bWluPTAgcXBtYXg9NjkgcXBzdGVwPTQgaXBfcmF0aW89MS40MCBhcT0xOjEuMDAAgAAACoZliIQA\n",
       "O//+906/AptFl2oDklcK9sqkJlm5UmsB8qYAAAMAABGwbnyXDXmr0iQAAK9b30j9M/5gEuGQXtFu\n",
       "lopvbzDZdsdGg/Nmi6R051mk8iVgCf7B7vSFyZ/CXemyPOZHdh6qMsQIU1ROn1QU6eM7VdhspgLs\n",
       "mIhsgVe9b5Fydz8V2qhwHttstLJOwEALuCqyYqsfPM3i+uOTAEIHodtBg1yK1KUcmg/L5f/KOamt\n",
       "YwCxCl7G163xyYTPQTtmmELcxxPSOg7HdcTzHnRN+v/MRlLlFIiywDlckkwoEn2RvXzho8NdAHd/\n",
       "l6Qs8qO5CkSstNLkheSpWMdGOYs/NOQrtEexEl85AElTv77tAgcbvQw5nDZYSeIs16Xa2HEHf+oG\n",
       "myJ4y9AR0Wy/0WaIUBPLJOjIxwud2nPnerwo6sSWV3+1MTGkSOdCh8elWqZzxKfsPZicSJnoTLtp\n",
       "zdsXBP3f/JfPPU182uEiQR0iMlbA+SAEmlKEacTu7iz6whCrd2JQcKgP4KhLLgYASv3/S1m06UVe\n",
       "2nms5zL81JaWMFXTzZItJMvtlccmWLUvIXkyRnfpBUdNlo6bZXSrALB98gu+7Lfj3SOa28VdPRBE\n",
       "u//TWFK3s/wsp+Q1IfDQ2dxY8XBDZ4SBLWYxzOhPr9AO9MgwbxklnWyxCgR8heAQnp/bTgAABz0d\n",
       "AedkZoLCD+ZB02SWl7gbw6ZY2UcKbtG6AQoO97uyxpt0lMNcdy+dLTVvqsLc/SLF8uqBGKJcHfCh\n",
       "ZqlWwFlf9fRLCSMpzT3IKS2oKkrMSary1h0pm+mCtEO+ccqHssFnszdB1oA4hjUbYR4KJJtOOzGI\n",
       "BF7+yLiUalzDBIEYmjErS9mnWdCsOQaiig30WRB9QRByAsz0xismSqsXcACEu+v7nY/QRDcmlB2v\n",
       "PaEA1/MU2fZCx/5cJHViiSfM4YGyQKI66z4NQjcWr4Leh6laXKl1lFb4nw4/+Gxrn83tl4M/4lCH\n",
       "F7Ov0hJfBC+fd9EF9KIP2r2PJrVCjsZM+oLPTcIvB7o3jQcJhlCCCgdXgUZOBf+BjSnBYYvwVZ+U\n",
       "wjyAhdhIn6I1CzX+OmzgIwaGygrYV6QsGjYMEbTCr7hh1seMs/R2XlbGuyHoBCzJs1TicK2v18dX\n",
       "6c1i96ob/QYKvFAbyG/tUDF6+7lQtJ7Tkm+CKThlhRfbQKE2oeQaFwOP6rxezEdCHSAEJGFx/+ee\n",
       "PwqfdNll4b1t6JYolEjQVJ7bMdjRvuLxaboo9q0VA6BSqq49+5cG0vIJycRcGghpVL3m3QoiyPkl\n",
       "ab6k+8i4Ny9eCEXswgF9rv6ZAHsUBTyllYvcbmZB3hZzE7rjptxlN69+au3YyynrTsm2z31v0oGw\n",
       "wVyeqvADMNaZ9GwfQrprNFvLTNuJUsx5CXOxE3bYZwJ9ndby/JGtINU5rtVcTgIcq+gmiLa36zm8\n",
       "RzUuzpHIarMRWhaxt19EV+7ArU2MjO5Q5tfrujQhTTSEB5QfafqhmYIAAhkyzs/P+VrVTngCzcj7\n",
       "DVWllMbJIIWF6TXd/nCukPc6Aa1yAHk5mxcbBgytXhKKpM8aS7QNeBq1Sgi/LpQObfSYkbtHSqyo\n",
       "f9BN4YbG+LkIqfEUvECYZRKuAKUXqvPTBdkwq1Oh0pv0xNNPO8CVop0JqF5XQhGSRi5JugGTYXGx\n",
       "m2slTg5/rb4Jozfrj83VIcH60OXDl2sjOhR9U8iLAC7JONd1Ua+AxxQ+X+vLMlhusxKHEcrm9nZb\n",
       "kXpiIW2VLnvQBSJVAVjo9mH0WbaVvARQym2n3K3JAWvPSYv/sRzLel7Ju4NCkL5UlKyT0sLbvmw/\n",
       "YtdvLjizg32d21K3nZreWoPUn0k0t1zifte7s9ZrkC/QcTqxci/C5ImQjJH4Iktox2aSKR79XySl\n",
       "Wtk2w2Thh8MP+JQhkD8PJRv4phHIfzl+MI3f7UH+Ztp3S90LgBopy3RxTAXqtegkauyYK632nWXZ\n",
       "28nPw1126V2N4mUL/8s0i4irKvcUZ3L0tNxieQZ3YVFyBGXsODPxjGQ/S9twQLktqj4KRiPlLztZ\n",
       "B3kLg3mGGjRHfvZlD/UGgEe7ZqJi19/50IPPMDjjwHsliOc7yV6oH8/8F1Iyb4V0JO8dFG8T48oX\n",
       "y0Qhvg+4s4vkcZFa2qK36OwS+tiSx39d2iPvlW5xdIzw//FSL56TgjNHWIaeOgZc1eMKZTswDA5n\n",
       "3TYkEYk4Gs6fG/jIoNpvT86snTk1mvdyYCbYybG3IVicDSixME50QqXAeUr0Dx3/8ZgPOD4zWBeu\n",
       "R83GDnRMkzNSUZMmuR7hUUo3txq/Ydww6UxPoUiXTIxAIgqAKvGxXgbRZupD2fk2C+EIHS7WohmW\n",
       "kqSd4Vx2Wk/SAXnOSwFMF6QH/NPvJKFnV5qHPvsJetsh/kImOELa4UGzddCYq24S3kbzGdIGmNaP\n",
       "iSQw79OWWazZsiXAJc+L+0WeM9131rtiI89SY9ekPMXI3nU+2HbSFnG5JgOqlanA1fUO+u9kABzf\n",
       "q61I39b+G0Ig+pPUiGKySUEtQDt8u7xzW7uX5rAdiiBfxfqSQYYxJDG+eXT8HXBjSCXvQ73BHnDw\n",
       "X9ZmvGcKsIs/GI3AfZmA4jTwkvYSBQOuMZGLKjIFXp9h6w9bukDEIgvaeYrLRp+TK26z37bIqI7w\n",
       "M/Eh1I1hJmTiIDYD66z3vu8P11NoC4ZnIPif5C7ktzd4HfSB2x+zdvTWGEh6cP/+mUr8jPl9Ca6T\n",
       "sOUW8Z1wyzO9q8Sr54UuOQ52pRSSLGlY8QOGo+n1KhGMWRreANH0nscFr7orTv+BTIZ1kHwryYUU\n",
       "W1FbKXZV87VxjliKYEa0uBxFDolfWBsFCxgEomSZ7Ufyt5d+AVHdj4GvzEqcn23rfrhbNxMeadv8\n",
       "4/5Nf6Y6FKpYZOP2MQkkJ8DVgwAdR2sposqacHmZM1torNUtpuWeDdeHHwjTTfdjMdoxkV1nu6s9\n",
       "y0xj3uNpjsaa9KoHSEFyv23hV4McLr9HT2yQNHk5SOxEIC3WsUUWj2jtN3h12IJCmzZafc3VfJs6\n",
       "DSDZLmDGqOE4/mqcx+wdYNUgwMgkABfMLMtH5Kg1q21DHeheyHDQg8frZQ8xe68ms4+D+P4pP85r\n",
       "gJi9g16mu47kLxEK30BlpEFwby5f/LwL5UpelwuPnxoVdRN8xYUe4yrW6NW+Bt2r7PZ5TI6pjEDW\n",
       "rBQ3l1jggAUfB4wMqtMz6BgQeW/MVF7F3a1fkSKrn2I8f/Xd8shmXGWqBN2ZWkWxRu+4S8BK3uhf\n",
       "1NXy6RWPGLWvolR6CjQ+cuga/f4XfyXdOvgxMexjGeL5Oqm356AG6JmRqOzRtWXuBfQoqE/lQQUA\n",
       "1uFuFkvjkt9MXHSkXHnb680sd1podFiTc0Ggk0qxRnt9k6Wz323jL2k5pisrX2esRd/UkATweUTS\n",
       "zB2+RyxoGu/4cI8eSFlpEWv8h+vmLGYJFse0konm7OEOVWTXTjwe6m7qjUf007USz/fNlU0l4/aY\n",
       "FEE8Bwz3NyxHYbxTkWrR/Iu2C9oX1gb4cpv2SPcILJ2amgBfy3TytwFSyZ0zpFWctUMhgjOdxd6T\n",
       "jjsrEcwc4B5LzD8AAAF4QZohbEP//qmWACUuZStc/gAc4JTvsS5jJQTUVhLP2QeDtrrFEA4r+fb8\n",
       "s6+xK6ofh+F5Li/gLx7gVldM49UZNpYcZ1ZT/KxdNeVkGNKrjjfxoPGC0ZiNyWwHVhn/4qwYSD9Z\n",
       "6fhP4pcC6qclXpnOdrxNpB1q3KLoZfnBG72cTO5GZcHPGhhQXhgC5EnLGiW0jZMjf9fm6vCpMkZC\n",
       "mAUi+z87DECwnyeZnCKAugAW/ZeKkbqZubGZnYwwkp6hzZMh5WNRRu+Pr2JlRcyiKDTd2/DyDICp\n",
       "bdR2JpUgcolWWiA6LLUWidRNMKjNWkI0IIFofyTT4Z0WmEJuQL9DlTuTgHby1Zx0vLD/4wtjAoSF\n",
       "j8ec4PqsoJHWKUp/+F2qYjofkhcNCKGNpz/rZV7BC/biGHWhKUOCJz/t9T3Qt29kOh7JJ8hFSxYT\n",
       "dDPp4SXBnrHvQH+NssNxaOFm6AnV4a19zyoOg670LdnZZFZ56XbfbWLbMU3t/c8OsAAAAVhBmkU8\n",
       "IZMphD///qmWACYKrbPudABT8GbP7jp45n57vEED6ZGFvEAhWBcht+odBRJLTa+svgfq99j5PN0N\n",
       "E1Gh17UC+oRQxTg0U2jwk0YxDe8+Gc9DCeN2gHXl8eyRGu+dtFiq1f+S0UbFn5d+iU5FnNmgOBrj\n",
       "mS+xWU5xIR2PgmHwO+juHaDpX5ZFL6g+S13vfPZv3SL3p3gEPCISbDhB7vbIasdknq7bD2X+alun\n",
       "V3JMRzZdHLMI82ysVmitPWpUj8VIJK5AJfXVuLUmolDQcUoPzEoxd115ZZJrgfi0a0EIUgpfxQCH\n",
       "3IOEQQ9WqceNLLi/f8Bp5h7p76d5C28SMtmnMvCWSov+WsL+qnIzwuK6vvXm/SsiJuJ/LjhIH9KO\n",
       "h4hW4gO9ldLmGuoIUpLrANHaY0s+Z/cCzEWlF4o+/bAoCkuPPvNbLX9Om/JwC1I0ddGcZtyGEQAA\n",
       "AMFBnmNqU8M/AD7uP1EWRGAHSPqfpDulxmnqrp+PYdt8+3bodXKrQK96FJ513VQLcfkAfSJlgZWj\n",
       "W+jFLnW5XLBJTpFkhbqi0zNOTX//zw+XpwzKvKr+yvj8YYwsZqobzmrvHnZcmvhqP7XPQYGNYpFW\n",
       "DSmRBe/UfkHFoYpQ3ZrfaNBjOwomPWWj+SP3e5y+EzbX4q9xg8xcsDK529+bedyoq/tVkhTK+oCc\n",
       "nzdNO43igwh7wL6KUEloHAk15IB5pyDKAAAAhwGegnRCvwB5oNWbtDCHj8SQRaaYqagATmhirjoT\n",
       "lRknEIjGFEBdoBwPkdzYs+p2qwOvpuC6otilRFHfAxXhWmWrHo+pbaye1CNTS921nlyj/u0T7VE1\n",
       "anDzBKIJT/JZvJihBYSgzgrWuUMhUomDSnsR0PB83Z4uURnwdEWT3GAxLuaTJRwswQAAAMUBnoRq\n",
       "Qr8AeX+qGIomx87Cv+yGMgBDVuw42ZtZThKpNtsiEJXD3aFOUkrnf5O97GHFYZvevwV2MktQt3NZ\n",
       "9rXt7e58Q9O0wbSlCNJYkEKBhaLdQUHWQyz7Fim0hY4CLetcZDTZO0QkhIwcJ20DEYsftOrO01CC\n",
       "KgJt1Ab7Nwd6XDhqwpcSx0NXJtm0MBhpYUwk9jVEgVnmyVzo6QtXDnueOhoPC+180S7NIxvamTio\n",
       "LKcFgsTjF1jf95XtfVIUSDIaTtajgQAAAN1BmolJqEFomUwIf//+qZYAJg4ZFEpgAiDhQNS+VBId\n",
       "dJ/MvZz6qdkYAMJWXknkYW/Q34fsruiV65AJ+gz//3w2H7qD/M6UiT6dK2NKFY1TAskDC6ZxJoav\n",
       "GOp7QkpqtKc85HRx6j+tE9Ba4CRSZYJWgw3GQ4X9haO5G7hCsMelMP2sqpxvsb//85EOWVj4Ujbo\n",
       "1AmLadeHhcBjik3iE5CYybK8kPBd8SBW64x+U8m12S7LIdBwMxJuJAkZ1fQgBLHJ5UDbp8W4dLUQ\n",
       "efpotSY9g7O9uH/QH3N4qkOtwQAAAK9BnqdFESwz/wBBbfpfy39g6IUK4YgBChKHjlFfpbP4vhtN\n",
       "qiWGDVHAVf2VyyBWO/YS3dUhdLMe+qLAPRBVbda5D/fWf6iS67tAo+uGneeY401abseQ6A5dNo8/\n",
       "HIDl9Rc4xRuBgVsOqJ2viMdX/XX9YU9u4fChzrZG0SUsu6zYGXCKgNIGii9mXIubyozG14szIL7d\n",
       "Ik/t6w4iY4fiahykB8+ZWZB/CKUZNbQg1DzbAAAAsAGexnRCvwB5oZAcZdfLDwARbnS3IgNrRu/X\n",
       "0WEmUpLo2Tq3qmudj6dWuiNgFJtdKd9eePmoSPdeC816584UgS6kYnwaBVOHVFR6KcRus3V7ROry\n",
       "4nkfffVii+gtT6iEgmU3Yqb0inEKjcEYubFZdflnpUbDhMrsE7iQfF3IqB5BRltbbjSroLPt6UrE\n",
       "5MrrcNYfGWrpsuf5U/SoXJDA0xmZMJIJkqGvv2Sxko4SdhH4AAAAsgGeyGpCvwB5q8ejA4QKAjoF\n",
       "ACaVEB41ElS0L46m4I6qv/JkiQUcv6owz+Tka9HEOMStJS+86IlaIvia3xmSO6WacCqZKA5HScVA\n",
       "VJuZ3tZCiwBM5Gfb7jQWh6MSZOoPuCYlqcF+12W7q9b+nODa0yn9f1qtxmUzps1u6JRuuoNtxtHu\n",
       "NBizIOzeEqPvNknMc+HLPyL/CXil8ATOWhQYmgExMTeVZUvu+ZEKHWRNmhXiwZcAAADCQZrNSahB\n",
       "bJlMCH///qmWACYSEBMQkg4ANnqOChEAk9/xRCcUTsvmTD1ZfD+exl0uxzFbGKXAHcYQXkLVW3K7\n",
       "GkUgg57yKtu8+huhti9GajLotpaTcldQ9/DLZ64Fjtx05jK5EJXxIlXLtWwNsmv9ehxI3Tp53Fjd\n",
       "ufy7GGgSEsKxba1ksjD6PV2vLLhXIxYB+pKLpvHGyNHCFYrOFVGkQiuW39Zwgl3/3zOm/vXDN2l+\n",
       "R01/SjOlklLkYjPju6Q9uLcAAADHQZ7rRRUsM/8AQXIIIYc8GXIdmnIAAhqpadxZn7Gb21ijH4/r\n",
       "WhPxyxAyX+dUW+psBDKh7U6XJZw+JVoA1KiDpZnHsbMIy0+lT91xptv/HtdgL1k/QkFlUaetMgeo\n",
       "56q6qUi17YZnDtwWBbtQg9KkRknRUmPvAmqW3y18asxKVUcHwLEhMEDG5Ll4gS4GemPr2p+9fSte\n",
       "eGy8Hf0rRHZL5eobbny5hXWgYWPKimezvCZlrbpWGczZkkgrFL35juupTxuU62YygAAAALoBnwp0\n",
       "Qr8AeFYqfKd9F2fwpW28G02AE5/Tm2Kin/d24iAAL3rIP05enPKmDahs18cda7ob3EIqeP6/D0NU\n",
       "X/vbtcBXeG89jpLGssKVqbgz/SpALmGlL+aJTo3QbJlL0Z8UNS1ZsvGdhqDm2Kbn/1nP8j1FcL5b\n",
       "wkqEp2GCxbIBCwsvogaGpwxqelgx9K7ypD19mf69zDzLAtDSHPKAvE0KjGMG5FDfFr723Sn1Szdf\n",
       "++fU+iCEHXbrW3AAAADIAZ8MakK/AHhWKztalESQh2jlKk+QBWTgAJjdqtZBmWms//SHx/dcdyHa\n",
       "2x1LcvXZuxRrIiaHJhLm6p5wkKdGgmO4GO22mFZO96Q8jwToSpfMrU1BRG3kpLRvY8jmLg895C8z\n",
       "WBFk2nTrGe2wfYTibrnks3ZB5mQOG3jxtvEI/AkImeXUetEhoyRZbYQ3g0OJulyGk27rv7IuQTE3\n",
       "dC51WupdVZLi5DazDD/udDjgnRYC4Ax0NJ/VS6xvw+jA04usULXthvo/IYMAAACnQZsRSahBbJlM\n",
       "CHf//qmWACcFB7KEAH8I2ukfznxuK7rsyUUqzXETq+/qIeGTrFFH/xD3rz80kX1mSVuAcL2edoZk\n",
       "feJOBEuXh/pV32P/7UOwRyfU1vyfTQff/B5sKrykp/8nAyOZxkM/L3i8VwPv7WsQaebIW+73x3kQ\n",
       "qURdEnC9QPKuQP4O0uC8lmVK9A6qaONh3QYMgzxIxuU13H5sv9RudRBr2nEAAACnQZ8vRRUsM/8A\n",
       "Q239n74rpvRQLS7QAuDy6sdU93CvZko4LW5LfnuE/KM8KDGLO1KhFuj2Dw7AK0+kE15zHQKl9/rc\n",
       "QYckKwosfixaimdY6D11GrTLi3MK/bTKCohM/I+VwV9WdTE1G9/L/mgyul5iblPa2zB3ze6HkTuW\n",
       "ZHI9FXYqivz6MP13oLiUTlTrhvloHCRF26YTDwA6kX89LCi3N2BwEf/6VzkAAADBAZ9OdEK/AHhW\n",
       "KnynWNqVGUQA4zIcqzlgvuu0snDRhtxF5gF/nwgl/bC28z5Ya2cxJsEwjlSBIA2Ud34uGgm57m6f\n",
       "Ql5Mlni7MgHYjk4fEJ3k9M1jYClI1nObOh7u2A/vf2GnmMBWiHfN1RrFW3pkFZGKsyOAl3pJQTIi\n",
       "c3ZDXQYcrYbGktgGE8MjC+sX5W00XwizHzlIsVjDUSbhh2rFHYBJhcZ7KGV6MT8vNBMQZ6+bixPn\n",
       "fNXBmoLJGXzpOUPnUAAAAKYBn1BqQr8AfFisnSSgGYKeVK0W0pmUAEzvX5KXENWlTusYkS6SC2Yv\n",
       "YQqzNy7vCWqDANX1pLj4VDWvlO03PDky+58vJlMady5qmPsdP8Q+bq56oc0KAmFEDeA6kYjECzlt\n",
       "1RqbSKIc9avY+ijRXQlAr3zl3IvueFrtY5wsZo40oO7DfFDQGVw7o6PGqX37pAPxFRK+dWVGjEU/\n",
       "zFP7yQmBtdejlVKqAAAAqkGbVUmoQWyZTAh3//6plgAm/z9MHsxYdABEAYnNrfGqtn9UB0L+A9l0\n",
       "fCadez5GyQ9087BF4XV/VDdYTtgR1Nwv3rxru0BwasoAtdxtl/z9fKhMgmaPgONccUQALpbV8u9Y\n",
       "T7e9SH+DSeF5SyEpz5EtueVZ0w7smeM4BKkN4RBHBbTcJERB4OJULXaAJfVS74AfcciN7iYZ5s4V\n",
       "lAo0KReqUs8wUEGCPMtRAAAAgEGfc0UVLDP/AEN1ykEUUg1FSLLwAnPL4OBjzLCywdAjtRUfRmo6\n",
       "uZa6VDxlUh+W0ICQ2wLMcwD/+q/T82mF9h+NSQ+A4imsvkAebP/wGIlAZO7ty92BVksAKMP/2LKP\n",
       "rAXJNJRyu5YLIS6rgQdwVXj/uHQcgiTMJU1rA0ODKiMgAAAArQGfknRCvwB5d9Xez0+6rVsz9oco\n",
       "AP4v3RhT/3L9jqyX1MHRp38VBddkxZpoon9sncgeGgFG9TrvYfK6UzXnZeDIw7QAP6WsK6RxGXh6\n",
       "gbmo5HEwFjfe+YEaA4+TUUXCFtTkzuo3pcun4sFPS/gGilN29C50Wv0XCIZYbLXnoDg20GaOxD8f\n",
       "hd1JNspk38s8fJeD1aD3vYzMpWwAXwwkUoMK6fXQJLXQ1m97gJ9mAAAAqAGflGpCvwB7Fis6qXPY\n",
       "ILR5U83AA/foz74HgwQrriWTxeeMZeiVLWeQiNm0kf62rAJGLGBvdryIgag9BGGeu4T8PSuR6hm/\n",
       "x+5egzatoxc2nVxw2SP72jNPEGfVztI6HVniLzvK++2OONWSXA1amzaZK25/McH0+Y/q6xdCH/qE\n",
       "T3FL2+nnUCx1XCGlnka1nk9Z1HpDksJq7h4YAmyT8P6Mvmbuz3/i6QAAAItBm5lJqEFsmUwIb//+\n",
       "p4QAT3EfNqABOvgw4JOHGtuesg5rUAfOu8AzszaWuqHFWclfajW4Hga+6hg60/ElmCiOYbLY9YTf\n",
       "Qk6i3kh+FWJXHDgjv6SD03x8LDHwQ8g7aGjUtuUvTM5OsJf398PlQOI58lumTOS5+nVq8GaC8tOR\n",
       "EpwD9v4a3r9/lwRwAAAAmUGft0UVLDP/AEKiIRmy02BAyx/N55PidACYRx4mfVyHThaJ4xIZHzKl\n",
       "sIKv+xO6ykpqn0d4fkYcLLX/BBwuLwzih4XCCdK8QNC91ZW2wfGm6mfqbMYCAZNF8j6QFVdJtpFE\n",
       "P8gg9x44tKJfhahEY7OFE/ui36FYiw1YOAPoFUYVAOQrtnrFlvP43I7k6XTuPTb+J6M5sV5PYQAA\n",
       "AK0Bn9Z0Qr8AexYqevqN9pLN0/yblFInHUAGzCxrPHaastDY9yVz2V+Xp0ic1SjVRYvGoJwlaKDk\n",
       "xOKafh82MPnoPR9J0qnoXb/gUI7QUZ0vbB6Tv0tTizKQrysDXwpmoiUF9fNRFSqRr6eVU/x7jwop\n",
       "KdSxdueyFJebKyPXwdE1XC2FY1LkH3Dg2wTNNglwz54UrOBgKIO4WcJhtNyPw3JOg8FHHKjiTPul\n",
       "daB2oQAAAJ4Bn9hqQr8AexYrOqmPlQcyo8pCxaza3u9vwAhvNObrCyWEGgVCXDw3FPTlUVNf9o+M\n",
       "QpoNJEvqJucrnadNRmLGCGOxNKDFQiDciJJ6S1WZkdHGk0JdDkT1IJ+7qXtvC2913qHzfGZKCziP\n",
       "uy2JDs2QMKgmTtU0lUSybOUK1wKaImfmERhAZcDbO+ycRuLOYSfMBQOG2Zu7N5C2YVqFcAAAAGhB\n",
       "m91JqEFsmUwIV//+OEAEueXe19UINmADxFpYbMY+9fWsbkjKT+fNB78SqD3JIYEoaytqZun1kcYy\n",
       "UrfoCP4i4nvULRaUt9WAsH8XouIedZHkmS5/iWd/YgIPSf0zKEaLWzRr2884wQAAAK1Bn/tFFSwz\n",
       "/wBFbfpfqM+DGxba/gBCixzqqOjf/4TnCSCIQPIFY2v6oeMgII9HYYfmovycAI3PLykY0dHSLd62\n",
       "t38g6rFuJp2d6Mx6XirM52cj1MWtXznLHR+6vRBuTqBoDkCuAIVns2sF40zeYVyKfX3kM9k7O/VU\n",
       "mnRkKWK8GPzk8g6J4XOUmaqCEAQFPa8ZLFZYZ3MzWMi3h1rDk0U8hqGKDDxwe1dmKdRngAAAAKkB\n",
       "nhp0Qr8AfDfVoSilm6yNXgBNXdTgfbelJdLZi2EDQ78zprhnKjBv6zeYlZtsMWsPG2b87hhmjauq\n",
       "jeEh2q1zpPsmIN0dx1nYDNCXbV4ROAMzXQSzXUnD94K4ZWxPEf21UXabF14SnEeIDYTOeDwMibzQ\n",
       "JH/fNEAYVF1qhw2RuAwQVNKqpZ8sMNRwo0MPhmM9R+WnGF6Aune8JEyuKDmM1ZM1igTDFayxAAAA\n",
       "rAGeHGpCvwB/GSVEAw6GY/1wkGX3KSUUtbGr65AU6oASHnj4t5oG1QlYO/zm4JQ56LW6+czVEJ1G\n",
       "hLU55e5lQZHrP4up6hn+/USUNb++m1NA/jwCy2ei7iNltAEbRhg3fwXHBrEbpdVQJpgODb3NwwQr\n",
       "gxJnIoBW3FgR2QTUqP7bkowRlWTyFJyfXstoQ4rfEPC5Di9wEwuFyZ6HYD31qVgfweTr7fgalikU\n",
       "ooEAAASObW9vdgAAAGxtdmhkAAAAAAAAAAAAAAAAAAAD6AAABdwAAQAAAQAAAAAAAAAAAAAAAAEA\n",
       "AAAAAAAAAAAAAAAAAAABAAAAAAAAAAAAAAAAAABAAAAAAAAAAAAAAAAAAAAAAAAAAAAAAAAAAAAA\n",
       "AAAAAgAAA7h0cmFrAAAAXHRraGQAAAADAAAAAAAAAAAAAAABAAAAAAAABdwAAAAAAAAAAAAAAAAA\n",
       "AAAAAAEAAAAAAAAAAAAAAAAAAAABAAAAAAAAAAAAAAAAAABAAAAAAbAAAAEgAAAAAAAkZWR0cwAA\n",
       "ABxlbHN0AAAAAAAAAAEAAAXcAAAEAAABAAAAAAMwbWRpYQAAACBtZGhkAAAAAAAAAAAAAAAAAAAo\n",
       "AAAAPABVxAAAAAAALWhkbHIAAAAAAAAAAHZpZGUAAAAAAAAAAAAAAABWaWRlb0hhbmRsZXIAAAAC\n",
       "221pbmYAAAAUdm1oZAAAAAEAAAAAAAAAAAAAACRkaW5mAAAAHGRyZWYAAAAAAAAAAQAAAAx1cmwg\n",
       "AAAAAQAAAptzdGJsAAAAs3N0c2QAAAAAAAAAAQAAAKNhdmMxAAAAAAAAAAEAAAAAAAAAAAAAAAAA\n",
       "AAAAAbABIABIAAAASAAAAAAAAAABAAAAAAAAAAAAAAAAAAAAAAAAAAAAAAAAAAAAAAAAAAAAGP//\n",
       "AAAAMWF2Y0MBZAAV/+EAGGdkABWs2UGwloQAAAMABAAAAwCgPFi2WAEABmjr48siwAAAABx1dWlk\n",
       "a2hA8l8kT8W6OaUbzwMj8wAAAAAAAAAYc3R0cwAAAAAAAAABAAAAHgAAAgAAAAAUc3RzcwAAAAAA\n",
       "AAABAAAAAQAAAPhjdHRzAAAAAAAAAB0AAAACAAAEAAAAAAEAAAoAAAAAAQAABAAAAAABAAAAAAAA\n",
       "AAEAAAIAAAAAAQAACgAAAAABAAAEAAAAAAEAAAAAAAAAAQAAAgAAAAABAAAKAAAAAAEAAAQAAAAA\n",
       "AQAAAAAAAAABAAACAAAAAAEAAAoAAAAAAQAABAAAAAABAAAAAAAAAAEAAAIAAAAAAQAACgAAAAAB\n",
       "AAAEAAAAAAEAAAAAAAAAAQAAAgAAAAABAAAKAAAAAAEAAAQAAAAAAQAAAAAAAAABAAACAAAAAAEA\n",
       "AAoAAAAAAQAABAAAAAABAAAAAAAAAAEAAAIAAAAAHHN0c2MAAAAAAAAAAQAAAAEAAAAeAAAAAQAA\n",
       "AIxzdHN6AAAAAAAAAAAAAAAeAAANOwAAAXwAAAFcAAAAxQAAAIsAAADJAAAA4QAAALMAAAC0AAAA\n",
       "tgAAAMYAAADLAAAAvgAAAMwAAACrAAAAqwAAAMUAAACqAAAArgAAAIQAAACxAAAArAAAAI8AAACd\n",
       "AAAAsQAAAKIAAABsAAAAsQAAAK0AAACwAAAAFHN0Y28AAAAAAAAAAQAAACwAAABidWR0YQAAAFpt\n",
       "ZXRhAAAAAAAAACFoZGxyAAAAAAAAAABtZGlyYXBwbAAAAAAAAAAAAAAAAC1pbHN0AAAAJal0b28A\n",
       "AAAdZGF0YQAAAAEAAAAATGF2ZjU2LjQwLjEwMQ==\n",
       "\">\n",
       "  Your browser does not support the video tag.\n",
       "</video>"
      ],
      "text/plain": [
       "<IPython.core.display.HTML object>"
      ]
     },
     "execution_count": 9,
     "metadata": {},
     "output_type": "execute_result"
    }
   ],
   "source": [
    "anim = animation.FuncAnimation(fig, animate, frames=rho_n, interval=50)\n",
    "HTML(anim.to_html5_video())"
   ]
  },
  {
   "cell_type": "markdown",
   "metadata": {},
   "source": [
    "You'll see that the result is very similar to the original Lax-Friedrichs method, and with good reason: they're essentially the same! But this is only because we are using a uniform grid. In the finite-volume approach, using the integral form of the equations, we were free to use a spatially varying grid spacing, if we wanted to. \n",
    "\n",
    "The original Godunov method is first-order accurate, due to representing the conserved quantity by a piecewise-constant approximation. That is why you see considerable numerical diffusion in the solution. But Godunov's method laid the foundation for all finite-volume methods to follow and it was a milestone in numerical solutions of hyperbolic conservation laws. A whole industry developed inventing \"high-resolution\" methods that offer second-order accuracy and higher."
   ]
  },
  {
   "cell_type": "markdown",
   "metadata": {},
   "source": [
    "##### Dig deeper"
   ]
  },
  {
   "cell_type": "markdown",
   "metadata": {},
   "source": [
    "* Godunov's method works in problems having waves moving with positive or negative wave speeds. Try it on the green-light problem introduced in [lesson 1](http://nbviewer.ipython.org/github/numerical-mooc/numerical-mooc/blob/master/lessons/03_wave/03_01_conservationLaw.ipynb) using the initial condition containing waves traveling in both directions.\n",
    "\n",
    "* Investigate two or three different numerical flux schemes (you can start with van Leer et al., 1987, or Google for other references. Implement the different flux schemes and compare!"
   ]
  },
  {
   "cell_type": "markdown",
   "metadata": {},
   "source": [
    "## MUSCL schemes"
   ]
  },
  {
   "cell_type": "markdown",
   "metadata": {},
   "source": [
    "Godunov's method is first-order accurate, which we already know is not appropriate for hyperbolic conservation laws, due to the high numerical diffusion. This poses particular difficulty near sharp gradients in the solution.\n",
    "\n",
    "To do better, we can replace the piecewise constant representation of the solution with a piecewise linear version (still discontinuous at the edges). This leads to the MUSCL scheme (for Monotonic Upstream-Centered Scheme for Conservation Laws), invented by van Leer (1979)."
   ]
  },
  {
   "cell_type": "markdown",
   "metadata": {},
   "source": [
    "### Reconstruction in space"
   ]
  },
  {
   "cell_type": "markdown",
   "metadata": {},
   "source": [
    "The piecewise linear reconstruction consists of representing the solution inside each cell with a *straight line* (see Figure 5). Define the cell representation as follows:\n",
    "\n",
    "\\begin{equation}\n",
    "  e(x) = e_i + \\sigma_i (x - x_i).\n",
    "\\end{equation}\n",
    "\n",
    "where $\\sigma_i$ is the *slope* of the approximation within the cell (to be defined), and $e_i$ is the Godunov cell average. The choice $\\sigma_i=0$ gives Godunov's method.\n",
    "\n",
    "Standard central differencing would give\n",
    "\n",
    "\\begin{equation}\n",
    "  \\sigma_i = \\frac{e_{i+1} - e_{i-1}}{2 \\Delta x}.\n",
    "\\end{equation}"
   ]
  },
  {
   "cell_type": "markdown",
   "metadata": {},
   "source": [
    "<img src=\"./figures/cell_boundaries.svg\">\n",
    "\n",
    "#### Figure 5. Piecewise linear approximation of the solution."
   ]
  },
  {
   "cell_type": "markdown",
   "metadata": {},
   "source": [
    "But we saw with the results [in the second lesson](http://nbviewer.ipython.org/github/numerical-mooc/numerical-mooc/blob/master/lessons/03_wave/03_02_convectionSchemes.ipynb) that this can lead to oscillations near shocks. These [Gibbs oscillations](http://en.wikipedia.org/wiki/Gibbs_phenomenon) will always appear (according to [Godunov's theorem](http://en.wikipedia.org/wiki/Godunov's_theorem)) unless we use constant reconstruction. So we have to modify, or *limit* the slope, near shocks.\n",
    "\n",
    "The easiest way to limit is to compute one-sided slopes\n",
    "\n",
    "\\begin{equation}\n",
    "  \\Delta e^- = \\frac{e_i - e_{i-1}}{\\Delta x}, \\quad \\Delta e^+ = \\frac{e_{i+1} - e_{i}}{\\Delta x}, \n",
    "\\end{equation}"
   ]
  },
  {
   "cell_type": "markdown",
   "metadata": {},
   "source": [
    "<img src=\"./figures/calc_sigma.svg\">"
   ]
  },
  {
   "cell_type": "markdown",
   "metadata": {},
   "source": [
    "#### Figure 6. One-sided slopes"
   ]
  },
  {
   "cell_type": "markdown",
   "metadata": {},
   "source": [
    "Now build the *minmod* slope\n",
    "\n",
    "\\begin{align}\n",
    "  \\sigma_i & = \\text{minmod}(\\Delta e^-, \\Delta e^+) \\\\\n",
    "  & = \\begin{cases} \\min(\\Delta e^-, \\Delta e^+) & \\text{ if } \\Delta e^-, \\Delta e^+ > 0 \\\\\n",
    "  \\max(\\Delta e^-, \\Delta e^+) & \\text{ if } \\Delta e^-, \\Delta e^+ < 0 \\\\\n",
    "0 & \\text{ if } \\Delta e^- \\cdot \\Delta e^+ \\leq 0\n",
    "  \\end{cases}\n",
    "\\end{align}\n",
    "\n",
    "That is, use the *smallest* one-sided slope in magnitude, unless the slopes have different sign, in which cases it uses the constant reconstruction (i.e., Godunov's method).\n",
    "\n",
    "Once the *minmod* slope is calculated, we can use it to obtain the values at the interfaces between cells.\n",
    "\n",
    "\\begin{align}\n",
    "e^{R}_{i-1/2} &= e_i - \\sigma_i \\frac{\\Delta x}{2}\\\\\n",
    "e^{L}_{i+1/2} &= e_i + \\sigma_i \\frac{\\Delta x}{2}\n",
    "\\end{align}\n",
    "\n",
    "where $e^R$ and $e^L$ are the local interpolated values of the conserved quantity immediately to the right and left of the cell boundary, respectively.  "
   ]
  },
  {
   "cell_type": "markdown",
   "metadata": {},
   "source": [
    "##### Index headache"
   ]
  },
  {
   "cell_type": "markdown",
   "metadata": {},
   "source": [
    "Notice that for the cell with index $i$, we calculate $e^R_{i-1/2}$ and $e^L_{i+1/2}$.  Look at Figure 5: those are the two local values of the solution are at opposite cell boundaries.\n",
    "\n",
    "However, when we calculate the local flux at the cell boundaries, we use the local solution values on either side of that cell boundary. That is:\n",
    "\n",
    "\\begin{equation}\n",
    "F_{i+1/2} = f(e^L_{i+1/2}, e^R_{i+1/2})\n",
    "\\end{equation}\n",
    "\n",
    "You can calculate two flux vectors; one for the right-boundary values and one for the left-boundary values. Be careful that you know which boundary value a given index in these two vectors might refer to!\n",
    "\n",
    "_____"
   ]
  },
  {
   "cell_type": "markdown",
   "metadata": {},
   "source": [
    "Here is a Python function implementing minmod."
   ]
  },
  {
   "cell_type": "code",
   "execution_count": 10,
   "metadata": {
    "collapsed": false
   },
   "outputs": [],
   "source": [
    "def minmod(e, dx):\n",
    "    \"\"\"\n",
    "    Compute the minmod approximation to the slope\n",
    "    \n",
    "    Parameters\n",
    "    ----------\n",
    "    e : array of float \n",
    "        input data\n",
    "    dx : float \n",
    "        spacestep\n",
    "    \n",
    "    Returns\n",
    "    -------\n",
    "    sigma : array of float \n",
    "            minmod slope\n",
    "    \"\"\"\n",
    "    \n",
    "    sigma = numpy.zeros_like(e)\n",
    "    de_minus = numpy.ones_like(e)\n",
    "    de_plus = numpy.ones_like(e)\n",
    "    \n",
    "    de_minus[1:] = (e[1:] - e[:-1])/dx\n",
    "    de_plus[:-1] = (e[1:] - e[:-1])/dx\n",
    "    \n",
    "    # The following is inefficient but easy to read\n",
    "    for i in range(1, len(e)-1):\n",
    "        if (de_minus[i] * de_plus[i] < 0.0):\n",
    "            sigma[i] = 0.0\n",
    "        elif (numpy.abs(de_minus[i]) < numpy.abs(de_plus[i])):\n",
    "            sigma[i] = de_minus[i]\n",
    "        else:\n",
    "            sigma[i] = de_plus[i]\n",
    "            \n",
    "    return sigma"
   ]
  },
  {
   "cell_type": "markdown",
   "metadata": {},
   "source": [
    "### Evolution in time"
   ]
  },
  {
   "cell_type": "markdown",
   "metadata": {},
   "source": [
    "Since we are aiming for second-order accuracy in space, we might as well try for second-order in time, as well. We need a method to evolve the *ordinary* differential equation forwards in time:\n",
    "\n",
    "\\begin{equation}\n",
    "  \\frac{\\partial}{\\partial t} e_i + \\frac{1}{\\Delta x} \\left[ F \\left( x_{i+1/2}, t \\right) - F \\left( x_{i - 1 / 2}, t \\right) \\right] = 0\n",
    "\\end{equation} \n",
    "\n",
    "A second-order Runge-Kutta method with special characteristics (due to Shu & Osher, 1988) gives the following scheme:\n",
    "\n",
    "\\begin{align}\n",
    "e^*_i & = e^n_i + \\frac{\\Delta t}{\\Delta x}\\left( F^n_{i-1/2} - F^n_{i+1/2} \\right) \\\\\n",
    "e^{n+1}_i & = \\frac{1}{2} e^n_i + \\frac{1}{2}\\left( e^*_i + \\frac{\\Delta t}{\\Delta x}\\left( F^*_{i-1/2} - F^*_{i+1/2} \\right) \\right)\n",
    "\\end{align}\n",
    "\n",
    "Recall that the Rusanov flux is defined as\n",
    "                          \n",
    "$$\n",
    "F_{i+1/2}= \\frac{1}{2} \\left[ F \\left( e_L \\right) + F \\left( e_R \\right)  \\right] -  \\frac{1}{2}  \\max \\left|F'(e)\\right| \\left( e_R - e_L \\right)\n",
    "$$\n",
    "\n",
    "Armed with the interpolated values of $e$ at the cell boundaries we can generate a more accurate Rusanov flux. At cell boundary $i+1/2$, for example, this is:\n",
    "\n",
    "\\begin{equation}\n",
    "F_{i+1/2} = \\frac{1}{2} \\left( F \\left( e^L_{i+1/2} \\right) + F \\left( e^R_{i+1/2} \\right)   -  \\frac{\\Delta x}{\\Delta t} \\left( e^R_{i+1/2} - e^L_{i+1/2} \\right) \\right)\n",
    "\\end{equation}\n",
    "\n",
    "Now we are ready to try some MUSCL!"
   ]
  },
  {
   "cell_type": "code",
   "execution_count": 12,
   "metadata": {
    "collapsed": false
   },
   "outputs": [],
   "source": [
    "def muscl(rho, nt, dt, dx, rho_max, V_max):\n",
    "    \"\"\" Computes the solution with the MUSCL scheme using the Lax-Friedrichs flux,\n",
    "    RK2 in time and minmod slope limiting.\n",
    "    \n",
    "    Parameters\n",
    "    ----------\n",
    "    rho    : array of floats\n",
    "            Density at current time-step\n",
    "    nt     : int\n",
    "            Number of time steps\n",
    "    dt     : float\n",
    "            Time-step size\n",
    "    dx     : float\n",
    "            Mesh spacing\n",
    "    rho_max: float\n",
    "            Maximum allowed car density\n",
    "    V_max  : float\n",
    "            Speed limit\n",
    "    \n",
    "    Returns\n",
    "    -------\n",
    "    rho_n : array of floats\n",
    "            Density after nt time steps at every point x\n",
    "    \"\"\"\n",
    "    \n",
    "    #initialize our results array with dimensions nt by nx\n",
    "    rho_n = numpy.zeros((nt,len(rho)))      \n",
    "    #copy the initial u array into each row of our new array\n",
    "    rho_n[:,:] = rho.copy()              \n",
    "    \n",
    "    #setup some temporary arrays\n",
    "    rho_plus = numpy.zeros_like(rho)\n",
    "    rho_minus = numpy.zeros_like(rho)\n",
    "    flux = numpy.zeros_like(rho)\n",
    "    rho_star = numpy.zeros_like(rho)\n",
    "\n",
    "    for t in range(1,nt):\n",
    "               \n",
    "        sigma = minmod(rho,dx) #calculate minmod slope\n",
    "\n",
    "        #reconstruct values at cell boundaries\n",
    "        rho_left = rho + sigma*dx/2.\n",
    "        rho_right = rho - sigma*dx/2.     \n",
    "        \n",
    "        flux_left = computeF(V_max, rho_max, rho_left) \n",
    "        flux_right = computeF(V_max, rho_max, rho_right)\n",
    "        \n",
    "        #flux i = i + 1/2\n",
    "        flux[:-1] = 0.5 * (flux_right[1:] + flux_left[:-1] - dx/dt *\\\n",
    "                          (rho_right[1:] - rho_left[:-1] ))\n",
    "        \n",
    "        #rk2 step 1\n",
    "        rho_star[1:-1] = rho[1:-1] + dt/dx * (flux[:-2] - flux[2:])\n",
    "        \n",
    "        rho_star[0] = rho[0]\n",
    "        rho_star[-1] = rho[-1]\n",
    "        \n",
    "        \n",
    "        sigma = minmod(rho_star,dx) #calculate minmod slope\n",
    "    \n",
    "        #reconstruct values at cell boundaries\n",
    "        rho_left = rho_star + sigma*dx/2.\n",
    "        rho_right = rho_star - sigma*dx/2.\n",
    "        \n",
    "        flux_left = computeF(V_max, rho_max, rho_left) \n",
    "        flux_right = computeF(V_max, rho_max, rho_right)\n",
    "        \n",
    "        flux[:-1] = 0.5 * (flux_right[1:] + flux_left[:-1] - dx/dt *\\\n",
    "                          (rho_right[1:] - rho_left[:-1] ))\n",
    "        \n",
    "        rho_n[t,1:-1] = .5 * (rho[1:-1] + rho_star[1:-1] + dt/dx * (flux[:-2] - flux[2:]))\n",
    "        \n",
    "        rho_n[t,0] = rho[0]\n",
    "        rho_n[t,-1] = rho[-1]\n",
    "        rho = rho_n[t].copy()\n",
    "        \n",
    "    return rho_n"
   ]
  },
  {
   "cell_type": "code",
   "execution_count": 13,
   "metadata": {
    "collapsed": false
   },
   "outputs": [],
   "source": [
    "sigma = 1.\n",
    "dt = sigma*dx/V_max\n",
    "rho = rho_red_light(nx, rho_max, rho_in)      #make sure that u is set to our expected initial conditions\n",
    "rho_n = muscl(rho, nt, dt, dx, rho_max, V_max)"
   ]
  },
  {
   "cell_type": "code",
   "execution_count": 14,
   "metadata": {
    "collapsed": false
   },
   "outputs": [
    {
     "data": {
      "text/html": [
       "<video width=\"432\" height=\"288\" controls autoplay loop>\n",
       "  <source type=\"video/mp4\" src=\"data:video/mp4;base64,AAAAHGZ0eXBNNFYgAAACAGlzb21pc28yYXZjMQAAAAhmcmVlAAAymm1kYXQAAAKtBgX//6ncRem9\n",
       "5tlIt5Ys2CDZI+7veDI2NCAtIGNvcmUgMTM4IHIxMCBhZjIzMjljIC0gSC4yNjQvTVBFRy00IEFW\n",
       "QyBjb2RlYyAtIENvcHlsZWZ0IDIwMDMtMjAxMyAtIGh0dHA6Ly93d3cudmlkZW9sYW4ub3JnL3gy\n",
       "NjQuaHRtbCAtIG9wdGlvbnM6IGNhYmFjPTEgcmVmPTMgZGVibG9jaz0xOjA6MCBhbmFseXNlPTB4\n",
       "MzoweDExMyBtZT1oZXggc3VibWU9NyBwc3k9MSBwc3lfcmQ9MS4wMDowLjAwIG1peGVkX3JlZj0x\n",
       "IG1lX3JhbmdlPTE2IGNocm9tYV9tZT0xIHRyZWxsaXM9MSA4eDhkY3Q9MSBjcW09MCBkZWFkem9u\n",
       "ZT0yMSwxMSBmYXN0X3Bza2lwPTEgY2hyb21hX3FwX29mZnNldD0tMiB0aHJlYWRzPTEyIGxvb2th\n",
       "aGVhZF90aHJlYWRzPTIgc2xpY2VkX3RocmVhZHM9MCBucj0wIGRlY2ltYXRlPTEgaW50ZXJsYWNl\n",
       "ZD0wIGJsdXJheV9jb21wYXQ9MCBjb25zdHJhaW5lZF9pbnRyYT0wIGJmcmFtZXM9MyBiX3B5cmFt\n",
       "aWQ9MiBiX2FkYXB0PTEgYl9iaWFzPTAgZGlyZWN0PTEgd2VpZ2h0Yj0xIG9wZW5fZ29wPTAgd2Vp\n",
       "Z2h0cD0yIGtleWludD0yNTAga2V5aW50X21pbj0yMCBzY2VuZWN1dD00MCBpbnRyYV9yZWZyZXNo\n",
       "PTAgcmNfbG9va2FoZWFkPTQwIHJjPWNyZiBtYnRyZWU9MSBjcmY9MjMuMCBxY29tcD0wLjYwIHFw\n",
       "bWluPTAgcXBtYXg9NjkgcXBzdGVwPTQgaXBfcmF0aW89MS40MCBhcT0xOjEuMDAAgAAACmxliIQA\n",
       "N//+9vD+BTY7mNCXEc3onTMfvxW4ujQ3vc4AAAMAADfc5kT+ypMG5sAAAujx+kfoX/EAyJ6k5b5G\n",
       "ZApiY13KkkcKgITfO5XXvYqk2aFEJ/r+vMoeVevi++bI85kLvGN+MscXnQs3PVpTNBgqiJZgmarh\n",
       "FdMrTBdx9FVNopJqco4tLPTWksmbwP9tYKrJiqx88zeL6o5IARBbl8jhLkVrxJRLf+Xy/+Uc1Nax\n",
       "f4fbco9//njkwmegnZtMIW5jh+kLoHyNCADVrzP8Ka57e9bbGi+169nxH0YeMDxvHoXDwicIbM+m\n",
       "BFdyo5U/l4LU7DO3O38BzKMK7N1xKWmdY9iJL5yAJKnf3pSpA43ehhzOCywk8RRIxyRCmIN19QNN\n",
       "kTxl6AjoVcx7AsRAGCsk6L4qfpXPN6qj974foc1GP5O+qiKEpYy8Ug1T5QNLZiiLeSIRquQOPvAg\n",
       "YZ+w8+h/f/XqQhBnmLl5QPe55fBM5UcKQoj950sjQ28mcLLTtNP7Djdx8xQ4s6xtsob1R90UCjci\n",
       "q2m9h/DAouDO1Vhq8heTJGeF96OYOGDptldKsAwK4Lj1eBCupdI5rhH35YlwJd/9wswvDF3RIwNK\n",
       "Rte8dTmtWV7B2kyX6jNrgc6Nywin/WyDBvYA6xOXVJtHyFxy4oj6T4AAAhMVfmIDuq53wHQUdjz4\n",
       "aYMNGF4OTlbfUKY3I1AUwU8aKJi6b8AuCdI7xL9kzLgF8G+fEcznQ88CJv0dd5rbmo419JItBAXN\n",
       "PcgpLagqS9/b+vLWHSmb6lwZc8Wa/GVR72PPBOctAHEMajbCPBRJNyn42VTdvf2RcSjUud0+1b5d\n",
       "Oja95p1nQbnY4oooN9FkQfT7Pldnqjp+ASgmnVUgBbpAdXFGb7AeBAtVSqfzdeMgN6tx6xFx+df9\n",
       "ylp6/yTqi/QoDs41W6ECJOjQodyUmX8vi5WTTsaxRi0vp/4te+vko4GVeup91F1QBf5hJfHM+fd9\n",
       "EF9KIP2r2TDrkxmYLOqoIOpuEXhAFin0XCYZQggoHV7KGR1UMy98aFU8ZqHitdkSZKlhf+hAmWmR\n",
       "5TUGXHUUBJAAT0IqAyeep/LK+Lj8o8BNqAnigaYnGWfo7Yz6QUMFcGi1XUIC3R9C19aOr9OaxJ9X\n",
       "7/YsX/z0u/0xIGkfxdNrQzi6DqC+CKTtV8bkzwEwOZBNQKyYxMaFiU8L9X9yGwNl3/554/BpexRk\n",
       "gBVd2uOrEZjtxwvtsx2NG+05ydHSt2VcGB0ClVg399y4NpeQTk4i4Hni/66RCfOKxnJkAOklJ95F\n",
       "wbl68IIvZhAL7WTxAm3Ov9BtSAkt1Ox977M2+mTOmTMxI5td+au3YzxnqmIuCEGNvHcNAqBFLKuT\n",
       "4UJY1dNg+hXTWaLiC7bcSpZjyEt4dbyo9W2LCGYuVHW6w3oU5rtVcTgocrbImiLa96yodE0tX2B5\n",
       "9g49m1OdQC9e4/pfvRVLx7FwBaHPRQkE19/qWwHgAA7+UNioJTV3UB8F21XGNoV6TXfszWKKowi5\n",
       "8ljEUl028MHdqmq1CIT8d3VDDXtth0lvoh9KgmARMG0hMVhfRiWBsDWkzqtF6zsC+JQl4stEBE39\n",
       "cA2CD76YZIgVWp0OlN+mJpp6YpuTLNy9FAWMnu0yN/YAYxwVfSFd1ip0lInUsFCFopnCKOBbreZi\n",
       "B2Zaism2VbZO9IPQnLlWb8ISe4t1n8sBZ/U5846JpqATpPQDA/20hksN1mJQ5eJmow+gfhXTEQtt\n",
       "tLnvQBSJVAVjo9kbxYO7f5KooZb9JNVjJ1mkb0VZXYb+K3peyb3OVpv9/pM1nWsyTbf7XLMAsybn\n",
       "7t5jTO1wXbbNby1B6k+jWnZRamwHC+RMLyVCIyO2OYZnhG63noMzhpwYlgZIWju/V8kpVLHYP8WA\n",
       "BbBh/xKEMgy7CfrvFMI5D+cvhKUib4qpu4y7dHBwuAGinLdHFMBeqkpR/o653XvQ+yiUA5Ts/DXX\n",
       "bpXY3iZIf/0x+56kjr3dX37NrabjE8gzuzNHZtjHTECYjGMLE33g9KW7iHCxB1CNCwGTsDvIzR09\n",
       "EV+dm6ah88LZ0VdzU8m3xOnxUIVvbnOd5DSsg+99Qi2XLgmwBh5Q7TJDK0/T+E/8SfDcP7NcN/aU\n",
       "xmipncfmW3hHLKSIh0uYY8DBtelAPBi8lRfk59iVxjBh+lY+Vy+x6qV30jxj80IkHNHWAWFqFaIp\n",
       "OmIEt47RRhGm1e7kvjWbUTVuQrE4JGP4TFpt8yHixdBcfcdAqgTzb3GawL1yQXZcpluthwWzRRML\n",
       "ke4VFKN7ca1ffcMOlMT6FIkkyUBkhAKFXjWDHGaBrqwHhojVXNDDZVLxrf7YuKnS6ZytufeRLq9W\n",
       "ynAk8O9ao4TBSRf+Fkm6NBP/lPQ2jWr4nvaN0t3vP0LK7JrAGAyDNWpDIx2kd9MUfIc9Ossc5HMt\n",
       "opqSxdyJ8tbw6np7WoWPVxiX1KB4EAD7wrYlIDUXyn895ygB+QbCBRMq8IiAxm7qztQ8k5rqUUBZ\n",
       "ls4rHzz97Jq/E4HanjPvoteJS9VqBsuOVNLACisPy4MaQS8j+BKImuW8KsjStRgF4LiJXwCnpz5J\n",
       "kzZTJXE89GjzarTEX7ge8KNPn91Iy5F5YXTuYOuP3KWz0vSBrmzbtVgSWC4hsHlINQSd153cUTev\n",
       "9+48B2Yws/qzCcOZRKbN16DrfV2fXDde7x1/7npiXAINnyDd0rlG/ITbvxPXC+FTpZwhZEnQieWm\n",
       "heiXo8dJB8MZyB0c7eSSwsvwszSuvK7NeXgPrxjtQSsCrNhRQmFOF2RNvztQXJIbT9hfSrYIG0xJ\n",
       "FaZsFCxgEogLeWzKU3u2HPzArEIg6RfqeVIarHfAUrihrxo2fSbz/G1/xzU6uSA1W15alsS0UBkq\n",
       "Bp3+DNU/EQtYtDpjKWz8SSkYTxhEIpiAdTdxuxv8Pv47j/VC1WDvAEY/A6jmJZcBVkQ5sB4+jFsz\n",
       "JhaH85+xHgcmY6z2ss0Qk8dXbnbo7m47bISEfj/sjZDIN6tGrD1pM7One6iwIM3i4j7lILDSNYnZ\n",
       "gym/uH3turp8d6F7lfjiY3WuL87IWWKwDupNWfkLDoh36AvYNepruO5D9q2vxHGD6BcEj2Dq24x2\n",
       "ZODKF28uN+cO+KodbKBpoSFC3wVH4N3UoJYB/GHNweVFOR4fldBz0vN4NGzzH7plvZbP5TjwzVEZ\n",
       "TUMiJHAgz9J8t9WhOrlSqe0acHeUS7lH6jQ6douQiB/+DjrWWWKyRA92bu+smMbwEWaT+sRXUvSz\n",
       "Zvae+SxsLxU/Em1EsNgvKSij3JC/alL9K3dh0SQiBmsey5vO9grImban/GQnHnb680ra9popXUYJ\n",
       "qi4gjOHLLHr8hYI+P3jL2kfsnheaECEw2W222NWTkRVDII0Pjz2DLHklahuBRiVziz4Yfr6yxmCD\n",
       "1nulqJ5uzhDlVk12D4OSkLqs1H9NO1Esda2BVNJeP2mBRBRZRP2alNNWG8Unlq0hKhllgTSNyDwK\n",
       "GyjF1Mw+Fbwl5v+VydVnjEiyZ0zpFWctcF1gjOdxd6TjjqQTnRODFhnBAAAB+0GaIWxDf/6nhABJ\n",
       "ZRJegAQlVG9t4nNcwVLLi0GwB/Dst05F9dO0kiNQyQybVNf0Sm3zeGzFYb4baMn9s4cOYX8KKEvI\n",
       "ZXdwYX4KVFCdVdS9lLaRp8cTXUNpqUmQ1r2NCatfuIYIEfUWH8t+TDzoFdkWIMntLYrTwPX4M5u+\n",
       "FFiDRoYLjRuS56+wfZfnY3bfeYwZ1jvzQI5hM9op5iccnyrC45Eu2jeJI3G65cN/ShG15viS8Jot\n",
       "/qLEyjSLp1v8CKIcFRmrnSBAS+wk5HNi5lg0jv4cDossa2kZIwryeYOCm2YW+SFE3H4IMj5MEXz2\n",
       "tB7LQwfC6T1JG3DyhTZhtTQoztxvgdn19IrSWN5GkEbWbG0mc5YegZnU5TkqwGr2CIiMejE4nMoC\n",
       "Hb/YoOd9PblymWKNe9cB5nLFMiT/P7I7/T8cndMwvoCiQIEtuiTDwTu2wClpjgQqknajL1FRycw2\n",
       "DSHWzqSfOVApn1uoWLwLHvVCM/nBRM8EpPgDDE82UTkhddmx/yuptT/RpCtYbRytm1xAD3+81yWV\n",
       "86dOYedBxuA8wv/CyH9FtNzFOY3/bcJXLaGtdg4stxU1UeeY4Ch5R5c6ISxN6ECVLNCKrBCemvJj\n",
       "PpbNxjj6fA4pYbyKGkbFwCjo4tdW9mYgGtDcSbdzXZ1zpFImFOyI2AAAAYxBmkI8IZMphDv//qmW\n",
       "ACUmj0nNAAyz1UD5n3XSIsRRuNLmoAZHSsjhSpD39OTcb9Wx2QVaJZjvu6ofY+ydQQsZgZ6Vk5+u\n",
       "BFCebOJUdHUe9SeCOZHufPLnJKJ7bgZplmUDWuhD8SVA1exqQ4IMrhoExu5IdQL2bBchXPIELd5j\n",
       "hM+RMxCbnHbaoPzQeORniJ5H7xeMJ6gRugdhX5dJEbTEUBrG6cWMpXdlpyjnyxHY3j9Oems7mgVj\n",
       "21q8L4QZNs73LbwIqSYOCUIWDjo/emsepvz2sPlbtrTnc5Vvx3/Jafk0kIEDm1h9nEef1zZoFDpa\n",
       "EOVipa68eyqfX1/QVHRcHgIr7EZkpPSniNf4gZ+gYpWqUDzAx5QFKEjcsoSneesvP9/1WoedUUAf\n",
       "/44EcD9L+x8xc6zo5MAtnuIW9iS4+WvBIoV4PyDpgqKmNTGjPZUjX/cSd2lTCUR6uiGG7E1FgxlM\n",
       "N+MIwppxTtSUccPVpIOQ+7pHlOFlmi0rUWBuOT1c4EWICQw/jVMSE0MAAAIBQZpkSeEPJlMFPDv/\n",
       "/qmWACYakPm4JoALwsh7Vhm5jDexEpn36zP3b0uwvW+Ehw8JQVduV8bZbImn9mibULZbRiazHHgu\n",
       "y55AJ1d+bUTMkBiSAmFtHQBN0/MaMQp6JuZwuz9b+xTjTJuyuhUWLvr3BkJCFa/FhZsxc20Vqg+Y\n",
       "zkZC8MYTaIcAmnI+qMoSuwH9Fatam/QxH3x5bAIuTTTW5K5U8KSA3Q2cKymmbxNvirPYm/B8QZYz\n",
       "JLadSSOMRJcSjDC6iSFXfmAa+XXAfFZPauWmBy5GufyhIdByMMwXUsraguCXQDOFe586V4KvdsXW\n",
       "NeBeM1k9cExIo4XCyTXbsC0zUQZMfBhjURqKhfDbmTHerIl4t3PQTxuzkkxb0U0OnKiPsY/d7CEg\n",
       "83/EfEZhOT6Ma7MIyzsOglngOB6fBTj3V8zh71L8xh96GgO7e7RrIefxYlHibjxfbZ1RbBWlCPSC\n",
       "MDiSWveVrjprkeEH4gi6dyvDTsnxfRx9Q0GBjImEtQ3fxTVHr5NAQGl4MejjItyY7DfjeRObxQjV\n",
       "M8eEph17AC46GnBxxima08bgkVmFN+Zu4AM2lBu6Uq4qYh9bQjqC3LA3b0LtZqh2iPWl6tpbnRv/\n",
       "XQRk1K8IZC3VMnHhAwa/3cm5vkoytZ/gwHwUWLrjXxHmJTMyyDXhawjhYgy8AAABDQGeg2pCvwB1\n",
       "li3B9d7hONz/pyxg8W34THnf+ezWm49hs591kN+wwJVzi+gSXtPvG4yscg+XfktcxmLL2nZnRN4q\n",
       "O+cXvig65mDPS6rjBZ0a82Rc5XgwwLojte9M27RCYOqINv4DSC/3L4E3f7SzT5BsB36lhr2ybKSi\n",
       "Eqxd7amvk1ClD3yyB62ATjV8IRmVK8ooyhrJMhcr03lfd4hUKkAh1pglwgsTqwja55XTdyCJ0dFk\n",
       "+yMW0Lz5ejjsKrDCAfuke/QTa8K8p+egtCKlVNQ7Mm6WkdrzaG9JuTL4mC5NudFSzbAGaOoHeEHr\n",
       "y6TQ0XcxHpsTJomhp4/mtvXUZ9vQMvcjYxT0U60kICPhAAAB/0GahknhDyZTBTw3//6nhABLk3H3\n",
       "SrdLOXgBCRsVSYKg/gkaRdso3Stcx6FgqpN64J8W68zuRH7JsSsc3UkULpD+Gve0gPIRxRHOUCNx\n",
       "DZyZs/zo524c4iZ3ssjIlaCsgaQUSEcf+JJQ5UlPTHdLPd8xoEjW/RQ1HvsPId88GgtzFh2NLDSd\n",
       "Jj5rqnX57t1CA6GqerX2LyBQ+0xg0C89ZgLstV823NDf/5huTUJcSIlUt0Q5awr7Kmo42zqNnZEM\n",
       "E4s+lYpqGgPVdeoszoDQW5ATDeJQYmghUw0RIWF0M4x+GQuGXtrEadYBOjrU2ywq2OcGHj6n09fQ\n",
       "xTrTwj8b+y8ns2XOmlbrm9Kw+HxUm8tXwQJgLStvxi8QLNfadQUiOBzNu9OxjNTCR1pP/LWTUki+\n",
       "NhSxSQwj7brlr/6rOSj5t/3LW5moxD88otts/DA76bc2Zum4Iwn/ND9DqzF+jUaRHHIk+HTQrCD3\n",
       "AxPASmSlVFQhI7RbwMwBf3KlFkU0rz/QfS8qFxx95QaCaPFmwZaHiHKPAORVz4AemXr09WjOoubQ\n",
       "bhybPdYSyZ89/Kchx5Fuuhlat0pPHOTSWQC//Cuw/4vYcKAG82kruMeg460LAwoSMxUJ1OO/WwsS\n",
       "jVRV8NOQuXd7/7sB1gYwN4n71hk4Ik2t6XEee9cv4vB+ZXsAAAExAZ6lakK/ADynsS5/pegBNXnA\n",
       "L3nvfzkaUp/2bRYwQ9Y/iaWD1nafq9OC26CW8j3gmPDu/30mFVEyvn3W6SwP527EcFCY8ds5v+67\n",
       "0Uvjj5vRDrV6VdkWtn39RvzXjIcWgdYh8SOvoOYqIRTIHRpw63c+wf1Dq91mQpvbD06tcIR68b1h\n",
       "1cFqXhRqSdjzm6p2S1SEFE8IHfVUsfwsOKXsJ/+NvfV3vWzwouKG4IQqjJIk6nLurxmWtBGHuUwW\n",
       "0qwqcxk+FYQNkC4tEiclcLyqIatxW+o3UyyH1FWbMElMZ7f5rF8nLl22pNLGi/3XCLQsAArkMLVY\n",
       "KKOvLAUOfYvP8LoMXIufO5uLPj7hpIFk8p43li8wxJXAUl81taX0hayUU59ul1AbLc/dy1QilDr8\n",
       "04EAAAH2QZqnSeEPJlMCHf/+qZYAJf+T0OkCopSUfQANGGRbmiBD6bOCikuUEXlt3IZuLIcJfY4k\n",
       "5y5ovP4C5Dy6M3mrIECmFoCIECLRZxS6Sg8ICVwbGzDd2YiHIawwbSaCBw/jecOk82HEoBK5gFv8\n",
       "cDLaL91DSJsjfxORdRHy7c6UHKlhclNxtBIcEjK6kRyZvYljOCKphDiLdKCZkg2sEHo1bETEi/dE\n",
       "vgRGNAb12zA4F2Achr/4OVs87i5wM8C0hOCp2eORP6w/VEEUeZNiQN1CW1zil4Z80dkuMejlDtWC\n",
       "YLf0CPLyMTKFZyIpixBJTXphHR5f0OmgW8k/W+Gnl6Uw5WsWlOgbsyeLnUfrVDCakZ7m3QKUs5Mb\n",
       "4sZ+jhMNz5d1Q/oeD5AvnIS4qZ8WEXt/IQklcgpwx4+QuCKlWlxkO8USa4s7WCffHbMFb5s7yT3U\n",
       "wPDleJn+UpSRugLcSvGDCCMFvP/HpEiv6xRJj0dXGqC9gy/G73yQqRNOBxkosxhy9KVY45Ibsr1y\n",
       "U6EdsrjZCpWcR5ll6N6XnQpsYMYMPiZlldyz0D0WQYckvSu7O+rmw5cMW5ulx1D/5Rxb3yZD4pEW\n",
       "3N4ZKedadIzLg+XzrVLKg8FrYaEtbu1XZAg9/k8VtVgtdqvu+DUWfaejMIF2TTor6vfHwQAAAbtB\n",
       "mslJ4Q8mUwURPDv//qmWAEp+lw0ZJUEQm5oAPzl3F3NKgqJoxyevQSbM9/DUuAc79YNxJi+ad5i4\n",
       "gax3Ku76qA+fNQfCccIiqBOPOnfoef4ozQ3qV/2NCyQKfTFqUFrPCtori5zluClbDzaqMWg5yVxc\n",
       "fyL95k5YaHn2LVaVmhGR9f2n+o1vnmXfugcec+YjrapEo/ijMdmPjk4l79+sVviz+r1p5UVBY1vG\n",
       "rm7Wfg+9Xrgs1rrSiCdu2lE1/G30trLudaKM/ALdUy0rNZyyCa87mWCh1o07s3IMsHIGoyi69xfq\n",
       "39sF0AD8llRmH2OKT+xRgcFnF5o3Y+nqy27zqY95qu9vFtF3Q+ytg+rYGThDcog7g4aNk2+ve2Cu\n",
       "4d53R2f8agQWe4EbACLgLBbUmPr0LSsemWdtP2RN0rXs6w+KMaQYDHw41Axfk2EMGXRMjsY41Awo\n",
       "DS3Yyy1G6bylT90jha2/i2A/hpUodymH0LnH06YHpSUoyTHuqKswoJpAHqd8W2mfizPOZmVmISGJ\n",
       "gNtmvd4WY0dIacYjx5bmZ3WlgUxXpeiSEcPpfTa0+Q1O74oydUjkABLVgAAAAP0BnuhqQr8AeZlT\n",
       "D2w1rOPAETAYgcddxS9/XNLv4JXGwyfls6i6a9naD+ToWii20NbfMVCx98IFbR0J9HmqHrPKk09k\n",
       "Fcf4bTpAzqb/EF1g115yNghMcFhX9XOH1EANrgNdocPzGSM0M8F9lKxHX7moCRKqYCl+tRWAEKLD\n",
       "rqVIqiXB33V+lRtVs2dWBFLtRddDGoWSWY3dvmS0cLg6dj05O9T2JwHchCoLwEH8U1uC5cLMDY1k\n",
       "K+5mEwtbLFWnHXMQ6/JclsS0SEOPq5N2YanmQI0cdX74BPw1sj4dLxF3lpY7fe/h6FHM20ncHXEs\n",
       "A+tsmTSidMBO0BDiqcEJAAAB4EGa60nhDyZTBTw7//6plgAnEhNBDYqsUMADsxuZSxV/zC7qTL4c\n",
       "xugEIIigjSzDUlJP8S0pRF8XTe9YU3uISvo/c8DGdJKaQ9yLhv3lShtcbtQtE2l7HKG4DC3dYlAH\n",
       "S0e6eswIQNmc3+jJUCmGYSWkO58OKkm7cQbzqPMbgreblsit/002DI55DAr6vqG+EKqL6vYn1/ut\n",
       "nBCBtt2t300jG6KRK+5s7pVOvUHWCcHQNNYfX74tFfOQO3jID23j1oajWN0vkUUJzUhSaZyqn4dw\n",
       "FFYNyPNRurlr0ikdP7nZNug77B3nYa3qLs9sGTQd/ITh5rbfc9xwbjLQQnouwjs58GvRcJ4nGL/4\n",
       "TwAc/Ay5vPTN6S5RmDJgXlgU4Dxc3YbUCBSvHbDg9lJg+MGqRPrc8yzsDxUt/TzNscqvJJYTu4t1\n",
       "DnJPTYV0+sZHDOnVxVO+buNHc/JnVwFMz7RgWQFxEIhVypbpBfIutmkp4flzLv5+tqlA/n0oEv5C\n",
       "8sKnFr/9zU5+P8abY4wN/izwAUQpVTpoxpkJiE0qorpxtjcYdYRz6r7A5GECoQwFRhTxS7w4VTVk\n",
       "kOdKrYlatHyw6UIe2KTkHqRdn8rx9ez6w7DbrsxxzON7jCo+mdrFYTGRkQAAAP8BnwpqQr8AfFkv\n",
       "KpMSp2ETfNoASUktN+B4/Sq/sMdQ0Z45By2awyj4KfqE6KE1NB2Jr87OAAUBa3dThfx85uKh3QVS\n",
       "jCkH2gYHxEB2HXuzJ9A2c60McmSkZ0Z4oi2Akx5cT9CkxEizatTxfeioiIgzGsYu0y2TF/bKzEEa\n",
       "rR3ghiOBAfhePYEZ30AAA2onRGSVjA/aHPjsOC3kryzZnVKYBcXyOS61GMl9stKdmrEZKJvBjKft\n",
       "EPj6sqi5RygAq/isjN6j1H0G0RoqPMFrcbNgJD+rTzY4qydCgH2a9ydWjaTxF8lXgdnTy8vpuna7\n",
       "5osGP7XGCRVyDZ/J6wJb0t4AAAHbQZsNSeEPJlMFPDv//qmWAEp+lw1MrzvW9lgBt7DR8b0Uk0Ca\n",
       "EwW0fIq5DM+eaWCR+JpE+IXY8589GyZSzVWGNhRtRvkZZI93E6T+ygflwC3T420fjlrY2MFm7gNT\n",
       "WHUjtaNH2WVuZxg65mz7BBRO+cZd7q78LXMhz5Pny4peq2d8ur6nTX8RnA1AjwK1SRnW7THZ/5rR\n",
       "4I/0A89J/lhx2bXMz4ewJaFGwSFCA/ygjiIuWBfog/wLGy8VO+U10gTh85enyiyBZzZlqEmKY4jm\n",
       "Tgj5HVguC+xzyxy6HTgZaJADyyb7LwuXlMEqttlVGE7DE60qm97ReTZIlkmZ3TL1Il6s/vDHvmMu\n",
       "uVVa/1ViDtnRJZr9R7Hf/Q6CRivtgIIJebkBKPEjrUNawiofa0wzXxp5W3RyF5zW8czfnaPg02eJ\n",
       "xLJzKeStTZp3G9jv2/4iCBIqrfUiX6ix/hMoMGSuhAm6JeaHJJkNAFP3GjslHgp68zbTomUnpS4u\n",
       "31wUduWroiP3eCCTRk82zf6BO206018acvlsD+BU+NBmss6RuckrgXnx/sEVuaLhFHpC8zdc5imJ\n",
       "AZPc9Pyc4QSdPncIEhfX9oWX+pluufS4AtT2FoNElG4glnoJLpIWkAAAAOQBnyxqQr8AfGuYVVH2\n",
       "Sxkwok2nMCW+AE5qyHxHmpZftHRtjnL2Wz2BkLpcac5duClGaRRiUuAINhl3UtpafD8rt6WpcC6d\n",
       "W0L8gg29ov2gSMH9RuDrxTxJM7c5W7XLdo54f86MWN15Z+LS6Bwd0vz6eaYMq553GNqE0vNCDwU6\n",
       "3WPPhTJf0VIhMnaWC4KWvgLMu++3txXShzsOaD8yYef8YNRht0XhrJJhplCeGsrFDC2D4FGjP6WR\n",
       "3PaCTCGvm3j43X3/tpJIZrBw+Voi23FSb7XtuviKfjkmbNjYOwaya0JMH5EAAAGoQZsvSeEPJlMF\n",
       "PDv//qmWACgUVH+UkdFsNTWBSgA2oNNyfwNUyxJmKjmCzO6ry+XDahh8Y1+XveobTPIG4pAi+0ll\n",
       "z8Ny6hRLY9c4BMfW0h8z2BGw+2YV6D7AcfdyyHBUyFgxQhEn4XnrUMPcvhpvK97qz4/hVLK/UMbD\n",
       "wRUbWD9fqJmyDUZzWJncb0ycMy62S6MPKTjOa08WHolDoxs9wKCUqq4pTvoTbfUohPqcx2I6fmVh\n",
       "8o4ckrpIEMH9qPs2P3jlX7fvNUN70bJGFaPNDXJN1+PE//rbWQCGfJ69lkS2FodeDKv8JGHbVFIV\n",
       "zouVyyzVgRwd7Ia5ct/D7EVrw2nN1XmNLdR/vomTJG06ES3JlUETm6TlEG+7B16xr038SQAFoBxH\n",
       "ErcSrVM+U4ZPCKAqvNX9uPMf6VBdK+n29GriGsCo3lSqT3H3CYfe+Z3u8mSOnCkR4jDtR1ErB6JF\n",
       "AELRw+U9NCq2fyIQdnOFcB7jNUKy8pae9DRBObqqTQgMQ7tzRC4tTzOYGGJ2Yv2pqFj/vKdy/WDQ\n",
       "zNeJmW53aWio9ZOXJWcXUQAAARgBn05qQr8AexYj/dbpxYPNzWYiAEm/AsZPufnpaEm//ttOOBrf\n",
       "vmaYFkuzpz0yPNdLemJV9//9aqUZFKzCak5MX6jasc4cQlr4v3pddwWdupoJ7hLeFR2LbhjIvCYJ\n",
       "z5FVhOqDNg46B0rwiizVsIXk/gC5ZEB6G01IKPhh3YgtD+CBzG5dCInhLDQgvxbrEnCznJJC+oWv\n",
       "Wm5sVaw3e98nFEj/pI4/v5v2cj9CSwwEeySfjB4YyccvHk3kuQduPdiVmXx1NG1pqbN3GstTYhvE\n",
       "Gqluu6KgLcQkgLJQFmodj8NXYYZfJJ0x3anugVzx6kpCc2EcB2Yo5ViaXKoQB1GOxcz2rk1n1nNn\n",
       "4sLcAVNCfuh5k6O7hAgJAAABo0GbUknhDyZTAh3//qmWACk6TkY2KgAnJKUgwrilNWMdYA682E+A\n",
       "RFBMK9wctRQVdkPP639VcPZ2yxalfuGxlwAjisnAqEM5hPwBWTdVQ2HMV0wt+qJ3BxmJ0ljO4t4r\n",
       "zR/tX9NZrQJXmGYfaTlqMC6d8Edt1R9OY6PEG9PltPcS1JT2mjvdudBfg1Q2J5AiCE+0P/euTG6I\n",
       "mcizEEy2ApY94SXPeAkl0Hj2Z7Gnfa7b1+gFR52Bw2Za26TXukGEg/VfskdOFRnYbPvn/o04fZpA\n",
       "JAlYxIuRiVnCTeF6/7Wpei8IyMGaKzqQxbDECekkEsYZqVcb6rD4FTK96o1g4JtiB2oQzwvjUv1R\n",
       "4ZqNXSxKqTLubcb5kbyUfU+fjbCY6yOPECkSCsavo7ioyA7GaobzYEY625VU0rQdf0KoGa6sZZuC\n",
       "FbhOymVvVBs5WFRKtFGGGvhwstn0ZyZ3+B6uutcmUIueqq4+A03/+vyQRWlG8hzjA1YZ0da29/Io\n",
       "g8cdufXgI4O/YJ821OUusrp2eS3VZxjfgafStfAqF9qJkVZueCXgAAAA8EGfcUIV/wB7FiP91uvA\n",
       "n3CX9qELzAmzdaABOyL6mAReB2jl9lHQxKiQFOUjJsDkowE9UH5rJtAvzaP+AwF4rOJflSdHMfnr\n",
       "58W86hpVXt7yNrfboyqYs2aEyUMG5CryXKPFq4ENp/FQ0xTWZbLFwRMAkNQpBczpdDXIoANqT/3G\n",
       "CT2aZmMV7wvodRKSHNXtca1G5SBwBiOOo2Nip2WTCjo/LdQUGCfUe/5/OqGICd9Fjb45CYiGL7ow\n",
       "G2PxlOEAQc2k42QfBiXGDgWT8ccq2v8Tt2llt6EiN9iiWBQuf2DgL0yFhIJKZddUkFoXheNjNgAA\n",
       "AN4Bn5BpEK8AexYqfKuMMeVkcgpXGfpUAH8BRuWdIhG80wx9B13vmdUHF1/D+r+PvaTPRH+Xqefl\n",
       "sqSFqxZnIt9fOUJrqt7fe0IBzp3rLGCbmTBPDe4SlbLa4lwH0e5uh1Lu44tKJSZm6LkF8IoTkt62\n",
       "l7xcbwwdTGcRLh+efsoWYNvVSIiRqCnQRqeJpXRhtpQXOAykxbyqw0LsPxdbeULMUu32SErSEMF4\n",
       "o7d8p8U6HmnoBMphB1aAP41aEhGgwLBW5KTDr8YJr5R6Hi2kclgPlq3VQOQzPl34H7WFBS0AAAFk\n",
       "QZuUSahBaJlMFETw3/6nhABSHdye7joAP1gctOHfIp8yKaOHrGCFBT3sDQI67MNfVd6pvCXfLW64\n",
       "ozm942t1VEL2KCu0e0FzKYrEVQ0Q41uOr7c/ecZDw60zEWTEU7qabZKjlHb59v//PytQHN8aetyK\n",
       "tW6TF3UJxLLPPPdqAu+1/N7E6eRFOG5iFex8XpbPGsdBv5sjK7gZJUNmsR/3zzJfYsBmadYR5qAU\n",
       "+nfwWH8MKu7X94Jui9f7YAtdZGnHz5CEd1UwnpvhNTEU3ZoDePRYFFCY0Y4zZuKRlsta1coI7MjN\n",
       "/jQgTDqtIxZ5hg42IEvLQmIen8z0HHx7bjkZSIX51iArhdF0eOHVDCuow1R8yYLXRlWuCZJfRdkX\n",
       "l4TZykn/9JT0a5909wLQQehAWRlyjpnY3VrE7gwCc2bQ0ipULC4GQBfJUp3PYXb6kNegYUnnPVBI\n",
       "s5NkSgKCY/0hn8g1AvIAAADTAZ+zakK/AH8YrJ1VKxFE1QGaE+oASyCkXc88C8howwHOeWyoOTQ3\n",
       "3Su65SyXhzpNASfsAgtK8+G2HQZTs8OD5G1KUbHtv7QQH8ZbT/uVQTxdjg+gAiT3OpC0ym4tW1QK\n",
       "qPu8phKhwfor1pE9u/H+7BlTJ247KJjbo4rI2MrQ6eFX07R/zrIOyjcBXhED0T1t9zRqnWw/G4fc\n",
       "YIpABB0BoubgexZ5/itwTscIKUVV2EWmiwWoi2CYVCAaYrd3UgsZkmUZFpLGfZrPuNA1U6patQ7T\n",
       "7gAAARBBm7VJ4QpSZTAh3/6plgApbmBGbU8YAHXvRV49Wee9I7DXrwSprd3U+dDzWfh+fSIA4x1r\n",
       "u0KJj00SjfnQN7fk4rOzKxk+Az4X5vedvlDmL6i+HjxA3CEG3/RnIrwuASzH/bhbxrVLVOkhlB1t\n",
       "taRPU/coLNLiWvrGF6+FjldXRga5CqYsC0UxoJEbAbO0WrsjOJZZyLGMAxLXXDFd6HjG1fxKaS/P\n",
       "NT/luRweHdJfPP0ruNaHvBK4ywqrxI1NRH0b+bTAKEMAHSSq+abc65V9ugnxdUnVA+EDjxdSweD9\n",
       "wno5QaoaLd37ujPL0ppywuIOFjIUVZs7UoTJuNjEwQL2IRHNqvD3KVwGmv7Xx/+/NQAAAURBm9hJ\n",
       "4Q6JlMCHf/6plgAqWk2o3wAbVdDOX1vCvmPkMxxyyQ0LYf5Ag9mtfRXVN2YdBBXyY6/QwQbaNABn\n",
       "nRuM0e8VuwzZ8XvME2mytdecjW/VhIwm8E3SkKGm1Upnd5K1EggU0XKb0VDR1PQtpeHrhGmOcVmb\n",
       "yUQxUuhMgvNPIR+IVkQ2bX8y3VXQdFoCEgwb14E0wbRYsYMDGH1kV8H2Vk0KrapWIpg1lU0RDeag\n",
       "VbRdIxKpAUjvviPXJmIEy5sQupUQyz+Vjt3wuLLJjfDBkeTVPKqsI27ShBBIYCCQ9Ieyaq9Wyech\n",
       "3+zEY3Waj1kpXDItwKVPa9hjqMmC9RGbAL4FPYHUN6aUoABfQalwoZudHZ+q/uzZAiuYyxrhKKUI\n",
       "F1921QyNniG1cPVgQbb3MzuMQ+FBPPDz/zr8fMNgjEhNynoAAAC8QZ/3QhX/AIMGUTCfi+ox/YQ6\n",
       "ADjTOtXGvm0CnH+0mfOzdFukoEmNPl3OztKXGbt6ABdZO9Ta7A9M7+3fY67ZAMU+RDPE4HgX76Xd\n",
       "bHXzZ41P2f3h8l0kKa9JdD0ioqHWLK4d0OUAXp8BY3EcLlk7HuEqgK44r1zpvbjb5bEw5JoP2vNd\n",
       "tTmWaFj7QlUfCRUFpVbTNeZKdAQrtHIj//p3FvfuRCPctfwXvSut7d+4VMnMUa6S7FaQKnomHREA\n",
       "AADDAZ4WaRCvAIMGFk8J/jgl+9GRxIDBJ9TnIhImkAJ27n7p0eeLhFwuDYfvACqmgrGK1AHd7cnB\n",
       "0R4w4tLnlfJLBS0I0sdY5zsIZxmEhKMnVpwjf9RFL1tldU0fMzExCN32kqu73V5q2qCKMUmbZ4HX\n",
       "RniKvQYBCP3hXP3KiWf6SYTwhLMe1CpcVKGFLqcH7g4KbkXnEfEr34A+oigPrlrQpM9yp7BaffDe\n",
       "I8dudhZVwEh8L8vYaQeK3Qbyf/EyDfrNXmIzAAABfkGaHEmoQWiZTAhn//6eEAJ989+nLgxpoC6A\n",
       "lAALjG1Ta08VKllL2QC2gyVkG6I/Pkc6dPFoHN/mDyF8VfKHX9JmIoi+Lvk2ctjp6Jy4vQmj3XWS\n",
       "mnrz65BGopr9XFZI9dGSXXwKsjnZYtMnu2GliXF8JTwWPE8pk2LqKn2R2Ef0yE7kFQ3RonHjulIJ\n",
       "OcmPqYzNo7iLRuSSRnU/j84RcWqe68edOEPMTg9t4uF2GIhf5hXAMgCPLj37tXE4HI5yIKhJjG2e\n",
       "D+ynQyhHhTb/R02mRNL8W68hXIJN/qGVG4pIO9belKb3ns+2mo346xQoIx0sdxwfumksWnG/27Rz\n",
       "3foQqZ8GQq3Ac/t5pBuHnnMRsixgGWEP00++/qxFBS4MoM4W6UQB06dibIdDFnSKUjuG5SeQ/UuQ\n",
       "qbqb1JtXzQ3wDcFKsoK78YOwR+LCarqqFc0zO7BjONuiS5Mm+h4+M8OTLQ3G9Tpgjo2mFhHtiWCZ\n",
       "JYwxfDbkSOwZpY8ZaTgAAAEaQZ46RREsM/8ASW36X5SC/JL4RzRPx3QX2XJdr5yACdLILE4zp4C2\n",
       "DhWWTNC1zIU+iRu0v2rnaJV0nAWS0Dsn/dPcyhluDxBnya6u6VhShKl+N47Zf65WeyL7jY+Pr0qh\n",
       "nhHxfkySgCSkSugbnCQgCe2YwhqNU1M5nCNMAVLwMWAGPGTt96etLMOrJrvGe7wFR0e/bxMfJwGy\n",
       "7kDxgCBQYCGcmEdlzAsvEfKxb1pKfmHOnc0txrgL13DiibgcBdqkJU6JCO4qguh4iqZkjga5E9VC\n",
       "D78tmzAx8y7JQEygGSn+T5YzTdrHKAEPhYkMuB+bI4JeFnJvWUz/nGb6+kf9FTfUX+JYUvhBcjJ1\n",
       "hv55/O0wyD0wYU5u3k1BAAAAmAGeWXRCvwCG9sKq4UknalzSkgXgEKAB9CZWgaurBrZaur3Agcl4\n",
       "ISE/KG/hzsTFrQ8zhXoExL3qRgSejA6K7F4J0AmN3gTmpjs8Jp216xsFis89WIwMWUSrulokPV6S\n",
       "9vmwG1Io3ekwlZTZXvh1+rcoyvtnutJ45jOawdx1ueJnc2r3xHRkQnEdbfm1xAlujdEfMOeEIJWA\n",
       "AAAArwGeW2pCvwCHBhZOa1/c1OAOYdyV1Fl5WlkAx402Pqb9JxJy/N3lXKtkeaNsi0WTkCdjDlQF\n",
       "CFIPaOrmqXd/hD1ovcRxGh3bTFuhojbdgYGxn4v5YAnG4xHqC0vjgDRmB0l7bYSskdJwwRABNmap\n",
       "BGZ6NUa3DgjSsALrbiTeZI4a4vA6LK/3asHXZ8u0hPejoI8pPCyD89Uzhran8rY7focKK04mFQ8C\n",
       "kwmOQhIZQEEAAADSQZpdSahBbJlMCFf//jhABRpiH4uQAmn/u3JRRB+oRQhjTBkywRRk5v/3iglA\n",
       "wsU1ElqkhYKWI6teZsdkOTLr4FzyvmOq8sBxTjvs26qC+6CErc08hF1JUhLvKrfENYijsxpBGAAQ\n",
       "gCxyUrPoHBuP7y+jB75fJ8DvlpDfGfhHeCPFof3xFacMztGpBcCTQIVBHnIjfCR9UrvnsRpBnNOo\n",
       "8BaYL26V0vSzpT51Ju2j8X7ahhaLNrIHEbjwPsJkrEFKpC4d0BVttkrh14H7tQ/v3k1JAAAEhm1v\n",
       "b3YAAABsbXZoZAAAAAAAAAAAAAAAAAAAA+gAAAXcAAEAAAEAAAAAAAAAAAAAAAABAAAAAAAAAAAA\n",
       "AAAAAAAAAQAAAAAAAAAAAAAAAAAAQAAAAAAAAAAAAAAAAAAAAAAAAAAAAAAAAAAAAAAAAAIAAAOw\n",
       "dHJhawAAAFx0a2hkAAAAAwAAAAAAAAAAAAAAAQAAAAAAAAXcAAAAAAAAAAAAAAAAAAAAAAABAAAA\n",
       "AAAAAAAAAAAAAAAAAQAAAAAAAAAAAAAAAAAAQAAAAAGwAAABIAAAAAAAJGVkdHMAAAAcZWxzdAAA\n",
       "AAAAAAABAAAF3AAABAAAAQAAAAADKG1kaWEAAAAgbWRoZAAAAAAAAAAAAAAAAAAAKAAAADwAVcQA\n",
       "AAAAAC1oZGxyAAAAAAAAAAB2aWRlAAAAAAAAAAAAAAAAVmlkZW9IYW5kbGVyAAAAAtNtaW5mAAAA\n",
       "FHZtaGQAAAABAAAAAAAAAAAAAAAkZGluZgAAABxkcmVmAAAAAAAAAAEAAAAMdXJsIAAAAAEAAAKT\n",
       "c3RibAAAALNzdHNkAAAAAAAAAAEAAACjYXZjMQAAAAAAAAABAAAAAAAAAAAAAAAAAAAAAAGwASAA\n",
       "SAAAAEgAAAAAAAAAAQAAAAAAAAAAAAAAAAAAAAAAAAAAAAAAAAAAAAAAAAAAABj//wAAADFhdmND\n",
       "AWQAFf/hABhnZAAVrNlBsJaEAAADAAQAAAMAoDxYtlgBAAZo6+PLIsAAAAAcdXVpZGtoQPJfJE/F\n",
       "ujmlG88DI/MAAAAAAAAAGHN0dHMAAAAAAAAAAQAAAB4AAAIAAAAAFHN0c3MAAAAAAAAAAQAAAAEA\n",
       "AADwY3R0cwAAAAAAAAAcAAAAAwAABAAAAAABAAAGAAAAAAEAAAIAAAAAAQAABgAAAAABAAACAAAA\n",
       "AAEAAAQAAAAAAQAABgAAAAABAAACAAAAAAEAAAYAAAAAAQAAAgAAAAABAAAGAAAAAAEAAAIAAAAA\n",
       "AQAABgAAAAABAAACAAAAAAEAAAgAAAAAAQAABAAAAAABAAAAAAAAAAEAAAYAAAAAAQAAAgAAAAAB\n",
       "AAAEAAAAAAEAAAgAAAAAAQAABAAAAAABAAAAAAAAAAEAAAoAAAAAAQAABAAAAAABAAAAAAAAAAEA\n",
       "AAIAAAAAAQAABAAAAAAcc3RzYwAAAAAAAAABAAAAAQAAAB4AAAABAAAAjHN0c3oAAAAAAAAAAAAA\n",
       "AB4AAA0hAAAB/wAAAZAAAAIFAAABEQAAAgMAAAE1AAAB+gAAAb8AAAEBAAAB5AAAAQMAAAHfAAAA\n",
       "6AAAAawAAAEcAAABpwAAAPQAAADiAAABaAAAANcAAAEUAAABSAAAAMAAAADHAAABggAAAR4AAACc\n",
       "AAAAswAAANYAAAAUc3RjbwAAAAAAAAABAAAALAAAAGJ1ZHRhAAAAWm1ldGEAAAAAAAAAIWhkbHIA\n",
       "AAAAAAAAAG1kaXJhcHBsAAAAAAAAAAAAAAAALWlsc3QAAAAlqXRvbwAAAB1kYXRhAAAAAQAAAABM\n",
       "YXZmNTYuNDAuMTAx\n",
       "\">\n",
       "  Your browser does not support the video tag.\n",
       "</video>"
      ],
      "text/plain": [
       "<IPython.core.display.HTML object>"
      ]
     },
     "execution_count": 14,
     "metadata": {},
     "output_type": "execute_result"
    }
   ],
   "source": [
    "anim = animation.FuncAnimation(fig, animate, frames=rho_n, interval=50)\n",
    "HTML(anim.to_html5_video())"
   ]
  },
  {
   "cell_type": "markdown",
   "metadata": {},
   "source": [
    "This MUSCL scheme does not show any of the oscillations you might see with MacCormack or Lax-Wendroff, but the features are not as sharp. Using the _minmod_ slopes led to some smearing of the shock, which motivated many researchers to investigate other options. Bucketloads of so-called _shock-capturing_ schemes exist and whole books are written on this topic. Some people dedicate their lives to developing numerical methods for hyperbolic equations!"
   ]
  },
  {
   "cell_type": "markdown",
   "metadata": {},
   "source": [
    "##### Challenge task"
   ]
  },
  {
   "cell_type": "markdown",
   "metadata": {},
   "source": [
    "* Go back to Sod! Calculate the shock-tube problem using the MUSCL scheme and compare with your previous results. What do think?"
   ]
  },
  {
   "cell_type": "markdown",
   "metadata": {},
   "source": [
    "## References"
   ]
  },
  {
   "cell_type": "markdown",
   "metadata": {},
   "source": [
    "* Godunov, S.K. (1959), \"A difference scheme for numerical computation of discontinuous solutions of equations of fluid dynamics,\" _Math. Sbornik_, Vol. 47, pp. 271–306.\n",
    "\n",
    "* van Leer, Bram (1979), \"Towards the ultimate conservative difference scheme, V. A second-order sequel to Godunov's method,\" _J. Comput. Phys._, Vol. 32, pp. 101–136\n",
    "\n",
    "* van Leer, B., J.L. Thomas, P.L. Roe, R.W. Newsome (1987). \"A comparison of numerical flux formulas for the Euler and Navier-Stokes equations,\" AIAA paper 87-1104 // [PDF from umich.edu](http://deepblue.lib.umich.edu/bitstream/handle/2027.42/76365/AIAA-1987-1104-891.pdf), checked 11/01/14.\n",
    "\n",
    "* Shu, Chi-Wang and Osher, Stanley (1988). \"Efficient implementation of essentially non-oscillatory shock-capturing schemes,\" _J. Comput. Phys._, Vol. 77, pp. 439–471 // [PDF from NASA Tech. Report server](http://ntrs.nasa.gov/archive/nasa/casi.ntrs.nasa.gov/19870013797.pdf)"
   ]
  },
  {
   "cell_type": "markdown",
   "metadata": {},
   "source": [
    "---\n",
    "\n",
    "###### The cell below loads the style of the notebook."
   ]
  },
  {
   "cell_type": "code",
   "execution_count": 1,
   "metadata": {
    "collapsed": false
   },
   "outputs": [
    {
     "data": {
      "text/html": [
       "<link href='http://fonts.googleapis.com/css?family=Alegreya+Sans:100,300,400,500,700,800,900,100italic,300italic,400italic,500italic,700italic,800italic,900italic' rel='stylesheet' type='text/css'>\n",
       "<link href='http://fonts.googleapis.com/css?family=Arvo:400,700,400italic' rel='stylesheet' type='text/css'>\n",
       "<link href='http://fonts.googleapis.com/css?family=PT+Mono' rel='stylesheet' type='text/css'>\n",
       "<link href='http://fonts.googleapis.com/css?family=Shadows+Into+Light' rel='stylesheet' type='text/css'>\n",
       "<link href='http://fonts.googleapis.com/css?family=Nixie+One' rel='stylesheet' type='text/css'>\n",
       "<link href='https://fonts.googleapis.com/css?family=Source+Code+Pro' rel='stylesheet' type='text/css'>\n",
       "<style>\n",
       "\n",
       "@font-face {\n",
       "    font-family: \"Computer Modern\";\n",
       "    src: url('http://mirrors.ctan.org/fonts/cm-unicode/fonts/otf/cmunss.otf');\n",
       "}\n",
       "\n",
       "#notebook_panel { /* main background */\n",
       "    background: rgb(245,245,245);\n",
       "}\n",
       "\n",
       "div.cell { /* set cell width */\n",
       "    width: 750px;\n",
       "}\n",
       "\n",
       "div #notebook { /* centre the content */\n",
       "    background: #fff; /* white background for content */\n",
       "    width: 1000px;\n",
       "    margin: auto;\n",
       "    padding-left: 0em;\n",
       "}\n",
       "\n",
       "#notebook li { /* More space between bullet points */\n",
       "    margin-top:0.8em;\n",
       "}\n",
       "\n",
       "/* draw border around running cells */\n",
       "div.cell.border-box-sizing.code_cell.running { \n",
       "    border: 1px solid #111;\n",
       "}\n",
       "\n",
       "/* Put a solid color box around each cell and its output, visually linking them*/\n",
       "div.cell.code_cell {\n",
       "    background-color: rgb(256,256,256); \n",
       "    border-radius: 0px; \n",
       "    padding: 0.5em;\n",
       "    margin-left:1em;\n",
       "    margin-top: 1em;\n",
       "}\n",
       "\n",
       "div.text_cell_render{\n",
       "    font-family: 'Alegreya Sans' sans-serif;\n",
       "    line-height: 140%;\n",
       "    font-size: 125%;\n",
       "    font-weight: 400;\n",
       "    width:600px;\n",
       "    margin-left:auto;\n",
       "    margin-right:auto;\n",
       "}\n",
       "\n",
       "\n",
       "/* Formatting for header cells */\n",
       ".text_cell_render h1 {\n",
       "    font-family: 'Nixie One', serif;\n",
       "    font-style:regular;\n",
       "    font-weight: 400;    \n",
       "    font-size: 45pt;\n",
       "    line-height: 100%;\n",
       "    color: rgb(0,51,102);\n",
       "    margin-bottom: 0.5em;\n",
       "    margin-top: 0.5em;\n",
       "    display: block;\n",
       "}\n",
       "\n",
       ".text_cell_render h2 {\n",
       "    font-family: 'Nixie One', serif;\n",
       "    font-weight: 400;\n",
       "    font-size: 30pt;\n",
       "    line-height: 100%;\n",
       "    color: rgb(0,51,102);\n",
       "    margin-bottom: 0.1em;\n",
       "    margin-top: 0.3em;\n",
       "    display: block;\n",
       "}\t\n",
       "\n",
       ".text_cell_render h3 {\n",
       "    font-family: 'Nixie One', serif;\n",
       "    margin-top:16px;\n",
       "    font-size: 22pt;\n",
       "    font-weight: 600;\n",
       "    margin-bottom: 3px;\n",
       "    font-style: regular;\n",
       "    color: rgb(102,102,0);\n",
       "}\n",
       "\n",
       ".text_cell_render h4 {    /*Use this for captions*/\n",
       "    font-family: 'Nixie One', serif;\n",
       "    font-size: 14pt;\n",
       "    text-align: center;\n",
       "    margin-top: 0em;\n",
       "    margin-bottom: 2em;\n",
       "    font-style: regular;\n",
       "}\n",
       "\n",
       ".text_cell_render h5 {  /*Use this for small titles*/\n",
       "    font-family: 'Nixie One', sans-serif;\n",
       "    font-weight: 400;\n",
       "    font-size: 16pt;\n",
       "    color: rgb(163,0,0);\n",
       "    font-style: italic;\n",
       "    margin-bottom: .1em;\n",
       "    margin-top: 0.8em;\n",
       "    display: block;\n",
       "}\n",
       "\n",
       ".text_cell_render h6 { /*use this for copyright note*/\n",
       "    font-family: 'PT Mono', sans-serif;\n",
       "    font-weight: 300;\n",
       "    font-size: 9pt;\n",
       "    line-height: 100%;\n",
       "    color: grey;\n",
       "    margin-bottom: 1px;\n",
       "    margin-top: 1px;\n",
       "}\n",
       "\n",
       ".CodeMirror{\n",
       "    font-family: \"Source Code Pro\";\n",
       "    font-size: 90%;\n",
       "}\n",
       "\n",
       ".alert-box {\n",
       "    padding:10px 10px 10px 36px;\n",
       "    margin:5px;\n",
       "}\n",
       "\n",
       ".success {\n",
       "    color:#666600;\n",
       "    background:rgb(240,242,229);\n",
       "}\n",
       "</style>\n",
       "<script>\n",
       "    MathJax.Hub.Config({\n",
       "                        TeX: {\n",
       "                           extensions: [\"AMSmath.js\"],\n",
       "                           equationNumbers: { autoNumber: \"AMS\", useLabelIds: true}\n",
       "                           },\n",
       "                tex2jax: {\n",
       "                    inlineMath: [ ['$','$'], [\"\\\\(\",\"\\\\)\"] ],\n",
       "                    displayMath: [ ['$$','$$'], [\"\\\\[\",\"\\\\]\"] ]\n",
       "                },\n",
       "                displayAlign: 'center', // Change this to 'center' to center equations.\n",
       "                \"HTML-CSS\": {\n",
       "                    styles: {'.MathJax_Display': {\"margin\": 4}}\n",
       "                }\n",
       "        });\n",
       "</script>\n"
      ],
      "text/plain": [
       "<IPython.core.display.HTML object>"
      ]
     },
     "execution_count": 1,
     "metadata": {},
     "output_type": "execute_result"
    }
   ],
   "source": [
    "from IPython.core.display import HTML\n",
    "css_file = '../../styles/numericalmoocstyle.css'\n",
    "HTML(open(css_file, \"r\").read())"
   ]
  },
  {
   "cell_type": "code",
   "execution_count": null,
   "metadata": {
    "collapsed": true
   },
   "outputs": [],
   "source": []
  }
 ],
 "metadata": {
  "kernelspec": {
   "display_name": "Python 3",
   "language": "python",
   "name": "python3"
  },
  "language_info": {
   "codemirror_mode": {
    "name": "ipython",
    "version": 3
   },
   "file_extension": ".py",
   "mimetype": "text/x-python",
   "name": "python",
   "nbconvert_exporter": "python",
   "pygments_lexer": "ipython3",
   "version": "3.6.0"
  }
 },
 "nbformat": 4,
 "nbformat_minor": 0
}
